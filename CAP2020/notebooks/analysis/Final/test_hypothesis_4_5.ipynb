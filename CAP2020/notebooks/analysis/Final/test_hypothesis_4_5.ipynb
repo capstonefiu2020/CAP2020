{
 "cells": [
  {
   "cell_type": "markdown",
   "metadata": {},
   "source": [
    "## Hyphothesis 4/5: \n",
    "### The alternaive portfolio will have a return >0.0 and will outperform the Control Portfolios (30 random stocks sected from 2 pools) in 2019 and 2020"
   ]
  },
  {
   "cell_type": "markdown",
   "metadata": {},
   "source": [
    "## Criteria for Alternative Portfolio:\n",
    "### Return during 9/2008-12/2008 > MKT return during the same time"
   ]
  },
  {
   "cell_type": "code",
   "execution_count": 107,
   "metadata": {},
   "outputs": [
    {
     "data": {
      "text/html": [
       "<style>.container { width:90% !important; }</style>"
      ],
      "text/plain": [
       "<IPython.core.display.HTML object>"
      ]
     },
     "metadata": {},
     "output_type": "display_data"
    }
   ],
   "source": [
    "from IPython.core.display import display, HTML\n",
    "display(HTML(\"<style>.container { width:90% !important; }</style>\"))"
   ]
  },
  {
   "cell_type": "markdown",
   "metadata": {},
   "source": [
    "### import prices and return data"
   ]
  },
  {
   "cell_type": "code",
   "execution_count": 1,
   "metadata": {},
   "outputs": [],
   "source": [
    "import pandas as pd\n",
    "import numpy as np\n",
    "import matplotlib.pyplot as plt\n",
    "import os"
   ]
  },
  {
   "cell_type": "code",
   "execution_count": 141,
   "metadata": {},
   "outputs": [],
   "source": [
    "from random import shuffle\n",
    "import random\n",
    "import seaborn as sns"
   ]
  },
  {
   "cell_type": "code",
   "execution_count": 3,
   "metadata": {},
   "outputs": [],
   "source": [
    "os.chdir('C:\\\\Users\\\\A Sua\\\\Documents\\\\FIU\\\\CAP2020')"
   ]
  },
  {
   "cell_type": "code",
   "execution_count": 23,
   "metadata": {},
   "outputs": [],
   "source": [
    "df_price = pd.read_csv('data\\\\processed\\\\df_price07_20.csv')\n",
    "df_return = pd.read_csv('data\\\\processed\\\\df_return7_20.csv')\n",
    "\n",
    "df_price.rename(columns={'Unnamed: 0': 'date'}, inplace=True)\n",
    "df_return.rename(columns={'Unnamed: 0': 'date'}, inplace=True)\n",
    "\n",
    "df_price.index = pd.to_datetime(df_price['date'])\n",
    "df_return.index = pd.to_datetime(df_return['date'])\n",
    "\n",
    "df_price = df_price.drop('date', axis=1)\n",
    "df_return = df_return.drop('date', axis=1)"
   ]
  },
  {
   "cell_type": "code",
   "execution_count": 33,
   "metadata": {},
   "outputs": [
    {
     "data": {
      "text/html": [
       "<div>\n",
       "<style scoped>\n",
       "    .dataframe tbody tr th:only-of-type {\n",
       "        vertical-align: middle;\n",
       "    }\n",
       "\n",
       "    .dataframe tbody tr th {\n",
       "        vertical-align: top;\n",
       "    }\n",
       "\n",
       "    .dataframe thead th {\n",
       "        text-align: right;\n",
       "    }\n",
       "</style>\n",
       "<table border=\"1\" class=\"dataframe\">\n",
       "  <thead>\n",
       "    <tr style=\"text-align: right;\">\n",
       "      <th></th>\n",
       "      <th>Open</th>\n",
       "      <th>High</th>\n",
       "      <th>Low</th>\n",
       "      <th>Close</th>\n",
       "      <th>Volume</th>\n",
       "      <th>Return</th>\n",
       "    </tr>\n",
       "    <tr>\n",
       "      <th>date</th>\n",
       "      <th></th>\n",
       "      <th></th>\n",
       "      <th></th>\n",
       "      <th></th>\n",
       "      <th></th>\n",
       "      <th></th>\n",
       "    </tr>\n",
       "  </thead>\n",
       "  <tbody>\n",
       "    <tr>\n",
       "      <th>2020-03-24</th>\n",
       "      <td>2344.4399</td>\n",
       "      <td>2400.6001</td>\n",
       "      <td>2344.4399</td>\n",
       "      <td>2398.0901</td>\n",
       "      <td>1.597733e+09</td>\n",
       "      <td>0.022884</td>\n",
       "    </tr>\n",
       "  </tbody>\n",
       "</table>\n",
       "</div>"
      ],
      "text/plain": [
       "                 Open       High        Low      Close        Volume    Return\n",
       "date                                                                          \n",
       "2020-03-24  2344.4399  2400.6001  2344.4399  2398.0901  1.597733e+09  0.022884"
      ]
     },
     "execution_count": 33,
     "metadata": {},
     "output_type": "execute_result"
    }
   ],
   "source": [
    "dfsp = pd.read_csv('data\\\\external\\\\SP500_07_20.csv')\n",
    "dfsp.index = pd.to_datetime(dfsp['date'])\n",
    "dfsp = dfsp.drop('date', axis=1)\n",
    "dfsp.head(1)"
   ]
  },
  {
   "cell_type": "code",
   "execution_count": 28,
   "metadata": {},
   "outputs": [
    {
     "data": {
      "text/html": [
       "<div>\n",
       "<style scoped>\n",
       "    .dataframe tbody tr th:only-of-type {\n",
       "        vertical-align: middle;\n",
       "    }\n",
       "\n",
       "    .dataframe tbody tr th {\n",
       "        vertical-align: top;\n",
       "    }\n",
       "\n",
       "    .dataframe thead th {\n",
       "        text-align: right;\n",
       "    }\n",
       "</style>\n",
       "<table border=\"1\" class=\"dataframe\">\n",
       "  <thead>\n",
       "    <tr style=\"text-align: right;\">\n",
       "      <th></th>\n",
       "      <th>A</th>\n",
       "      <th>AAL</th>\n",
       "      <th>AAP</th>\n",
       "      <th>AAPL</th>\n",
       "      <th>ABC</th>\n",
       "      <th>ABMD</th>\n",
       "      <th>ABT</th>\n",
       "      <th>ACN</th>\n",
       "      <th>ADBE</th>\n",
       "      <th>ADI</th>\n",
       "      <th>...</th>\n",
       "      <th>WYNN</th>\n",
       "      <th>XEC</th>\n",
       "      <th>XEL</th>\n",
       "      <th>XLNX</th>\n",
       "      <th>XOM</th>\n",
       "      <th>XRAY</th>\n",
       "      <th>XRX</th>\n",
       "      <th>YUM</th>\n",
       "      <th>ZBH</th>\n",
       "      <th>ZION</th>\n",
       "    </tr>\n",
       "    <tr>\n",
       "      <th>date</th>\n",
       "      <th></th>\n",
       "      <th></th>\n",
       "      <th></th>\n",
       "      <th></th>\n",
       "      <th></th>\n",
       "      <th></th>\n",
       "      <th></th>\n",
       "      <th></th>\n",
       "      <th></th>\n",
       "      <th></th>\n",
       "      <th></th>\n",
       "      <th></th>\n",
       "      <th></th>\n",
       "      <th></th>\n",
       "      <th></th>\n",
       "      <th></th>\n",
       "      <th></th>\n",
       "      <th></th>\n",
       "      <th></th>\n",
       "      <th></th>\n",
       "      <th></th>\n",
       "    </tr>\n",
       "  </thead>\n",
       "  <tbody>\n",
       "    <tr>\n",
       "      <th>2020-03-20</th>\n",
       "      <td>66.46</td>\n",
       "      <td>10.38</td>\n",
       "      <td>75.03</td>\n",
       "      <td>229.24</td>\n",
       "      <td>80.61</td>\n",
       "      <td>130.51</td>\n",
       "      <td>68.0</td>\n",
       "      <td>149.94</td>\n",
       "      <td>295.34</td>\n",
       "      <td>85.08</td>\n",
       "      <td>...</td>\n",
       "      <td>51.97</td>\n",
       "      <td>14.8</td>\n",
       "      <td>50.63</td>\n",
       "      <td>71.86</td>\n",
       "      <td>32.74</td>\n",
       "      <td>32.82</td>\n",
       "      <td>16.45</td>\n",
       "      <td>58.08</td>\n",
       "      <td>85.98</td>\n",
       "      <td>25.58</td>\n",
       "    </tr>\n",
       "  </tbody>\n",
       "</table>\n",
       "<p>1 rows × 415 columns</p>\n",
       "</div>"
      ],
      "text/plain": [
       "                A    AAL    AAP    AAPL    ABC    ABMD   ABT     ACN    ADBE  \\\n",
       "date                                                                           \n",
       "2020-03-20  66.46  10.38  75.03  229.24  80.61  130.51  68.0  149.94  295.34   \n",
       "\n",
       "              ADI  ...   WYNN   XEC    XEL   XLNX    XOM   XRAY    XRX    YUM  \\\n",
       "date               ...                                                          \n",
       "2020-03-20  85.08  ...  51.97  14.8  50.63  71.86  32.74  32.82  16.45  58.08   \n",
       "\n",
       "              ZBH   ZION  \n",
       "date                      \n",
       "2020-03-20  85.98  25.58  \n",
       "\n",
       "[1 rows x 415 columns]"
      ]
     },
     "execution_count": 28,
     "metadata": {},
     "output_type": "execute_result"
    }
   ],
   "source": [
    "df_price.head(1)"
   ]
  },
  {
   "cell_type": "code",
   "execution_count": 29,
   "metadata": {},
   "outputs": [
    {
     "data": {
      "text/html": [
       "<div>\n",
       "<style scoped>\n",
       "    .dataframe tbody tr th:only-of-type {\n",
       "        vertical-align: middle;\n",
       "    }\n",
       "\n",
       "    .dataframe tbody tr th {\n",
       "        vertical-align: top;\n",
       "    }\n",
       "\n",
       "    .dataframe thead th {\n",
       "        text-align: right;\n",
       "    }\n",
       "</style>\n",
       "<table border=\"1\" class=\"dataframe\">\n",
       "  <thead>\n",
       "    <tr style=\"text-align: right;\">\n",
       "      <th></th>\n",
       "      <th>A</th>\n",
       "      <th>AAL</th>\n",
       "      <th>AAP</th>\n",
       "      <th>AAPL</th>\n",
       "      <th>ABC</th>\n",
       "      <th>ABMD</th>\n",
       "      <th>ABT</th>\n",
       "      <th>ACN</th>\n",
       "      <th>ADBE</th>\n",
       "      <th>ADI</th>\n",
       "      <th>...</th>\n",
       "      <th>WYNN</th>\n",
       "      <th>XEC</th>\n",
       "      <th>XEL</th>\n",
       "      <th>XLNX</th>\n",
       "      <th>XOM</th>\n",
       "      <th>XRAY</th>\n",
       "      <th>XRX</th>\n",
       "      <th>YUM</th>\n",
       "      <th>ZBH</th>\n",
       "      <th>ZION</th>\n",
       "    </tr>\n",
       "    <tr>\n",
       "      <th>date</th>\n",
       "      <th></th>\n",
       "      <th></th>\n",
       "      <th></th>\n",
       "      <th></th>\n",
       "      <th></th>\n",
       "      <th></th>\n",
       "      <th></th>\n",
       "      <th></th>\n",
       "      <th></th>\n",
       "      <th></th>\n",
       "      <th></th>\n",
       "      <th></th>\n",
       "      <th></th>\n",
       "      <th></th>\n",
       "      <th></th>\n",
       "      <th></th>\n",
       "      <th></th>\n",
       "      <th></th>\n",
       "      <th></th>\n",
       "      <th></th>\n",
       "      <th></th>\n",
       "    </tr>\n",
       "  </thead>\n",
       "  <tbody>\n",
       "    <tr>\n",
       "      <th>2020-03-20</th>\n",
       "      <td>0.007122</td>\n",
       "      <td>-0.02559</td>\n",
       "      <td>-0.132501</td>\n",
       "      <td>-0.072579</td>\n",
       "      <td>-0.071741</td>\n",
       "      <td>-0.081756</td>\n",
       "      <td>-0.081702</td>\n",
       "      <td>-0.048181</td>\n",
       "      <td>-0.05618</td>\n",
       "      <td>-0.072015</td>\n",
       "      <td>...</td>\n",
       "      <td>0.053346</td>\n",
       "      <td>-0.122703</td>\n",
       "      <td>-0.141864</td>\n",
       "      <td>-0.070375</td>\n",
       "      <td>-0.060276</td>\n",
       "      <td>-0.073405</td>\n",
       "      <td>-0.079978</td>\n",
       "      <td>-0.093067</td>\n",
       "      <td>-0.050679</td>\n",
       "      <td>-0.0654</td>\n",
       "    </tr>\n",
       "  </tbody>\n",
       "</table>\n",
       "<p>1 rows × 415 columns</p>\n",
       "</div>"
      ],
      "text/plain": [
       "                   A      AAL       AAP      AAPL       ABC      ABMD  \\\n",
       "date                                                                    \n",
       "2020-03-20  0.007122 -0.02559 -0.132501 -0.072579 -0.071741 -0.081756   \n",
       "\n",
       "                 ABT       ACN     ADBE       ADI  ...      WYNN       XEC  \\\n",
       "date                                               ...                       \n",
       "2020-03-20 -0.081702 -0.048181 -0.05618 -0.072015  ...  0.053346 -0.122703   \n",
       "\n",
       "                 XEL      XLNX       XOM      XRAY       XRX       YUM  \\\n",
       "date                                                                     \n",
       "2020-03-20 -0.141864 -0.070375 -0.060276 -0.073405 -0.079978 -0.093067   \n",
       "\n",
       "                 ZBH    ZION  \n",
       "date                          \n",
       "2020-03-20 -0.050679 -0.0654  \n",
       "\n",
       "[1 rows x 415 columns]"
      ]
     },
     "execution_count": 29,
     "metadata": {},
     "output_type": "execute_result"
    }
   ],
   "source": [
    "df_return.head(1)"
   ]
  },
  {
   "cell_type": "code",
   "execution_count": null,
   "metadata": {},
   "outputs": [],
   "source": []
  },
  {
   "cell_type": "markdown",
   "metadata": {},
   "source": [
    "#### RETURNS: 8/2008-12/2008: S&P"
   ]
  },
  {
   "cell_type": "code",
   "execution_count": 47,
   "metadata": {},
   "outputs": [
    {
     "data": {
      "text/plain": [
       "-0.2986263714931318"
      ]
     },
     "execution_count": 47,
     "metadata": {},
     "output_type": "execute_result"
    }
   ],
   "source": [
    "return_sp08 = ((dfsp.loc['2008-12-31', 'Close'].values-dfsp.loc['2008-09-02', 'Open'].values)/dfsp.loc['2008-09-02', 'Open'].values)[0]\n",
    "return_sp08"
   ]
  },
  {
   "cell_type": "markdown",
   "metadata": {},
   "source": [
    "#### RETURNS: 2019: S&P"
   ]
  },
  {
   "cell_type": "code",
   "execution_count": 48,
   "metadata": {},
   "outputs": [
    {
     "data": {
      "text/plain": [
       "0.30433273044376985"
      ]
     },
     "execution_count": 48,
     "metadata": {},
     "output_type": "execute_result"
    }
   ],
   "source": [
    "return_sp19 = ((dfsp.loc['2019-12-31', 'Close'].values-dfsp.loc['2019-01-02', 'Open'].values)/dfsp.loc['2019-01-02', 'Open'].values)[0]\n",
    "return_sp19"
   ]
  },
  {
   "cell_type": "markdown",
   "metadata": {},
   "source": [
    "#### RETURNS: 2020: S&P"
   ]
  },
  {
   "cell_type": "code",
   "execution_count": 52,
   "metadata": {},
   "outputs": [
    {
     "data": {
      "text/plain": [
       "-0.2896288463735556"
      ]
     },
     "execution_count": 52,
     "metadata": {},
     "output_type": "execute_result"
    }
   ],
   "source": [
    "return_sp20 = ((dfsp.loc['2020-03-20', 'Close'].values-dfsp.loc['2020-01-02', 'Open'].values)/dfsp.loc['2020-01-02', 'Open'].values)[0]\n",
    "return_sp20"
   ]
  },
  {
   "cell_type": "markdown",
   "metadata": {},
   "source": [
    "### Company Symbols"
   ]
  },
  {
   "cell_type": "code",
   "execution_count": 55,
   "metadata": {},
   "outputs": [],
   "source": [
    "companies = df_price.columns"
   ]
  },
  {
   "cell_type": "markdown",
   "metadata": {},
   "source": [
    "### RETURNS: 8/2008-12/2008: PER COMPANY"
   ]
  },
  {
   "cell_type": "code",
   "execution_count": 59,
   "metadata": {},
   "outputs": [
    {
     "data": {
      "text/plain": [
       "-0.19151846785225715"
      ]
     },
     "execution_count": 59,
     "metadata": {},
     "output_type": "execute_result"
    }
   ],
   "source": [
    "worst_days_returns08 = {}\n",
    "for symbol in companies:\n",
    "    temp_end = df_price.loc['2008-12-31', symbol].values\n",
    "    temp_start = df_price.loc['2008-08-29', symbol].values\n",
    "    temp_ret = ((temp_end-temp_start)/temp_start)[0]\n",
    "    worst_days_returns08[symbol] = temp_ret\n",
    "worst_days_returns08['ORCL']"
   ]
  },
  {
   "cell_type": "markdown",
   "metadata": {},
   "source": [
    "### Risk Free Rates"
   ]
  },
  {
   "cell_type": "code",
   "execution_count": null,
   "metadata": {},
   "outputs": [],
   "source": []
  },
  {
   "cell_type": "code",
   "execution_count": null,
   "metadata": {},
   "outputs": [],
   "source": []
  },
  {
   "cell_type": "code",
   "execution_count": null,
   "metadata": {},
   "outputs": [],
   "source": []
  },
  {
   "cell_type": "markdown",
   "metadata": {},
   "source": [
    "## Alt Portfolio Construction"
   ]
  },
  {
   "cell_type": "markdown",
   "metadata": {},
   "source": [
    "### Check the symbol space sizes of Pick Alt, Control 1 spaces\n",
    "### Set Decision Boundary based off of returns beating the S&P by 0.01, 0.02, 0.03, .... at the end of 2008"
   ]
  },
  {
   "cell_type": "code",
   "execution_count": 308,
   "metadata": {},
   "outputs": [
    {
     "name": "stdout",
     "output_type": "stream",
     "text": [
      "R:0.0, Alt pool size: 191, Ctl1 pool size 224\n",
      "R:0.01, Alt pool size: 182, Ctl1 pool size 233\n",
      "R:0.02, Alt pool size: 173, Ctl1 pool size 242\n",
      "R:0.03, Alt pool size: 168, Ctl1 pool size 247\n",
      "R:0.04, Alt pool size: 159, Ctl1 pool size 256\n",
      "R:0.05, Alt pool size: 155, Ctl1 pool size 260\n",
      "R:0.06, Alt pool size: 148, Ctl1 pool size 267\n",
      "R:0.07, Alt pool size: 144, Ctl1 pool size 271\n",
      "R:0.08, Alt pool size: 138, Ctl1 pool size 277\n",
      "R:0.09, Alt pool size: 129, Ctl1 pool size 286\n",
      "R:0.1, Alt pool size: 120, Ctl1 pool size 295\n",
      "R:0.11, Alt pool size: 111, Ctl1 pool size 304\n",
      "R:0.12, Alt pool size: 105, Ctl1 pool size 310\n",
      "R:0.13, Alt pool size: 104, Ctl1 pool size 311\n",
      "R:0.14, Alt pool size: 101, Ctl1 pool size 314\n",
      "R:0.15, Alt pool size: 94, Ctl1 pool size 321\n",
      "R:0.16, Alt pool size: 81, Ctl1 pool size 334\n",
      "R:0.17, Alt pool size: 77, Ctl1 pool size 338\n",
      "R:0.18, Alt pool size: 69, Ctl1 pool size 346\n",
      "R:0.19, Alt pool size: 64, Ctl1 pool size 351\n",
      "R:0.2, Alt pool size: 57, Ctl1 pool size 358\n",
      "R:0.21, Alt pool size: 50, Ctl1 pool size 365\n",
      "R:0.22, Alt pool size: 46, Ctl1 pool size 369\n",
      "R:0.23, Alt pool size: 39, Ctl1 pool size 376\n",
      "R:0.24, Alt pool size: 36, Ctl1 pool size 379\n",
      "R:0.25, Alt pool size: 34, Ctl1 pool size 381\n",
      "R:0.26, Alt pool size: 31, Ctl1 pool size 384\n",
      "R:0.27, Alt pool size: 24, Ctl1 pool size 391\n",
      "R:0.28, Alt pool size: 20, Ctl1 pool size 395\n",
      "R:0.29, Alt pool size: 19, Ctl1 pool size 396\n",
      "R:0.3, Alt pool size: 16, Ctl1 pool size 399\n"
     ]
    }
   ],
   "source": [
    "t_values = np.arange(0, 0.31, 0.01) \n",
    "for value in t_values:\n",
    "    alt_list = []\n",
    "    control_list1 = []\n",
    "    for symbol in companies:\n",
    "        temp_series = worst_days_returns08[symbol]\n",
    "        if temp_series-return_sp08>value:\n",
    "            alt_list.append(symbol)\n",
    "        else:\n",
    "            control_list1.append(symbol)\n",
    "    print('R:{}, Alt pool size: {}, Ctl1 pool size {}'.format(value, len(alt_list), len(control_list1)))"
   ]
  },
  {
   "cell_type": "markdown",
   "metadata": {},
   "source": [
    "### Alternative Portfolio, weigthted by optimal sharpe ratio"
   ]
  },
  {
   "cell_type": "code",
   "execution_count": null,
   "metadata": {},
   "outputs": [],
   "source": []
  },
  {
   "cell_type": "markdown",
   "metadata": {},
   "source": [
    "### Lets pick the Threshold = 0, "
   ]
  },
  {
   "cell_type": "code",
   "execution_count": 131,
   "metadata": {},
   "outputs": [
    {
     "name": "stdout",
     "output_type": "stream",
     "text": [
      "Alt pool size: 120, Ctl1 pool size 295\n"
     ]
    }
   ],
   "source": [
    "value=0.10\n",
    "alt_list = []\n",
    "control_list1 = []\n",
    "for symbol in companies:\n",
    "    temp_series = worst_days_returns08[symbol]\n",
    "    if temp_series-return_sp08>value:\n",
    "        alt_list.append(symbol)\n",
    "    else:\n",
    "        control_list1.append(symbol)\n",
    "print('Alt pool size: {}, Ctl1 pool size {}'.format(len(alt_list), len(control_list1)))"
   ]
  },
  {
   "cell_type": "code",
   "execution_count": 132,
   "metadata": {},
   "outputs": [],
   "source": [
    "alt_symbols = random.sample(alt_list, 30)\n",
    "control_symbols1 = random.sample(control_list1, 30)\n",
    "control_symbols2 = random.sample(list(companies), 30)"
   ]
  },
  {
   "cell_type": "markdown",
   "metadata": {},
   "source": [
    "# NAIVE METHOD"
   ]
  },
  {
   "cell_type": "markdown",
   "metadata": {},
   "source": [
    "### Generate Returns for Alt, Ctl1, Ctl2"
   ]
  },
  {
   "cell_type": "code",
   "execution_count": 133,
   "metadata": {},
   "outputs": [
    {
     "data": {
      "text/plain": [
       "(0.26440592815875374, -0.3069960342687613)"
      ]
     },
     "execution_count": 133,
     "metadata": {},
     "output_type": "execute_result"
    }
   ],
   "source": [
    "alt_close18 = df_price.loc[:, alt_symbols].loc['2018-12-31', :]\n",
    "alt_close19 = df_price.loc[:, alt_symbols].loc['2019-12-31', :]\n",
    "alt_close20 = df_price.loc[:, alt_symbols].loc['2020-03-20', :]\n",
    "\n",
    "alt_return19 = (alt_close19.sum().sum()-alt_close18.sum().sum())/alt_close18.sum().sum()\n",
    "alt_return20 = (alt_close20.sum().sum()-alt_close19.sum().sum())/alt_close19.sum().sum()\n",
    "alt_return19, alt_return20"
   ]
  },
  {
   "cell_type": "code",
   "execution_count": 134,
   "metadata": {},
   "outputs": [
    {
     "data": {
      "text/plain": [
       "(0.32111082043558914, -0.24457404031069704)"
      ]
     },
     "execution_count": 134,
     "metadata": {},
     "output_type": "execute_result"
    }
   ],
   "source": [
    "ctl1_close18 = df_price.loc[:, control_symbols1].loc['2018-12-31', :]\n",
    "ctl1_close19 = df_price.loc[:, control_symbols1].loc['2019-12-31', :]\n",
    "ctl1_close20 = df_price.loc[:, control_symbols1].loc['2020-03-20', :]\n",
    "\n",
    "ctl1_return19 = (ctl1_close19.sum().sum()-ctl1_close18.sum().sum())/ctl1_close18.sum().sum()\n",
    "ctl1_return20 = (ctl1_close20.sum().sum()-ctl1_close19.sum().sum())/ctl1_close19.sum().sum()\n",
    "\n",
    "ctl1_return19, ctl1_return20"
   ]
  },
  {
   "cell_type": "code",
   "execution_count": 135,
   "metadata": {},
   "outputs": [
    {
     "data": {
      "text/plain": [
       "(0.15705418336997276, -0.2621881610984712)"
      ]
     },
     "execution_count": 135,
     "metadata": {},
     "output_type": "execute_result"
    }
   ],
   "source": [
    "ctl2_close18 = df_price.loc[:, control_symbols2].loc['2018-12-31', :]\n",
    "ctl2_close19 = df_price.loc[:, control_symbols2].loc['2019-12-31', :]\n",
    "ctl2_close20 = df_price.loc[:, control_symbols2].loc['2020-03-20', :]\n",
    "\n",
    "ctl2_return19 = (ctl2_close19.sum().sum()-ctl2_close18.sum().sum())/ctl2_close18.sum().sum()\n",
    "ctl2_return20 = (ctl2_close20.sum().sum()-ctl2_close19.sum().sum())/ctl2_close19.sum().sum()\n",
    "\n",
    "ctl2_return19, ctl2_return20"
   ]
  },
  {
   "cell_type": "code",
   "execution_count": 167,
   "metadata": {},
   "outputs": [],
   "source": [
    "sp_scatter_data19 = zip(r_thresholds, [return_sp19 for i in range(len(r_thresholds))])#, [return_sp20 for i in range(len(r_thresholds))])\n",
    "sp_scatter_data20 = zip(r_thresholds, [return_sp20 for i in range(len(r_thresholds))])\n",
    "\n",
    "sp_df19 = pd.DataFrame(sp_scatter_data19, columns=['r_value', 'returns19'])\n",
    "sp_df20 = pd.DataFrame(sp_scatter_data20, columns=['r_value', 'returns20'])"
   ]
  },
  {
   "cell_type": "code",
   "execution_count": 277,
   "metadata": {},
   "outputs": [],
   "source": [
    "from time import time"
   ]
  },
  {
   "cell_type": "code",
   "execution_count": 279,
   "metadata": {},
   "outputs": [
    {
     "data": {
      "text/plain": [
       "1585192592.6424618"
      ]
     },
     "execution_count": 279,
     "metadata": {},
     "output_type": "execute_result"
    }
   ],
   "source": [
    "time()"
   ]
  },
  {
   "cell_type": "markdown",
   "metadata": {},
   "source": [
    "### Note: one the the return threshold grows above 20% (at least for sp500 stocks) we dont get a lot of seperablity with small portfolios (10,15 in size) "
   ]
  },
  {
   "cell_type": "code",
   "execution_count": 336,
   "metadata": {
    "scrolled": true
   },
   "outputs": [
    {
     "name": "stdout",
     "output_type": "stream",
     "text": [
      "(0, 15) complete\n",
      "2.4105 minutes have passed\n",
      "(0, 20) complete\n",
      "4.8986 minutes have passed\n",
      "(0, 25) complete\n",
      "7.121 minutes have passed\n",
      "(0.05, 15) complete\n",
      "9.329 minutes have passed\n",
      "(0.05, 20) complete\n",
      "11.6773 minutes have passed\n",
      "(0.05, 25) complete\n",
      "14.1069 minutes have passed\n",
      "(0.1, 15) complete\n",
      "16.5507 minutes have passed\n",
      "(0.1, 20) complete\n",
      "19.0815 minutes have passed\n",
      "(0.1, 25) complete\n",
      "21.706 minutes have passed\n",
      "(0.15, 15) complete\n",
      "24.3372 minutes have passed\n",
      "(0.15, 20) complete\n",
      "27.0624 minutes have passed\n",
      "(0.15, 25) complete\n",
      "29.8917 minutes have passed\n",
      "(0.2, 15) complete\n",
      "32.7215 minutes have passed\n",
      "(0.2, 20) complete\n",
      "35.7268 minutes have passed\n",
      "(0.2, 25) complete\n",
      "38.8178 minutes have passed\n"
     ]
    },
    {
     "data": {
      "text/html": [
       "<div>\n",
       "<style scoped>\n",
       "    .dataframe tbody tr th:only-of-type {\n",
       "        vertical-align: middle;\n",
       "    }\n",
       "\n",
       "    .dataframe tbody tr th {\n",
       "        vertical-align: top;\n",
       "    }\n",
       "\n",
       "    .dataframe thead th {\n",
       "        text-align: right;\n",
       "    }\n",
       "</style>\n",
       "<table border=\"1\" class=\"dataframe\">\n",
       "  <thead>\n",
       "    <tr style=\"text-align: right;\">\n",
       "      <th></th>\n",
       "      <th>alt_symbols</th>\n",
       "      <th>control_symbols1</th>\n",
       "      <th>control_symbols2</th>\n",
       "      <th>control1_19</th>\n",
       "      <th>control1_20</th>\n",
       "      <th>control2_19</th>\n",
       "      <th>control2_20</th>\n",
       "      <th>alternate19</th>\n",
       "      <th>alternate20</th>\n",
       "      <th>r_value</th>\n",
       "      <th>sample_size</th>\n",
       "      <th>portfolio_size</th>\n",
       "    </tr>\n",
       "  </thead>\n",
       "  <tbody>\n",
       "    <tr>\n",
       "      <th>0</th>\n",
       "      <td>[CNP, REG, GL, BIIB, ADM, ORCL, ED, SO, JNJ, A...</td>\n",
       "      <td>[LEG, PFG, AMAT, CAH, ALGN, NI, BA, AMG, MCO, ...</td>\n",
       "      <td>[NKTR, AZO, MTB, LRCX, O, IPGP, TIF, STX, BXP,...</td>\n",
       "      <td>0.263736</td>\n",
       "      <td>-0.410700</td>\n",
       "      <td>0.387267</td>\n",
       "      <td>-0.344114</td>\n",
       "      <td>0.141111</td>\n",
       "      <td>-0.251224</td>\n",
       "      <td>0.0</td>\n",
       "      <td>5000</td>\n",
       "      <td>15</td>\n",
       "    </tr>\n",
       "    <tr>\n",
       "      <th>0</th>\n",
       "      <td>[CL, MLM, MMC, HRL, AMGN, KR, TFX, KSS, ZION, ...</td>\n",
       "      <td>[NVDA, FFIV, SLG, MOS, ZBH, PFG, PWR, NTRS, AV...</td>\n",
       "      <td>[AMAT, AZO, STX, PRGO, GILD, HES, BAC, AAL, UA...</td>\n",
       "      <td>0.278904</td>\n",
       "      <td>-0.254089</td>\n",
       "      <td>0.295237</td>\n",
       "      <td>-0.331153</td>\n",
       "      <td>0.308145</td>\n",
       "      <td>-0.289329</td>\n",
       "      <td>0.0</td>\n",
       "      <td>5000</td>\n",
       "      <td>15</td>\n",
       "    </tr>\n",
       "    <tr>\n",
       "      <th>0</th>\n",
       "      <td>[PGR, ALL, MYL, UNM, DGX, ORCL, USB, LLY, CNP,...</td>\n",
       "      <td>[IT, AXP, L, DOV, PKG, VAR, GPS, IVZ, BAC, NTR...</td>\n",
       "      <td>[PPG, SCHW, LH, KSU, MKC, STZ, JPM, WMB, PRU, ...</td>\n",
       "      <td>0.266101</td>\n",
       "      <td>-0.375843</td>\n",
       "      <td>0.290103</td>\n",
       "      <td>-0.340108</td>\n",
       "      <td>0.241854</td>\n",
       "      <td>-0.299823</td>\n",
       "      <td>0.0</td>\n",
       "      <td>5000</td>\n",
       "      <td>15</td>\n",
       "    </tr>\n",
       "    <tr>\n",
       "      <th>0</th>\n",
       "      <td>[CPB, CVX, AFL, HPQ, NKE, CNC, ABMD, ES, ABC, ...</td>\n",
       "      <td>[XLNX, INTC, DOV, HST, MET, L, COP, ROK, APA, ...</td>\n",
       "      <td>[CTXS, A, AAPL, FLS, JPM, AXP, BAX, IVZ, KMB, ...</td>\n",
       "      <td>0.238231</td>\n",
       "      <td>-0.405210</td>\n",
       "      <td>0.274226</td>\n",
       "      <td>-0.263893</td>\n",
       "      <td>-0.019827</td>\n",
       "      <td>-0.216844</td>\n",
       "      <td>0.0</td>\n",
       "      <td>5000</td>\n",
       "      <td>15</td>\n",
       "    </tr>\n",
       "    <tr>\n",
       "      <th>0</th>\n",
       "      <td>[MKC, VZ, EMR, EFX, KSS, AFL, NKE, UNM, CHRW, ...</td>\n",
       "      <td>[DHI, CMI, CPRT, CRM, MCHP, EA, VLO, GRMN, APH...</td>\n",
       "      <td>[AAL, CSCO, AME, BBY, YUM, INTC, K, LB, HRL, F...</td>\n",
       "      <td>0.282680</td>\n",
       "      <td>-0.371877</td>\n",
       "      <td>0.193095</td>\n",
       "      <td>-0.326767</td>\n",
       "      <td>0.145570</td>\n",
       "      <td>-0.285218</td>\n",
       "      <td>0.0</td>\n",
       "      <td>5000</td>\n",
       "      <td>15</td>\n",
       "    </tr>\n",
       "    <tr>\n",
       "      <th>...</th>\n",
       "      <td>...</td>\n",
       "      <td>...</td>\n",
       "      <td>...</td>\n",
       "      <td>...</td>\n",
       "      <td>...</td>\n",
       "      <td>...</td>\n",
       "      <td>...</td>\n",
       "      <td>...</td>\n",
       "      <td>...</td>\n",
       "      <td>...</td>\n",
       "      <td>...</td>\n",
       "      <td>...</td>\n",
       "    </tr>\n",
       "    <tr>\n",
       "      <th>0</th>\n",
       "      <td>[O, MCD, EXPD, GILD, MNST, PFE, GIS, DRI, ED, ...</td>\n",
       "      <td>[FCX, BAX, EXR, HAL, JNPR, CF, TSN, PHM, AMT, ...</td>\n",
       "      <td>[CVS, RJF, AON, DTE, DVA, ROK, TMO, WAT, PEP, ...</td>\n",
       "      <td>0.332077</td>\n",
       "      <td>-0.279840</td>\n",
       "      <td>0.253514</td>\n",
       "      <td>-0.309434</td>\n",
       "      <td>0.141773</td>\n",
       "      <td>-0.247362</td>\n",
       "      <td>0.2</td>\n",
       "      <td>5000</td>\n",
       "      <td>25</td>\n",
       "    </tr>\n",
       "    <tr>\n",
       "      <th>0</th>\n",
       "      <td>[RE, ABMD, KR, ADM, SHW, XOM, HBAN, NFLX, EW, ...</td>\n",
       "      <td>[PLD, TSCO, BLK, TSN, CVX, LLY, LKQ, LH, OKE, ...</td>\n",
       "      <td>[L, PKG, TROW, WM, MRO, CF, AEE, DHR, VRSN, SR...</td>\n",
       "      <td>0.257757</td>\n",
       "      <td>-0.283727</td>\n",
       "      <td>0.243586</td>\n",
       "      <td>-0.277225</td>\n",
       "      <td>0.179377</td>\n",
       "      <td>-0.248699</td>\n",
       "      <td>0.2</td>\n",
       "      <td>5000</td>\n",
       "      <td>25</td>\n",
       "    </tr>\n",
       "    <tr>\n",
       "      <th>0</th>\n",
       "      <td>[ROL, PFE, LDOS, GILD, BIIB, PRGO, VRTX, NKTR,...</td>\n",
       "      <td>[WHR, CTL, PPL, MRO, KO, SPG, ESS, ROP, SYY, D...</td>\n",
       "      <td>[STX, FDX, NSC, MAS, BLK, NVDA, ETN, TAP, FAST...</td>\n",
       "      <td>0.235794</td>\n",
       "      <td>-0.272373</td>\n",
       "      <td>0.135906</td>\n",
       "      <td>-0.312578</td>\n",
       "      <td>0.198356</td>\n",
       "      <td>-0.164729</td>\n",
       "      <td>0.2</td>\n",
       "      <td>5000</td>\n",
       "      <td>25</td>\n",
       "    </tr>\n",
       "    <tr>\n",
       "      <th>0</th>\n",
       "      <td>[PRGO, DLTR, LDOS, XEL, MNST, WM, VRTX, ABT, N...</td>\n",
       "      <td>[EMR, F, SRE, LKQ, FAST, AMG, LNT, XRX, BEN, G...</td>\n",
       "      <td>[ARE, STX, BKNG, ABMD, DOV, SIVB, BBY, HSIC, P...</td>\n",
       "      <td>0.216573</td>\n",
       "      <td>-0.353558</td>\n",
       "      <td>0.248419</td>\n",
       "      <td>-0.346578</td>\n",
       "      <td>0.253464</td>\n",
       "      <td>-0.282690</td>\n",
       "      <td>0.2</td>\n",
       "      <td>5000</td>\n",
       "      <td>25</td>\n",
       "    </tr>\n",
       "    <tr>\n",
       "      <th>0</th>\n",
       "      <td>[VMC, PRGO, NEM, ABT, VRTX, BIIB, BLL, ADM, TR...</td>\n",
       "      <td>[CPRT, MCHP, SWKS, NOC, HON, UAA, CNC, DISCA, ...</td>\n",
       "      <td>[WU, C, STT, BK, CPRT, APA, MMC, AJG, BXP, RMD...</td>\n",
       "      <td>0.287044</td>\n",
       "      <td>-0.286163</td>\n",
       "      <td>0.350732</td>\n",
       "      <td>-0.310988</td>\n",
       "      <td>0.271969</td>\n",
       "      <td>-0.226296</td>\n",
       "      <td>0.2</td>\n",
       "      <td>5000</td>\n",
       "      <td>25</td>\n",
       "    </tr>\n",
       "  </tbody>\n",
       "</table>\n",
       "<p>75000 rows × 12 columns</p>\n",
       "</div>"
      ],
      "text/plain": [
       "                                          alt_symbols  \\\n",
       "0   [CNP, REG, GL, BIIB, ADM, ORCL, ED, SO, JNJ, A...   \n",
       "0   [CL, MLM, MMC, HRL, AMGN, KR, TFX, KSS, ZION, ...   \n",
       "0   [PGR, ALL, MYL, UNM, DGX, ORCL, USB, LLY, CNP,...   \n",
       "0   [CPB, CVX, AFL, HPQ, NKE, CNC, ABMD, ES, ABC, ...   \n",
       "0   [MKC, VZ, EMR, EFX, KSS, AFL, NKE, UNM, CHRW, ...   \n",
       "..                                                ...   \n",
       "0   [O, MCD, EXPD, GILD, MNST, PFE, GIS, DRI, ED, ...   \n",
       "0   [RE, ABMD, KR, ADM, SHW, XOM, HBAN, NFLX, EW, ...   \n",
       "0   [ROL, PFE, LDOS, GILD, BIIB, PRGO, VRTX, NKTR,...   \n",
       "0   [PRGO, DLTR, LDOS, XEL, MNST, WM, VRTX, ABT, N...   \n",
       "0   [VMC, PRGO, NEM, ABT, VRTX, BIIB, BLL, ADM, TR...   \n",
       "\n",
       "                                     control_symbols1  \\\n",
       "0   [LEG, PFG, AMAT, CAH, ALGN, NI, BA, AMG, MCO, ...   \n",
       "0   [NVDA, FFIV, SLG, MOS, ZBH, PFG, PWR, NTRS, AV...   \n",
       "0   [IT, AXP, L, DOV, PKG, VAR, GPS, IVZ, BAC, NTR...   \n",
       "0   [XLNX, INTC, DOV, HST, MET, L, COP, ROK, APA, ...   \n",
       "0   [DHI, CMI, CPRT, CRM, MCHP, EA, VLO, GRMN, APH...   \n",
       "..                                                ...   \n",
       "0   [FCX, BAX, EXR, HAL, JNPR, CF, TSN, PHM, AMT, ...   \n",
       "0   [PLD, TSCO, BLK, TSN, CVX, LLY, LKQ, LH, OKE, ...   \n",
       "0   [WHR, CTL, PPL, MRO, KO, SPG, ESS, ROP, SYY, D...   \n",
       "0   [EMR, F, SRE, LKQ, FAST, AMG, LNT, XRX, BEN, G...   \n",
       "0   [CPRT, MCHP, SWKS, NOC, HON, UAA, CNC, DISCA, ...   \n",
       "\n",
       "                                     control_symbols2  control1_19  \\\n",
       "0   [NKTR, AZO, MTB, LRCX, O, IPGP, TIF, STX, BXP,...     0.263736   \n",
       "0   [AMAT, AZO, STX, PRGO, GILD, HES, BAC, AAL, UA...     0.278904   \n",
       "0   [PPG, SCHW, LH, KSU, MKC, STZ, JPM, WMB, PRU, ...     0.266101   \n",
       "0   [CTXS, A, AAPL, FLS, JPM, AXP, BAX, IVZ, KMB, ...     0.238231   \n",
       "0   [AAL, CSCO, AME, BBY, YUM, INTC, K, LB, HRL, F...     0.282680   \n",
       "..                                                ...          ...   \n",
       "0   [CVS, RJF, AON, DTE, DVA, ROK, TMO, WAT, PEP, ...     0.332077   \n",
       "0   [L, PKG, TROW, WM, MRO, CF, AEE, DHR, VRSN, SR...     0.257757   \n",
       "0   [STX, FDX, NSC, MAS, BLK, NVDA, ETN, TAP, FAST...     0.235794   \n",
       "0   [ARE, STX, BKNG, ABMD, DOV, SIVB, BBY, HSIC, P...     0.216573   \n",
       "0   [WU, C, STT, BK, CPRT, APA, MMC, AJG, BXP, RMD...     0.287044   \n",
       "\n",
       "    control1_20  control2_19  control2_20  alternate19  alternate20  r_value  \\\n",
       "0     -0.410700     0.387267    -0.344114     0.141111    -0.251224      0.0   \n",
       "0     -0.254089     0.295237    -0.331153     0.308145    -0.289329      0.0   \n",
       "0     -0.375843     0.290103    -0.340108     0.241854    -0.299823      0.0   \n",
       "0     -0.405210     0.274226    -0.263893    -0.019827    -0.216844      0.0   \n",
       "0     -0.371877     0.193095    -0.326767     0.145570    -0.285218      0.0   \n",
       "..          ...          ...          ...          ...          ...      ...   \n",
       "0     -0.279840     0.253514    -0.309434     0.141773    -0.247362      0.2   \n",
       "0     -0.283727     0.243586    -0.277225     0.179377    -0.248699      0.2   \n",
       "0     -0.272373     0.135906    -0.312578     0.198356    -0.164729      0.2   \n",
       "0     -0.353558     0.248419    -0.346578     0.253464    -0.282690      0.2   \n",
       "0     -0.286163     0.350732    -0.310988     0.271969    -0.226296      0.2   \n",
       "\n",
       "    sample_size  portfolio_size  \n",
       "0          5000              15  \n",
       "0          5000              15  \n",
       "0          5000              15  \n",
       "0          5000              15  \n",
       "0          5000              15  \n",
       "..          ...             ...  \n",
       "0          5000              25  \n",
       "0          5000              25  \n",
       "0          5000              25  \n",
       "0          5000              25  \n",
       "0          5000              25  \n",
       "\n",
       "[75000 rows x 12 columns]"
      ]
     },
     "execution_count": 336,
     "metadata": {},
     "output_type": "execute_result"
    }
   ],
   "source": [
    "#r_thresholds = [0, 0.02, 0.04, 0.06, 0.08, 0.1, 0.12, 0.14, 0.16, 0.18, 0.2, 0.22] ## threshold value compared to market\n",
    "#r_thresholds = [0, 0.02, 0.04, 0.06, 0.08, 0.1, 0.12, 0.14, 0.16, 0.18] ## threshold value compared to market\n",
    "#portfolio_size = [10, 20, 50] ## number of stocks in each portfolio\n",
    "#n_samples = [20, 30, 40, 100, 500, 1000] ### number of bootstraps of sample_size=portfolio size \n",
    "\n",
    "\n",
    "\n",
    "r_thresholds = [0, 0.05, 0.1, 0.15, 0.20] ## threshold value compared to market\n",
    "portfolio_size = [15, 20, 25] ## number of stocks in each portfolio\n",
    "#n_samples = [10000, 50000] ### number of bootstraps of sample_size=portfolio size \n",
    "#n_samples = [2000, 5000] ### number of bootstraps of sample_size=portfolio size \n",
    "n_samples = [5000]\n",
    "\n",
    "\n",
    "experiment_df = pd.DataFrame([])\n",
    "\n",
    "#pd.DataFrame(comparison_dic, index=['sample1'])\n",
    "\n",
    "t0 = time()\n",
    "for value in r_thresholds:\n",
    "    \"\"\"generate/sample symbols\"\"\"\n",
    "    for size in portfolio_size:\n",
    "        for sample_size in n_samples:\n",
    "            n_bootstraps = sample_size\n",
    "            for i in range(n_bootstraps):\n",
    "                comparison_dic = {}\n",
    "                #symbols_dic = {}\n",
    "                \n",
    "                alt_list = []\n",
    "                control_list1 = []\n",
    "                        \n",
    "                for symbol in companies:\n",
    "                    temp_series = worst_days_returns08[symbol]\n",
    "                    if temp_series-return_sp08>value:\n",
    "                        alt_list.append(symbol)\n",
    "                    else:\n",
    "                        control_list1.append(symbol)\n",
    "                #print('Alt pool size: {}, Ctl1 pool size {}'.format(len(alt_list), len(control_list1)))\n",
    "\n",
    "                #print(len(alt_list),len(control_list))\n",
    "\n",
    "#                 alt_symbols = random.sample(alt_list, size)\n",
    "#                 control_symbols = random.sample(control_list, size)                \n",
    "                alt_symbols = random.sample(alt_list, size)\n",
    "                control_symbols1 = random.sample(control_list1, size)\n",
    "                control_symbols2 = random.sample(list(companies), size)\n",
    "                \n",
    "                ### Add the \n",
    "                comparison_dic['alt_symbols'] = [alt_symbols]\n",
    "                comparison_dic['control_symbols1'] = [control_symbols1]\n",
    "                comparison_dic['control_symbols2'] = [control_symbols2]\n",
    "                \n",
    "\n",
    "                ### Generage Beginning/End Prices of the portfolios\n",
    "                alt_close18 = df_price.loc[:, alt_symbols].loc['2018-12-31', :]\n",
    "                alt_close19 = df_price.loc[:, alt_symbols].loc['2019-12-31', :]\n",
    "                alt_close20 = df_price.loc[:, alt_symbols].loc['2020-03-20', :]\n",
    "                                \n",
    "                ctl1_close18 = df_price.loc[:, control_symbols1].loc['2018-12-31', :]\n",
    "                ctl1_close19 = df_price.loc[:, control_symbols1].loc['2019-12-31', :]\n",
    "                ctl1_close20 = df_price.loc[:, control_symbols1].loc['2020-03-20', :]\n",
    "                               \n",
    "                ctl2_close18 = df_price.loc[:, control_symbols2].loc['2018-12-31', :]\n",
    "                ctl2_close19 = df_price.loc[:, control_symbols2].loc['2019-12-31', :]\n",
    "                ctl2_close20 = df_price.loc[:, control_symbols2].loc['2020-03-20', :]\n",
    "                \n",
    "                ### generate returns\n",
    "                alt_return19 = (alt_close19.sum().sum()-alt_close18.sum().sum())/alt_close18.sum().sum()\n",
    "                alt_return20 = (alt_close20.sum().sum()-alt_close19.sum().sum())/alt_close19.sum().sum()\n",
    "                ctl1_return19 = (ctl1_close19.sum().sum()-ctl1_close18.sum().sum())/ctl1_close18.sum().sum()\n",
    "                ctl1_return20 = (ctl1_close20.sum().sum()-ctl1_close19.sum().sum())/ctl1_close19.sum().sum()\n",
    "                ctl2_return19 = (ctl2_close19.sum().sum()-ctl2_close18.sum().sum())/ctl2_close18.sum().sum()\n",
    "                ctl2_return20 = (ctl2_close20.sum().sum()-ctl2_close19.sum().sum())/ctl2_close19.sum().sum()                \n",
    "\n",
    "                #### Add values to comparison dictionary\n",
    "                comparison_dic['control1_19'] = ctl1_return19,\n",
    "                comparison_dic['control1_20'] = ctl1_return20,\n",
    "                comparison_dic['control2_19'] = ctl2_return19,\n",
    "                comparison_dic['control2_20'] = ctl2_return20,\n",
    "                \n",
    "\n",
    "                comparison_dic['alternate19'] = alt_return19\n",
    "                comparison_dic['alternate20'] = alt_return20                \n",
    "                \n",
    "                comparison_dic['r_value'] = value\n",
    "                comparison_dic['sample_size'] = n_bootstraps\n",
    "                comparison_dic['portfolio_size'] = size\n",
    "                ### Add to the dataframe\n",
    "                temp_df = pd.DataFrame(comparison_dic)\n",
    "                experiment_df = pd.concat([experiment_df, temp_df])\n",
    "        print('{} complete'.format((value, size)))\n",
    "        t1 = round((time()-t0)/60, 4)\n",
    "        print('{} minutes have passed'.format(t1))\n",
    "\n",
    "        \n",
    "### CAPTURE THE VARIANCE OF THE RETURNS FOR EACH OF THE SYMBOLS        \n",
    "        \n",
    "experiment_df"
   ]
  },
  {
   "cell_type": "code",
   "execution_count": 337,
   "metadata": {},
   "outputs": [
    {
     "data": {
      "text/html": [
       "<div>\n",
       "<style scoped>\n",
       "    .dataframe tbody tr th:only-of-type {\n",
       "        vertical-align: middle;\n",
       "    }\n",
       "\n",
       "    .dataframe tbody tr th {\n",
       "        vertical-align: top;\n",
       "    }\n",
       "\n",
       "    .dataframe thead th {\n",
       "        text-align: right;\n",
       "    }\n",
       "</style>\n",
       "<table border=\"1\" class=\"dataframe\">\n",
       "  <thead>\n",
       "    <tr style=\"text-align: right;\">\n",
       "      <th></th>\n",
       "      <th>control1_19</th>\n",
       "      <th>control1_20</th>\n",
       "      <th>control2_19</th>\n",
       "      <th>control2_20</th>\n",
       "      <th>alternate19</th>\n",
       "      <th>alternate20</th>\n",
       "      <th>r_value</th>\n",
       "      <th>sample_size</th>\n",
       "      <th>portfolio_size</th>\n",
       "    </tr>\n",
       "  </thead>\n",
       "  <tbody>\n",
       "    <tr>\n",
       "      <th>0</th>\n",
       "      <td>0.263736</td>\n",
       "      <td>-0.410700</td>\n",
       "      <td>0.387267</td>\n",
       "      <td>-0.344114</td>\n",
       "      <td>0.141111</td>\n",
       "      <td>-0.251224</td>\n",
       "      <td>0.0</td>\n",
       "      <td>5000</td>\n",
       "      <td>15</td>\n",
       "    </tr>\n",
       "    <tr>\n",
       "      <th>0</th>\n",
       "      <td>0.278904</td>\n",
       "      <td>-0.254089</td>\n",
       "      <td>0.295237</td>\n",
       "      <td>-0.331153</td>\n",
       "      <td>0.308145</td>\n",
       "      <td>-0.289329</td>\n",
       "      <td>0.0</td>\n",
       "      <td>5000</td>\n",
       "      <td>15</td>\n",
       "    </tr>\n",
       "  </tbody>\n",
       "</table>\n",
       "</div>"
      ],
      "text/plain": [
       "   control1_19  control1_20  control2_19  control2_20  alternate19  \\\n",
       "0     0.263736    -0.410700     0.387267    -0.344114     0.141111   \n",
       "0     0.278904    -0.254089     0.295237    -0.331153     0.308145   \n",
       "\n",
       "   alternate20  r_value  sample_size  portfolio_size  \n",
       "0    -0.251224      0.0         5000              15  \n",
       "0    -0.289329      0.0         5000              15  "
      ]
     },
     "execution_count": 337,
     "metadata": {},
     "output_type": "execute_result"
    }
   ],
   "source": [
    "comparison_df = experiment_df.iloc[:, 3:]\n",
    "comparison_df.head(2)"
   ]
  },
  {
   "cell_type": "code",
   "execution_count": 346,
   "metadata": {},
   "outputs": [],
   "source": [
    "### max date_max sample size\n",
    "experiment_df.to_csv('data\\\\external\\\\naive_experiment_320_5000.csv')"
   ]
  },
  {
   "cell_type": "code",
   "execution_count": null,
   "metadata": {},
   "outputs": [],
   "source": []
  },
  {
   "cell_type": "code",
   "execution_count": 297,
   "metadata": {},
   "outputs": [],
   "source": []
  },
  {
   "cell_type": "code",
   "execution_count": null,
   "metadata": {},
   "outputs": [],
   "source": [
    "# sns.catplot(data=melted_df, kind='box', x='r_value', y='returns', hue='portfolio') "
   ]
  },
  {
   "cell_type": "markdown",
   "metadata": {},
   "source": [
    "## GRID OF SUBPLOTS OF CATEGORY BOXPLOTS"
   ]
  },
  {
   "cell_type": "code",
   "execution_count": null,
   "metadata": {
    "scrolled": false
   },
   "outputs": [],
   "source": [
    "# subplot_size = len(portfolio_size)*len(n_samples)\n",
    "\n",
    "\n",
    "# fig, ax = plt.subplots(len(n_samples), len(portfolio_size), figsize=(25,20))\n",
    "# idx_matrix = np.array(range(subplot_size)).reshape(len(n_samples),len(portfolio_size))\n",
    "\n",
    "# for i in range(len(n_samples)):\n",
    "#     for j in range(len(portfolio_size)):\n",
    "        \n",
    "#         sample_size = n_samples[i]\n",
    "#         p_size = portfolio_size[j]\n",
    "#         temp_axis = ax[i,j]\n",
    "        \n",
    "#         temp_df = comparison_df[(comparison_df['sample_size']==sample_size) & (comparison_df['portfolio_size']==p_size)]\n",
    "#         melted_df = pd.melt(temp_df,id_vars=['r_value', 'sample_size', 'portfolio_size'], value_vars=['control1_19', 'control1_20', 'control2_19', 'control2_20', 'alternate19', 'alternate20'],\n",
    "#                     var_name = 'portfolio', value_name='returns')\n",
    "\n",
    "#         g = sns.catplot(ax=temp_axis, data=melted_df, kind='box', x='r_value', y='returns', hue='portfolio', legend=True, legend_out=False)\n",
    "#                    #inner='quartile', #inner='stick', \n",
    "#                     #split=False, \n",
    "#                     #alpha=0.5)\n",
    "#                     #cut=0)\n",
    "# #         sns.scatterplot(ax=temp_axis, data = sp_df19, x='r_value', y='returns19')#, hue='portfolio')\n",
    "# #         sns.scatterplot(ax=temp_axis, data = sp_df20, x='r_value', y='returns20')#, hue='portfolio')\n",
    "#         g.despine(left=True)\n",
    "#         g._legend.\n",
    "#         #g.ax.legend(loc=10)\n",
    "\n",
    "#         temp_axis.spines['top'].set_visible(False)\n",
    "#         temp_axis.spines['right'].set_visible(False)\n",
    "#         temp_axis.set_xlabel('')\n",
    "#         temp_axis.set_ylabel('')        \n",
    "            \n",
    "#         temp_axis.set_title('Samples={}, P_Size={}'.format(sample_size, p_size))\n",
    "#         temp_axis.tick_params(axis=\"x\", rotation=20)\n",
    "#         temp_axis.axhline(return_sp19, color='red', alpha=0.7)\n",
    "#         temp_axis.axhline(return_sp20, color='red', alpha=0.7)\n",
    "#         temp_axis.set_ylim(-0.6, 0.65)\n",
    "        \n",
    "#         temp_axis.legend(loc='best')\n",
    "#         #sns.plt.legend(bbox_to_anchor=(1.05, 1), loc=2, borderaxespad=0.)\n",
    "\n",
    "\n",
    "# fig.suptitle('Alternative vs. Control Portfolios 2019, 2020', fontsize=25)\n",
    "# fig.text(0.5, 0.04, 'R Threshold', ha='center', va='center', fontsize=15)\n",
    "# fig.text(0.06, 0.5, 'Return', ha='center', va='center', rotation='vertical', fontsize=15)\n",
    "# fig.subplots_adjust(hspace=0.5)\n",
    "\n",
    "# #plt.tight_layout()\n",
    "# plt.close()\n",
    "# plt.show()"
   ]
  },
  {
   "cell_type": "markdown",
   "metadata": {},
   "source": [
    "### Dont get discouraged, this still looks good... just select one of the combos that looks good"
   ]
  },
  {
   "cell_type": "markdown",
   "metadata": {},
   "source": [
    "### Try again with single value "
   ]
  },
  {
   "cell_type": "code",
   "execution_count": null,
   "metadata": {},
   "outputs": [],
   "source": [
    "r_thresholds, portfolio_size, n_samples"
   ]
  },
  {
   "cell_type": "code",
   "execution_count": 540,
   "metadata": {},
   "outputs": [],
   "source": [
    "def plot_boxplots_naive(sample_size, portfolio_size, dataframe):\n",
    "    fig, ax = plt.subplots(figsize=(15,12))\n",
    "\n",
    "    sample_size = sample_size\n",
    "    p_size = portfolio_size\n",
    "\n",
    "\n",
    "    temp_df = dataframe[(dataframe['sample_size']==sample_size) & (dataframe['portfolio_size']==p_size)]\n",
    "    melted_df = pd.melt(temp_df,id_vars=['r_value', 'sample_size', 'portfolio_size'], value_vars=['control1_19', 'control1_20', 'control2_19', 'control2_20', 'alternate19', 'alternate20'],\n",
    "                var_name = 'portfolio', value_name='returns')\n",
    "\n",
    "    g = sns.catplot(ax=ax, data=melted_df, kind='box', x='r_value', y='returns', hue='portfolio', legend=True, legend_out=True)\n",
    "\n",
    "\n",
    "    ax.spines['top'].set_visible(False)\n",
    "    ax.spines['right'].set_visible(False)\n",
    "    ax.set_xlabel('')\n",
    "    ax.set_ylabel('')        \n",
    "\n",
    "    ax.set_title('Samples={}, P_Size={}'.format(sample_size, p_size), fontsize=20)\n",
    "    ax.tick_params(axis=\"x\", rotation=20)\n",
    "    ax.axhline(return_sp19, color='red', alpha=0.7, label='SP500 2019/2020')\n",
    "    ax.axhline(return_sp20, color='red', alpha=0.7)\n",
    "    ax.axhline(0, color='black', alpha=0.85, linewidth=3)\n",
    "    ax.set_ylim(-0.05, 0.05)\n",
    "\n",
    "    legend = ax.legend(loc='upper right', bbox_to_anchor=(1.15,1), title='Portfolio', fontsize=12)\n",
    "    legend.get_title().set_fontsize('15')\n",
    "\n",
    "\n",
    "    fig.suptitle('Alternative vs. Control Portfolios 2019, 2020', fontsize=25)\n",
    "    fig.text(0.5, 0.04, 'R Threshold', ha='center', va='center', fontsize=15)\n",
    "    fig.text(0.06, 0.5, 'Portfolio Return', ha='center', va='center', rotation=90, fontsize=15)\n",
    "    fig.subplots_adjust(hspace=0.5)\n",
    "\n",
    "    #plt.tight_layout()\n",
    "    plt.close()\n",
    "    plt.show()"
   ]
  },
  {
   "cell_type": "code",
   "execution_count": 338,
   "metadata": {},
   "outputs": [
    {
     "data": {
      "text/plain": [
       "([0, 0.05, 0.1, 0.15, 0.2], [15, 20, 25], [5000])"
      ]
     },
     "execution_count": 338,
     "metadata": {},
     "output_type": "execute_result"
    }
   ],
   "source": [
    "r_thresholds, portfolio_size, n_samples"
   ]
  },
  {
   "cell_type": "code",
   "execution_count": 535,
   "metadata": {},
   "outputs": [
    {
     "data": {
      "image/png": "[encoded data removed]",
      "text/plain": [
       "<Figure size 1080x864 with 1 Axes>"
      ]
     },
     "metadata": {},
     "output_type": "display_data"
    }
   ],
   "source": [
    "plot_boxplots_naive(sample_size=5000, portfolio_size=25, dataframe=comparison_df)"
   ]
  },
  {
   "cell_type": "markdown",
   "metadata": {},
   "source": [
    "### RUN THE T-TEST ON 2019 RESULTS"
   ]
  },
  {
   "cell_type": "code",
   "execution_count": null,
   "metadata": {},
   "outputs": [],
   "source": []
  },
  {
   "cell_type": "markdown",
   "metadata": {},
   "source": [
    "### RUN THE T-TEST ON 2020 RESULTS"
   ]
  },
  {
   "cell_type": "code",
   "execution_count": null,
   "metadata": {},
   "outputs": [],
   "source": []
  },
  {
   "cell_type": "markdown",
   "metadata": {},
   "source": [
    "### Chi Square Test on the Sigmas?"
   ]
  },
  {
   "cell_type": "code",
   "execution_count": null,
   "metadata": {},
   "outputs": [],
   "source": []
  },
  {
   "cell_type": "markdown",
   "metadata": {},
   "source": [
    "# SHARPE RATIO METHOD"
   ]
  },
  {
   "cell_type": "markdown",
   "metadata": {},
   "source": [
    "### Sample Alternative, Ctl1, Ctl2 Symbols"
   ]
  },
  {
   "cell_type": "code",
   "execution_count": 478,
   "metadata": {},
   "outputs": [],
   "source": [
    "size=25\n",
    "alt_list = []\n",
    "control_list1 = []\n",
    "\n",
    "for symbol in companies:\n",
    "    temp_series = worst_days_returns08[symbol]\n",
    "    if temp_series-return_sp08>0.1:\n",
    "        alt_list.append(symbol)\n",
    "    else:\n",
    "        control_list1.append(symbol)\n",
    "#print('Alt pool size: {}, Ctl1 pool size {}'.format(len(alt_list), len(control_list1)))\n",
    "\n",
    "#print(len(alt_list),len(control_list))\n",
    "\n",
    "#                 alt_symbols = random.sample(alt_list, size)\n",
    "#                 control_symbols = random.sample(control_list, size)                \n",
    "alt_symbols = random.sample(alt_list, size)\n",
    "ctl1_symbols = random.sample(control_list1, size)\n",
    "ctl2_symbols = random.sample(list(companies), size)"
   ]
  },
  {
   "cell_type": "code",
   "execution_count": 479,
   "metadata": {},
   "outputs": [
    {
     "data": {
      "text/plain": [
       "(3328, 415)"
      ]
     },
     "execution_count": 479,
     "metadata": {},
     "output_type": "execute_result"
    }
   ],
   "source": [
    "df_price.shape"
   ]
  },
  {
   "cell_type": "markdown",
   "metadata": {},
   "source": [
    "### Generate Dates for Monthly Returns"
   ]
  },
  {
   "cell_type": "code",
   "execution_count": 360,
   "metadata": {},
   "outputs": [
    {
     "name": "stdout",
     "output_type": "stream",
     "text": [
      "Missing Start Dates: []\n",
      "Missing End Dates: []\n"
     ]
    }
   ],
   "source": [
    "start_dates = pd.to_datetime([ \n",
    "# '12/29/2006',\n",
    "# '01/31/2007','02/28/2007','03/30/2007','04/30/2007','05/31/2007','06/29/2007','07/31/2007','08/31/2007','09/28/2007','10/31/2007','11/30/2007','12/31/2007',\n",
    "# '01/31/2008','02/29/2008','03/31/2008','04/30/2008','05/30/2008','06/30/2008','07/31/2008','08/29/2008','09/30/2008','10/31/2008','11/28/2008',\n",
    "'12/31/2008',\n",
    "'01/30/2009','02/27/2009','03/31/2009','04/30/2009','05/29/2009','06/30/2009','07/31/2009','08/31/2009','09/30/2009','10/30/2009','11/30/2009','12/31/2009',\n",
    "'01/29/2010','02/26/2010','03/31/2010','04/30/2010','05/28/2010','06/30/2010','07/30/2010','08/31/2010','09/30/2010','10/29/2010','11/30/2010','12/31/2010',\n",
    "'01/31/2011','02/28/2011','03/31/2011','04/29/2011','05/31/2011','06/30/2011','07/29/2011','08/31/2011','09/30/2011','10/31/2011','11/30/2011','12/30/2011',\n",
    "'01/31/2012','02/29/2012','03/30/2012','04/30/2012','05/31/2012','06/29/2012','07/31/2012','08/31/2012','09/28/2012','10/31/2012','11/30/2012','12/31/2012',\n",
    "'01/31/2013','02/28/2013','03/28/2013','04/30/2013','05/31/2013','06/28/2013','07/31/2013','08/30/2013','09/30/2013','10/31/2013','11/29/2013','12/31/2013',\n",
    "'01/31/2014','02/28/2014','03/31/2014','04/30/2014','05/30/2014','06/30/2014','07/31/2014','08/29/2014','09/30/2014','10/31/2014','11/28/2014','12/31/2014',\n",
    "'01/30/2015','02/27/2015','03/31/2015','04/30/2015','05/29/2015','06/30/2015','07/31/2015','08/31/2015','09/30/2015','10/30/2015','11/30/2015','12/31/2015',\n",
    "'01/29/2016','02/29/2016','03/31/2016','04/29/2016','05/31/2016','06/30/2016','07/29/2016','08/31/2016','09/30/2016','10/31/2016','11/30/2016','12/30/2016',\n",
    "'01/31/2017','02/28/2017','03/31/2017','04/28/2017','05/31/2017','06/30/2017','07/31/2017','08/31/2017','09/29/2017','10/31/2017','11/30/2017','12/29/2017',\n",
    "'01/31/2018','02/28/2018','03/29/2018','04/30/2018','05/31/2018','06/29/2018','07/31/2018','08/31/2018','09/28/2018','10/31/2018','11/30/2018','12/31/2018',\n",
    "'01/31/2019','02/28/2019','03/29/2019','04/30/2019','05/31/2019','06/28/2019','07/31/2019','08/30/2019','09/30/2019','10/31/2019','11/29/2019'\n",
    "])\n",
    "\n",
    "end_dates = pd.to_datetime([ \n",
    "# '01/31/2007','02/28/2007','03/30/2007','04/30/2007','05/31/2007','06/29/2007','07/31/2007','08/31/2007','09/28/2007','10/31/2007','11/30/2007','12/31/2007',\n",
    "# '01/31/2008','02/29/2008','03/31/2008','04/30/2008','05/30/2008','06/30/2008','07/31/2008','08/29/2008','09/30/2008','10/31/2008','11/28/2008','12/31/2008',\n",
    "'01/30/2009','02/27/2009','03/31/2009','04/30/2009','05/29/2009','06/30/2009','07/31/2009','08/31/2009','09/30/2009','10/30/2009','11/30/2009','12/31/2009',\n",
    "'01/29/2010','02/26/2010','03/31/2010','04/30/2010','05/28/2010','06/30/2010','07/30/2010','08/31/2010','09/30/2010','10/29/2010','11/30/2010','12/31/2010',\n",
    "'01/31/2011','02/28/2011','03/31/2011','04/29/2011','05/31/2011','06/30/2011','07/29/2011','08/31/2011','09/30/2011','10/31/2011','11/30/2011','12/30/2011',\n",
    "'01/31/2012','02/29/2012','03/30/2012','04/30/2012','05/31/2012','06/29/2012','07/31/2012','08/31/2012','09/28/2012','10/31/2012','11/30/2012','12/31/2012',\n",
    "'01/31/2013','02/28/2013','03/28/2013','04/30/2013','05/31/2013','06/28/2013','07/31/2013','08/30/2013','09/30/2013','10/31/2013','11/29/2013','12/31/2013',\n",
    "'01/31/2014','02/28/2014','03/31/2014','04/30/2014','05/30/2014','06/30/2014','07/31/2014','08/29/2014','09/30/2014','10/31/2014','11/28/2014','12/31/2014',\n",
    "'01/30/2015','02/27/2015','03/31/2015','04/30/2015','05/29/2015','06/30/2015','07/31/2015','08/31/2015','09/30/2015','10/30/2015','11/30/2015','12/31/2015',\n",
    "'01/29/2016','02/29/2016','03/31/2016','04/29/2016','05/31/2016','06/30/2016','07/29/2016','08/31/2016','09/30/2016','10/31/2016','11/30/2016','12/30/2016',\n",
    "'01/31/2017','02/28/2017','03/31/2017','04/28/2017','05/31/2017','06/30/2017','07/31/2017','08/31/2017','09/29/2017','10/31/2017','11/30/2017','12/29/2017',\n",
    "'01/31/2018','02/28/2018','03/29/2018','04/30/2018','05/31/2018','06/29/2018','07/31/2018','08/31/2018','09/28/2018','10/31/2018','11/30/2018','12/31/2018',\n",
    "'01/31/2019','02/28/2019','03/29/2019','04/30/2019','05/31/2019','06/28/2019','07/31/2019','08/30/2019','09/30/2019','10/31/2019','11/29/2019','12/31/2019'\n",
    "])\n",
    "\n",
    "# function to validate lists above\n",
    "\n",
    "def list_diff(list1, list2):\n",
    "    out = [item for item in list1 if not item in list2]\n",
    "    return out\n",
    "\n",
    "# validate start dates list\n",
    "\n",
    "print('Missing Start Dates: {}'.format(list_diff(start_dates, list(df_price.index))))\n",
    "\n",
    "# validate end dates list\n",
    "\n",
    "print('Missing End Dates: {}'.format(list_diff(end_dates, list(df_price.index))))"
   ]
  },
  {
   "cell_type": "markdown",
   "metadata": {},
   "source": [
    "### Generate Risk Free Rates 2010-2018"
   ]
  },
  {
   "cell_type": "code",
   "execution_count": 375,
   "metadata": {},
   "outputs": [],
   "source": [
    "rfr09 = (1+0.0015)**(1/3) - 1\n",
    "rfr10 = (1+0.0013)**(1/3) - 1\n",
    "rfr11 = (1+0.0005)**(1/3) - 1\n",
    "rfr12 = (1+0.0011)**(1/3) - 1\n",
    "rfr13 = (1+0.00075)**(1/3) - 1\n",
    "rfr14 = (1+0.0004)**(1/3) - 1\n",
    "rfr15 = (1+0.0004)**(1/3) - 1\n",
    "rfr16 = (1+0.0035)**(1/3) - 1\n",
    "rfr17 = (1+0.0099)**(1/3) - 1\n",
    "rfr18 = (1+0.0185)**(1/3) - 1\n",
    "rfr19 = (1+0.0211)**(1/3) - 1"
   ]
  },
  {
   "cell_type": "code",
   "execution_count": 376,
   "metadata": {},
   "outputs": [],
   "source": [
    "rfr09 = pd.Series(np.repeat(rfr09,12))\n",
    "rfr10 = pd.Series(np.repeat(rfr10,12))\n",
    "rfr11 = pd.Series(np.repeat(rfr11,12))\n",
    "rfr12 = pd.Series(np.repeat(rfr12,12))\n",
    "rfr13 = pd.Series(np.repeat(rfr13,12))\n",
    "rfr14 = pd.Series(np.repeat(rfr14,12))\n",
    "rfr15 = pd.Series(np.repeat(rfr15,12))\n",
    "rfr16 = pd.Series(np.repeat(rfr16,12))\n",
    "rfr17 = pd.Series(np.repeat(rfr17,12))\n",
    "rfr18 = pd.Series(np.repeat(rfr18,12))\n",
    "rfr19 = pd.Series(np.repeat(rfr19,12))"
   ]
  },
  {
   "cell_type": "markdown",
   "metadata": {},
   "source": [
    "## Calculate Monthly Returns (Alt)"
   ]
  },
  {
   "cell_type": "code",
   "execution_count": 427,
   "metadata": {},
   "outputs": [],
   "source": [
    "# alt_mean_ret18 = (df_price.loc['2018-12-31', alt_symbols].values-df_price.loc['12-31-2008',alt_symbols].values)/df_price.loc['12-31-2008', alt_symbols].values\n",
    "# alt_mean_ret18 = pd.Series"
   ]
  },
  {
   "cell_type": "code",
   "execution_count": null,
   "metadata": {},
   "outputs": [],
   "source": [
    "# alt_end18 = alt_end19[alt_end19.index<'2019-01-01']"
   ]
  },
  {
   "cell_type": "markdown",
   "metadata": {},
   "source": [
    "### Create Dataframe of Risk Free Rates (to be used for the CTL portfolios too)"
   ]
  },
  {
   "cell_type": "markdown",
   "metadata": {},
   "source": [
    "#### Subtract out Risk Free Rates"
   ]
  },
  {
   "cell_type": "markdown",
   "metadata": {},
   "source": [
    "#### Mean/Variances of monthly returns for each of the  the portoflios"
   ]
  },
  {
   "cell_type": "markdown",
   "metadata": {},
   "source": [
    "### Create Covariance Matrix"
   ]
  },
  {
   "cell_type": "code",
   "execution_count": 412,
   "metadata": {},
   "outputs": [],
   "source": [
    "# alt19_var = alt_ret19.var(axis=0)\n",
    "# alt18_var = alt_ret18.var(axis=0)"
   ]
  },
  {
   "cell_type": "markdown",
   "metadata": {},
   "source": [
    "#### Take their inverses"
   ]
  },
  {
   "cell_type": "markdown",
   "metadata": {},
   "source": [
    "#### compute zetas"
   ]
  },
  {
   "cell_type": "code",
   "execution_count": 474,
   "metadata": {},
   "outputs": [],
   "source": [
    "# alt_portfolio_return18 = alt_weighted_ret18.sum()\n",
    "# print('The Excess Return of the Portfolio 2018: {}'.format(alt_portfolio_return18))\n",
    "# alt_portfolio_return19 = alt_weighted_ret19.sum()\n",
    "# print('The Excess Return of the Portfolio 2019: {}'.format(alt_portfolio_return19))"
   ]
  },
  {
   "cell_type": "code",
   "execution_count": 475,
   "metadata": {},
   "outputs": [],
   "source": [
    "# alt_var18 = alt_weighted_ret18.T.dot(alt_cov18).dot(alt_weighted_ret18)\n",
    "# alt_risk18 = np.sqrt(alt_var18)\n",
    "# alt_sharpe18 = alt_portfolio_return18/alt_risk18\n",
    "# print('monthly sharpe 18: {}'.format(alt_sharpe18))\n",
    "# print('yearly sharpe 18: {}'.format(alt_sharpe18*np.sqrt(12)))\n",
    "\n",
    "\n",
    "# alt_var19 = alt_weighted_ret19.T.dot(alt_cov19).dot(alt_weighted_ret19)\n",
    "# alt_risk19 = np.sqrt(alt_var19)\n",
    "# alt_sharpe19 = alt_portfolio_return19/alt_risk19\n",
    "# print('monthly sharpe 19: {}'.format(alt_sharpe19))\n",
    "# print('yearly sharpe 19: {}'.format(alt_sharpe19*np.sqrt(12)))"
   ]
  },
  {
   "cell_type": "markdown",
   "metadata": {},
   "source": [
    "### Test 2018 results on 2019 data"
   ]
  },
  {
   "cell_type": "markdown",
   "metadata": {},
   "source": [
    "### Test 2019 results on 2020"
   ]
  },
  {
   "cell_type": "code",
   "execution_count": 471,
   "metadata": {},
   "outputs": [],
   "source": [
    "#df_price.loc[pd.to_datetime(['2018-12-31', '2019-12-31']), alt_symbols]"
   ]
  },
  {
   "cell_type": "markdown",
   "metadata": {},
   "source": [
    "### Test 2019 results on 2020 data"
   ]
  },
  {
   "cell_type": "markdown",
   "metadata": {},
   "source": [
    "## Calculate Monthly Returns (Ctl1)"
   ]
  },
  {
   "cell_type": "code",
   "execution_count": 480,
   "metadata": {},
   "outputs": [],
   "source": [
    "ctl1_close18 = df_price.loc[:, ctl1_symbols].loc['2018-12-31', :]\n",
    "ctl1_close19 = df_price.loc[:, ctl1_symbols].loc['2019-12-31', :]\n",
    "ctl1_close20 = df_price.loc[:, ctl1_symbols].loc['2020-03-20', :]"
   ]
  },
  {
   "cell_type": "markdown",
   "metadata": {},
   "source": [
    "## Calculate Monthly Returns (Ctl2)"
   ]
  },
  {
   "cell_type": "code",
   "execution_count": null,
   "metadata": {},
   "outputs": [],
   "source": [
    "ctl2_close18 = df_price.loc[:, control_symbols2].loc['2018-12-31', :]\n",
    "ctl2_close19 = df_price.loc[:, control_symbols2].loc['2019-12-31', :]\n",
    "ctl2_close20 = df_price.loc[:, control_symbols2].loc['2020-03-20', :]"
   ]
  },
  {
   "cell_type": "markdown",
   "metadata": {},
   "source": [
    "## Now put the above into a loop"
   ]
  },
  {
   "cell_type": "code",
   "execution_count": null,
   "metadata": {},
   "outputs": [],
   "source": [
    "risk_free_rates = pd.concat([rfr09, rfr10, rfr11, rfr12, rfr13, rfr14, rfr15, rfr16, rfr17, rfr18, rfr19])\n",
    "risk_free_rates = np.matrix(pd.concat([risk_free_rates,risk_free_rates,risk_free_rates,risk_free_rates,risk_free_rates,risk_free_rates,risk_free_rates,risk_free_rates,risk_free_rates,risk_free_rates,risk_free_rates,risk_free_rates,risk_free_rates,risk_free_rates,risk_free_rates,risk_free_rates,risk_free_rates,risk_free_rates,risk_free_rates,risk_free_rates,risk_free_rates,risk_free_rates,risk_free_rates,risk_free_rates,risk_free_rates], axis=1))\n",
    "# risk_free_rates.columns = alt_ret19.columns\n",
    "# risk_free_rates.index = alt_ret19.index"
   ]
  },
  {
   "cell_type": "code",
   "execution_count": 542,
   "metadata": {
    "scrolled": false
   },
   "outputs": [
    {
     "name": "stdout",
     "output_type": "stream",
     "text": [
      "(0, 25) complete\n",
      "0.2924 minutes have passed\n",
      "(0.05, 25) complete\n",
      "0.5875 minutes have passed\n",
      "(0.1, 25) complete\n",
      "0.8861 minutes have passed\n",
      "(0.15, 25) complete\n",
      "1.165 minutes have passed\n",
      "(0.2, 25) complete\n",
      "1.4615 minutes have passed\n"
     ]
    },
    {
     "data": {
      "text/html": [
       "<div>\n",
       "<style scoped>\n",
       "    .dataframe tbody tr th:only-of-type {\n",
       "        vertical-align: middle;\n",
       "    }\n",
       "\n",
       "    .dataframe tbody tr th {\n",
       "        vertical-align: top;\n",
       "    }\n",
       "\n",
       "    .dataframe thead th {\n",
       "        text-align: right;\n",
       "    }\n",
       "</style>\n",
       "<table border=\"1\" class=\"dataframe\">\n",
       "  <thead>\n",
       "    <tr style=\"text-align: right;\">\n",
       "      <th></th>\n",
       "      <th>alt_symbols</th>\n",
       "      <th>control_symbols1</th>\n",
       "      <th>control_symbols2</th>\n",
       "      <th>control1_19</th>\n",
       "      <th>control1_20</th>\n",
       "      <th>control2_19</th>\n",
       "      <th>control2_20</th>\n",
       "      <th>alternate19</th>\n",
       "      <th>alternate20</th>\n",
       "      <th>r_value</th>\n",
       "      <th>sample_size</th>\n",
       "      <th>portfolio_size</th>\n",
       "    </tr>\n",
       "  </thead>\n",
       "  <tbody>\n",
       "    <tr>\n",
       "      <th>0</th>\n",
       "      <td>[DLTR, CVX, CINF, NKTR, NEM, HRL, KO, TRV, VZ,...</td>\n",
       "      <td>[ANSS, EMN, ITW, MKC, LB, ACN, TMO, KMX, BEN, ...</td>\n",
       "      <td>[AAP, CPB, AXP, DVN, INTU, UNH, GD, MSFT, KMX,...</td>\n",
       "      <td>0.011458</td>\n",
       "      <td>-0.009023</td>\n",
       "      <td>0.009331</td>\n",
       "      <td>-0.010343</td>\n",
       "      <td>0.009213</td>\n",
       "      <td>-0.004924</td>\n",
       "      <td>0.0</td>\n",
       "      <td>100</td>\n",
       "      <td>25</td>\n",
       "    </tr>\n",
       "    <tr>\n",
       "      <th>0</th>\n",
       "      <td>[CLX, AZO, XEL, NFLX, MKTX, DUK, ABT, MCD, RF,...</td>\n",
       "      <td>[ANSS, EMN, ITW, MKC, LB, ACN, TMO, KMX, BEN, ...</td>\n",
       "      <td>[AAP, CPB, AXP, DVN, INTU, UNH, GD, MSFT, KMX,...</td>\n",
       "      <td>0.017055</td>\n",
       "      <td>-0.010998</td>\n",
       "      <td>0.007516</td>\n",
       "      <td>-0.005942</td>\n",
       "      <td>0.018384</td>\n",
       "      <td>-0.005728</td>\n",
       "      <td>0.0</td>\n",
       "      <td>100</td>\n",
       "      <td>25</td>\n",
       "    </tr>\n",
       "    <tr>\n",
       "      <th>0</th>\n",
       "      <td>[GPC, MKTX, AZO, JPM, TSCO, ABT, RHI, WM, PRGO...</td>\n",
       "      <td>[ANSS, EMN, ITW, MKC, LB, ACN, TMO, KMX, BEN, ...</td>\n",
       "      <td>[AAP, CPB, AXP, DVN, INTU, UNH, GD, MSFT, KMX,...</td>\n",
       "      <td>0.015521</td>\n",
       "      <td>-0.007486</td>\n",
       "      <td>0.009125</td>\n",
       "      <td>-0.008471</td>\n",
       "      <td>0.002961</td>\n",
       "      <td>-0.003461</td>\n",
       "      <td>0.0</td>\n",
       "      <td>100</td>\n",
       "      <td>25</td>\n",
       "    </tr>\n",
       "    <tr>\n",
       "      <th>0</th>\n",
       "      <td>[CERN, CLX, LLY, ABMD, PBCT, HBAN, ED, PNW, AD...</td>\n",
       "      <td>[ANSS, EMN, ITW, MKC, LB, ACN, TMO, KMX, BEN, ...</td>\n",
       "      <td>[AAP, CPB, AXP, DVN, INTU, UNH, GD, MSFT, KMX,...</td>\n",
       "      <td>0.022031</td>\n",
       "      <td>-0.017700</td>\n",
       "      <td>0.016390</td>\n",
       "      <td>-0.009402</td>\n",
       "      <td>0.014876</td>\n",
       "      <td>-0.008250</td>\n",
       "      <td>0.0</td>\n",
       "      <td>100</td>\n",
       "      <td>25</td>\n",
       "    </tr>\n",
       "    <tr>\n",
       "      <th>0</th>\n",
       "      <td>[ORLY, FLIR, DTE, MKTX, WFC, AEP, ATO, LDOS, V...</td>\n",
       "      <td>[ANSS, EMN, ITW, MKC, LB, ACN, TMO, KMX, BEN, ...</td>\n",
       "      <td>[AAP, CPB, AXP, DVN, INTU, UNH, GD, MSFT, KMX,...</td>\n",
       "      <td>0.007092</td>\n",
       "      <td>-0.005474</td>\n",
       "      <td>0.019391</td>\n",
       "      <td>-0.005964</td>\n",
       "      <td>0.008740</td>\n",
       "      <td>-0.007786</td>\n",
       "      <td>0.0</td>\n",
       "      <td>100</td>\n",
       "      <td>25</td>\n",
       "    </tr>\n",
       "  </tbody>\n",
       "</table>\n",
       "</div>"
      ],
      "text/plain": [
       "                                         alt_symbols  \\\n",
       "0  [DLTR, CVX, CINF, NKTR, NEM, HRL, KO, TRV, VZ,...   \n",
       "0  [CLX, AZO, XEL, NFLX, MKTX, DUK, ABT, MCD, RF,...   \n",
       "0  [GPC, MKTX, AZO, JPM, TSCO, ABT, RHI, WM, PRGO...   \n",
       "0  [CERN, CLX, LLY, ABMD, PBCT, HBAN, ED, PNW, AD...   \n",
       "0  [ORLY, FLIR, DTE, MKTX, WFC, AEP, ATO, LDOS, V...   \n",
       "\n",
       "                                    control_symbols1  \\\n",
       "0  [ANSS, EMN, ITW, MKC, LB, ACN, TMO, KMX, BEN, ...   \n",
       "0  [ANSS, EMN, ITW, MKC, LB, ACN, TMO, KMX, BEN, ...   \n",
       "0  [ANSS, EMN, ITW, MKC, LB, ACN, TMO, KMX, BEN, ...   \n",
       "0  [ANSS, EMN, ITW, MKC, LB, ACN, TMO, KMX, BEN, ...   \n",
       "0  [ANSS, EMN, ITW, MKC, LB, ACN, TMO, KMX, BEN, ...   \n",
       "\n",
       "                                    control_symbols2  control1_19  \\\n",
       "0  [AAP, CPB, AXP, DVN, INTU, UNH, GD, MSFT, KMX,...     0.011458   \n",
       "0  [AAP, CPB, AXP, DVN, INTU, UNH, GD, MSFT, KMX,...     0.017055   \n",
       "0  [AAP, CPB, AXP, DVN, INTU, UNH, GD, MSFT, KMX,...     0.015521   \n",
       "0  [AAP, CPB, AXP, DVN, INTU, UNH, GD, MSFT, KMX,...     0.022031   \n",
       "0  [AAP, CPB, AXP, DVN, INTU, UNH, GD, MSFT, KMX,...     0.007092   \n",
       "\n",
       "   control1_20  control2_19  control2_20  alternate19  alternate20  r_value  \\\n",
       "0    -0.009023     0.009331    -0.010343     0.009213    -0.004924      0.0   \n",
       "0    -0.010998     0.007516    -0.005942     0.018384    -0.005728      0.0   \n",
       "0    -0.007486     0.009125    -0.008471     0.002961    -0.003461      0.0   \n",
       "0    -0.017700     0.016390    -0.009402     0.014876    -0.008250      0.0   \n",
       "0    -0.005474     0.019391    -0.005964     0.008740    -0.007786      0.0   \n",
       "\n",
       "   sample_size  portfolio_size  \n",
       "0          100              25  \n",
       "0          100              25  \n",
       "0          100              25  \n",
       "0          100              25  \n",
       "0          100              25  "
      ]
     },
     "execution_count": 542,
     "metadata": {},
     "output_type": "execute_result"
    }
   ],
   "source": [
    "r_thresholds = [0, 0.05, 0.1, 0.15, 0.20] ## threshold value compared to market\n",
    "portfolio_size = [25] ## number of stocks in each portfolio\n",
    "#n_samples = [10000, 50000] ### number of bootstraps of sample_size=portfolio size \n",
    "#n_samples = [2000, 5000] ### number of bootstraps of sample_size=portfolio size \n",
    "n_samples = [100]\n",
    "\n",
    "\n",
    "capm_experiment_df = pd.DataFrame([])\n",
    "\n",
    "#pd.DataFrame(comparison_dic, index=['sample1'])\n",
    "\n",
    "t0 = time()\n",
    "for value in r_thresholds:\n",
    "    \"\"\"generate/sample symbols\"\"\"\n",
    "    for size in portfolio_size:\n",
    "        for sample_size in n_samples:\n",
    "            n_bootstraps = sample_size\n",
    "            for i in range(n_bootstraps):\n",
    "                comparison_dic = {}\n",
    "                \n",
    "                alt_list = []\n",
    "                control_list1 = []\n",
    "\n",
    "                for symbol in companies:\n",
    "                    temp_series = worst_days_returns08[symbol]\n",
    "                    if temp_series-return_sp08>0.1:\n",
    "                        alt_list.append(symbol)\n",
    "                    else:\n",
    "                        control_list1.append(symbol)\n",
    "\n",
    "                ### Add the symbols to the dictionary\n",
    "                comparison_dic['alt_symbols'] = [alt_symbols]\n",
    "                comparison_dic['control_symbols1'] = [control_symbols1]\n",
    "                comparison_dic['control_symbols2'] = [control_symbols2]\n",
    "                        \n",
    "                        \n",
    "\n",
    "                #print(len(alt_list),len(control_list))\n",
    "\n",
    "                #                 alt_symbols = random.sample(alt_list, size)\n",
    "                #                 control_symbols = random.sample(control_list, size)                \n",
    "                alt_symbols = random.sample(alt_list, size)\n",
    "                ctl1_symbols = random.sample(control_list1, size)\n",
    "                ctl2_symbols = random.sample(list(companies), size)\n",
    "\n",
    "\n",
    "                ######--------------------------------#########\n",
    "                \"\"\"ALT PORTOLIO\"\"\"\n",
    "                ###########-------------------------------##############\n",
    "\n",
    "\n",
    "                ### End Dates\n",
    "                alt_end19 = df_price.loc[end_dates, alt_symbols]\n",
    "\n",
    "                ### Start Dates\n",
    "                alt_start19 = df_price.loc[start_dates, alt_symbols]\n",
    "                alt_start19.index = alt_end19.index\n",
    "\n",
    "                ### Generate Montly Returns\n",
    "                alt_ret19 = (alt_end19-alt_start19)/alt_start19\n",
    "\n",
    "\n",
    "                alt_ret19  = alt_ret19 - risk_free_rates\n",
    "                alt_ret18 = alt_ret19[alt_ret19.index<'2019-01-01']\n",
    "\n",
    "\n",
    "                alt_mean_ret19 = alt_ret19.mean(axis=0)\n",
    "                alt_mean_ret18 = alt_ret18.mean(axis=0)\n",
    "\n",
    "                alt_var_ret19 = alt_ret19.var(axis=0)\n",
    "                alt_var_ret18 = alt_ret18.var(axis=0)\n",
    "\n",
    "\n",
    "                alt_cov18 = alt_ret18.cov()\n",
    "                alt_cov19 = alt_ret19.cov()\n",
    "\n",
    "                alt_invcov18 = pd.DataFrame(np.linalg.inv(alt_cov18.values), alt_cov18.columns, alt_cov18.index)\n",
    "                alt_invcov19 = pd.DataFrame(np.linalg.inv(alt_cov19.values), alt_cov19.columns, alt_cov19.index)\n",
    "\n",
    "                alt_zeta18 = alt_invcov18.dot(alt_mean_ret18)\n",
    "                alt_zeta19 = alt_invcov19.dot(alt_mean_ret19)\n",
    "\n",
    "                alt_zeta18_sum = alt_zeta18.sum()\n",
    "                alt_zeta19_sum = alt_zeta19.sum()\n",
    "\n",
    "                alt_weights18 = alt_zeta18/alt_zeta18_sum\n",
    "                alt_weights19 = alt_zeta18/alt_zeta19_sum\n",
    "\n",
    "\n",
    "                alt_weighted_ret18 = alt_weights18*alt_mean_ret18\n",
    "                alt_weighted_ret19 = alt_weights19*alt_mean_ret19\n",
    "\n",
    "\n",
    "\n",
    "                ######--------------------------------#########\n",
    "                \"\"\"CONTROL PORTOLIO 1\"\"\"\n",
    "                ###########-------------------------------##############\n",
    "\n",
    "\n",
    "\n",
    "                ### End Dates\n",
    "                ctl1_end19 = df_price.loc[end_dates, ctl1_symbols]\n",
    "\n",
    "                ### Start Dates\n",
    "                ctl1_start19 = df_price.loc[start_dates, ctl1_symbols]\n",
    "                ctl1_start19.index = ctl1_end19.index\n",
    "\n",
    "                ### Generate Montly Returns\n",
    "                ctl1_ret19 = (ctl1_end19-ctl1_start19)/ctl1_start19\n",
    "\n",
    "\n",
    "                ctl1_ret19  = ctl1_ret19 - risk_free_rates\n",
    "                ctl1_ret18 = ctl1_ret19[ctl1_ret19.index<'2019-01-01'] \n",
    "\n",
    "\n",
    "\n",
    "                ctl1_mean_ret19 = ctl1_ret19.mean(axis=0)\n",
    "                ctl1_mean_ret18 = ctl1_ret18.mean(axis=0)\n",
    "\n",
    "                ctl1_var_ret19 = ctl1_ret19.var(axis=0)\n",
    "                ctl1_var_ret18 = ctl1_ret18.var(axis=0)\n",
    "\n",
    "\n",
    "                ctl1_cov18 = ctl1_ret18.cov()\n",
    "                ctl1_cov19 = ctl1_ret19.cov()\n",
    "\n",
    "\n",
    "                ctl1_invcov18 = pd.DataFrame(np.linalg.inv(ctl1_cov18.values), ctl1_cov18.columns, ctl1_cov18.index)\n",
    "                ctl1_invcov19 = pd.DataFrame(np.linalg.inv(ctl1_cov19.values), ctl1_cov19.columns, ctl1_cov19.index)\n",
    "\n",
    "                ctl1_zeta18 = ctl1_invcov18.dot(ctl1_mean_ret18)\n",
    "                ctl1_zeta19 = ctl1_invcov19.dot(ctl1_mean_ret19)\n",
    "\n",
    "                ctl1_weights18 = ctl1_zeta18/ctl1_zeta18.sum()\n",
    "                ctl1_weights19 = ctl1_zeta18/ctl1_zeta19.sum()\n",
    "\n",
    "\n",
    "                ctl1_weighted_ret18 = ctl1_weights18*ctl1_mean_ret18\n",
    "                ctl1_weighted_ret19 = ctl1_weights19*ctl1_mean_ret19\n",
    "\n",
    "\n",
    "                ######--------------------------------#########\n",
    "                \"\"\"CONTROL PORTOLIO 2\"\"\"\n",
    "                ###########-------------------------------##############\n",
    "\n",
    "                ### End Dates\n",
    "                ctl2_end19 = df_price.loc[end_dates, ctl2_symbols]\n",
    "\n",
    "                ### Start Dates\n",
    "                ctl2_start19 = df_price.loc[start_dates, ctl2_symbols]\n",
    "                ctl2_start19.index = ctl2_end19.index\n",
    "\n",
    "                ### Generate Montly Returns\n",
    "                ctl2_ret19 = (ctl2_end19-ctl2_start19)/ctl2_start19\n",
    "\n",
    "\n",
    "                ctl2_ret19  = ctl2_ret19 - risk_free_rates\n",
    "                ctl2_ret18 = ctl2_ret19[ctl2_ret19.index<'2019-01-01'] \n",
    "\n",
    "\n",
    "                ctl2_mean_ret19 = ctl2_ret19.mean(axis=0)\n",
    "                ctl2_mean_ret18 = ctl2_ret18.mean(axis=0)\n",
    "\n",
    "                ctl2_var_ret19 = ctl2_ret19.var(axis=0)\n",
    "                ctl2_var_ret18 = ctl2_ret18.var(axis=0)\n",
    "\n",
    "\n",
    "                ctl2_cov18 = ctl2_ret18.cov()\n",
    "                ctl2_cov19 = ctl2_ret19.cov()\n",
    "\n",
    "\n",
    "                ctl2_invcov18 = pd.DataFrame(np.linalg.inv(ctl2_cov18.values), ctl2_cov18.columns, ctl2_cov18.index)\n",
    "                ctl2_invcov19 = pd.DataFrame(np.linalg.inv(ctl2_cov19.values), ctl2_cov19.columns, ctl2_cov19.index)\n",
    "\n",
    "                ctl2_zeta18 = ctl2_invcov18.dot(ctl2_mean_ret18)\n",
    "                ctl2_zeta19 = ctl2_invcov19.dot(ctl2_mean_ret19)\n",
    "\n",
    "\n",
    "                ctl2_weights18 = ctl2_zeta18/ctl2_zeta18.sum()\n",
    "                ctl2_weights19 = ctl2_zeta18/ctl2_zeta19.sum()\n",
    "\n",
    "\n",
    "                ctl2_weighted_ret18 = ctl2_weights18*ctl2_mean_ret18\n",
    "                ctl2_weighted_ret19 = ctl2_weights19*ctl2_mean_ret19\n",
    "\n",
    "                ##########-----------------------#############\n",
    "                \"\"\"CALCULATE WEIGHTS\"\"\"\n",
    "                ##########-----------------------#############\n",
    "\n",
    "                alt_test19 = ((df_price.loc['2019-12-31', alt_symbols].iloc[0] - df_price.loc['2018-12-31', alt_symbols].iloc[0])/df_price.loc['2018-12-31', alt_symbols].iloc[0])@alt_weighted_ret18\n",
    "                alt_test20 = ((df_price.loc['2020-03-20', alt_symbols].iloc[0] - df_price.loc['2019-12-31', alt_symbols].iloc[0])/df_price.loc['2019-12-31', alt_symbols].iloc[0])@alt_weighted_ret19\n",
    "\n",
    "\n",
    "                ctl1_test19 = ((df_price.loc['2019-12-31', ctl1_symbols].iloc[0] - df_price.loc['2018-12-31', ctl1_symbols].iloc[0])/df_price.loc['2018-12-31', ctl1_symbols].iloc[0])@ctl1_weighted_ret18\n",
    "                ctl1_test20 = ((df_price.loc['2020-03-20', ctl1_symbols].iloc[0] - df_price.loc['2019-12-31', ctl1_symbols].iloc[0])/df_price.loc['2019-12-31', ctl1_symbols].iloc[0])@ctl1_weighted_ret19\n",
    "\n",
    "\n",
    "                ctl2_test19 = ((df_price.loc['2019-12-31', ctl2_symbols].iloc[0] - df_price.loc['2018-12-31', ctl2_symbols].iloc[0])/df_price.loc['2018-12-31', ctl2_symbols].iloc[0])@ctl2_weighted_ret18\n",
    "                ctl2_test20 = ((df_price.loc['2020-03-20', ctl2_symbols].iloc[0] - df_price.loc['2019-12-31', ctl2_symbols].iloc[0])/df_price.loc['2019-12-31', ctl2_symbols].iloc[0])@ctl2_weighted_ret19\n",
    "\n",
    "                #### Add values to comparison dictionary\n",
    "                comparison_dic['control1_19'] = ctl1_test19,\n",
    "                comparison_dic['control1_20'] = ctl1_test20,\n",
    "                comparison_dic['control2_19'] = ctl2_test19,\n",
    "                comparison_dic['control2_20'] = ctl2_test20,\n",
    "                comparison_dic['alternate19'] = alt_test19\n",
    "                comparison_dic['alternate20'] = alt_test20                \n",
    "                \n",
    "                comparison_dic['r_value'] = value\n",
    "                comparison_dic['sample_size'] = n_bootstraps\n",
    "                comparison_dic['portfolio_size'] = size\n",
    "                ### Add to the dataframe\n",
    "                temp_df = pd.DataFrame(comparison_dic)\n",
    "                capm_experiment_df = pd.concat([capm_experiment_df, temp_df])\n",
    "        print('{} complete'.format((value, size)))\n",
    "        t1 = round((time()-t0)/60, 4)\n",
    "        print('{} minutes have passed'.format(t1))\n",
    "\n",
    "        \n",
    "### CAPTURE THE VARIANCE OF THE RETURNS FOR EACH OF THE SYMBOLS (dont forget to add to dataframe)\n",
    "        \n",
    "capm_experiment_df.head()"
   ]
  },
  {
   "cell_type": "code",
   "execution_count": 543,
   "metadata": {},
   "outputs": [
    {
     "data": {
      "text/html": [
       "<div>\n",
       "<style scoped>\n",
       "    .dataframe tbody tr th:only-of-type {\n",
       "        vertical-align: middle;\n",
       "    }\n",
       "\n",
       "    .dataframe tbody tr th {\n",
       "        vertical-align: top;\n",
       "    }\n",
       "\n",
       "    .dataframe thead th {\n",
       "        text-align: right;\n",
       "    }\n",
       "</style>\n",
       "<table border=\"1\" class=\"dataframe\">\n",
       "  <thead>\n",
       "    <tr style=\"text-align: right;\">\n",
       "      <th></th>\n",
       "      <th>control1_19</th>\n",
       "      <th>control1_20</th>\n",
       "      <th>control2_19</th>\n",
       "      <th>control2_20</th>\n",
       "      <th>alternate19</th>\n",
       "      <th>alternate20</th>\n",
       "      <th>r_value</th>\n",
       "      <th>sample_size</th>\n",
       "      <th>portfolio_size</th>\n",
       "    </tr>\n",
       "  </thead>\n",
       "  <tbody>\n",
       "    <tr>\n",
       "      <th>0</th>\n",
       "      <td>0.011458</td>\n",
       "      <td>-0.009023</td>\n",
       "      <td>0.009331</td>\n",
       "      <td>-0.010343</td>\n",
       "      <td>0.009213</td>\n",
       "      <td>-0.004924</td>\n",
       "      <td>0.0</td>\n",
       "      <td>100</td>\n",
       "      <td>25</td>\n",
       "    </tr>\n",
       "    <tr>\n",
       "      <th>0</th>\n",
       "      <td>0.017055</td>\n",
       "      <td>-0.010998</td>\n",
       "      <td>0.007516</td>\n",
       "      <td>-0.005942</td>\n",
       "      <td>0.018384</td>\n",
       "      <td>-0.005728</td>\n",
       "      <td>0.0</td>\n",
       "      <td>100</td>\n",
       "      <td>25</td>\n",
       "    </tr>\n",
       "  </tbody>\n",
       "</table>\n",
       "</div>"
      ],
      "text/plain": [
       "   control1_19  control1_20  control2_19  control2_20  alternate19  \\\n",
       "0     0.011458    -0.009023     0.009331    -0.010343     0.009213   \n",
       "0     0.017055    -0.010998     0.007516    -0.005942     0.018384   \n",
       "\n",
       "   alternate20  r_value  sample_size  portfolio_size  \n",
       "0    -0.004924      0.0          100              25  \n",
       "0    -0.005728      0.0          100              25  "
      ]
     },
     "execution_count": 543,
     "metadata": {},
     "output_type": "execute_result"
    }
   ],
   "source": [
    "capm_comparison_df = capm_experiment_df.iloc[:, 3:]\n",
    "capm_comparison_df.head(2)"
   ]
  },
  {
   "cell_type": "code",
   "execution_count": null,
   "metadata": {},
   "outputs": [],
   "source": [
    "r_thresholds = [0, 0.05, 0.1, 0.15, 0.20] ## threshold value compared to market\n",
    "portfolio_size = [25] ## number of stocks in each portfolio\n",
    "n_samples = [10]"
   ]
  },
  {
   "cell_type": "code",
   "execution_count": 545,
   "metadata": {},
   "outputs": [
    {
     "data": {
      "image/png": "[encoded data removed]",
      "text/plain": [
       "<Figure size 1080x864 with 1 Axes>"
      ]
     },
     "metadata": {},
     "output_type": "display_data"
    }
   ],
   "source": [
    "plot_boxplots_naive(sample_size=100, portfolio_size=25, dataframe=capm_comparison_df)"
   ]
  },
  {
   "cell_type": "markdown",
   "metadata": {},
   "source": [
    "### RUN THE T-TEST ON 2019 RESULTS"
   ]
  },
  {
   "cell_type": "code",
   "execution_count": null,
   "metadata": {},
   "outputs": [],
   "source": []
  },
  {
   "cell_type": "markdown",
   "metadata": {},
   "source": [
    "### RUN THE T-TEST ON 2020 RESULTS"
   ]
  }
 ],
 "metadata": {
  "kernelspec": {
   "display_name": "Python [conda env:Anaconda3]",
   "language": "python",
   "name": "conda-env-Anaconda3-py"
  },
  "language_info": {
   "codemirror_mode": {
    "name": "ipython",
    "version": 3
   },
   "file_extension": ".py",
   "mimetype": "text/x-python",
   "name": "python",
   "nbconvert_exporter": "python",
   "pygments_lexer": "ipython3",
   "version": "3.6.9"
  }
 },
 "nbformat": 4,
 "nbformat_minor": 2
}
