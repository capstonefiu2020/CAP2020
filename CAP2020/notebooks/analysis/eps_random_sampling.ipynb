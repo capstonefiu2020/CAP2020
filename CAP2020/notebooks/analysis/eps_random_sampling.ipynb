{
 "cells": [
  {
   "cell_type": "code",
   "execution_count": 1,
   "metadata": {},
   "outputs": [],
   "source": [
    "import pandas as pd\n",
    "import matplotlib.pyplot as plt\n",
    "import numpy as np\n",
    "import os\n",
    "import pandas as pd\n",
    "from io import StringIO\n",
    "import matplotlib.dates as dates\n",
    "from datetime import datetime\n",
    "import matplotlib.ticker as ticker\n",
    "from random import shuffle\n",
    "from time import time\n",
    "from pandas.plotting import register_matplotlib_converters\n",
    "from sklearn.preprocessing import StandardScaler\n",
    "from sklearn import preprocessing\n",
    "import seaborn as sns\n",
    "#os.chdir('C:\\\\Users\\\\A Sua\\\\Documents\\\\FIU\\\\CAP2020')\n",
    "os.chdir('C:\\\\Users\\\\Daniel\\\\Python and R Notebooks\\\\CAP2020\\\\CAP2020')"
   ]
  },
  {
   "cell_type": "markdown",
   "metadata": {},
   "source": [
    "## Import Data"
   ]
  },
  {
   "cell_type": "code",
   "execution_count": 2,
   "metadata": {},
   "outputs": [],
   "source": [
    "earnings_path = 'data\\\\processed\\\\df_quarter_eps_average_08_09.csv'\n",
    "training_price_path = 'data\\\\processed\\\\df_price07_18.csv'\n",
    "dividend_path = 'data\\\\processed\\\\df_monthly_div_07_18.csv'\n",
    "key_path = 'data\\\\external\\\\quarterly_key_sp_500.csv'\n",
    "testing_price_path = 'data\\\\processed\\\\df_price19.csv'\n",
    "testing_dividend_path = 'data\\\\processed\\\\df_quarter_div_19.csv'\n",
    "# main metric import\n",
    "\n",
    "df = pd.read_csv(earnings_path)\n",
    "df.rename(columns = {'Unnamed: 0':'Stock'}, inplace = True)\n",
    "df.index = df['Stock']\n",
    "df.drop('Stock', axis=1, inplace = True)\n",
    "\n",
    "# import daily price 07-18\n",
    "\n",
    "df_price = pd.read_csv(training_price_path)\n",
    "df_price.rename(columns = {'Unnamed: 0':'Stock'}, inplace = True)\n",
    "new = df_price['Stock'].str.split('_', expand=True)\n",
    "df_price['symbol'] = new[0]\n",
    "df_price.index = df_price['symbol']\n",
    "df_price.drop(['Stock', 'symbol'], axis=1, inplace = True)\n",
    "\n",
    "# import dividend matrix\n",
    "\n",
    "df_div = pd.read_csv(dividend_path)\n",
    "df_div.rename(columns = {'Unnamed: 0':'Stock'}, inplace = True)\n",
    "df_div.index = df_div['Stock']\n",
    "df_div.drop('Stock', axis=1, inplace = True)\n",
    "\n",
    "# import 2019 price\n",
    "\n",
    "df_price_19 = pd.read_csv(testing_price_path)\n",
    "df_price_19.rename(columns = {'Unnamed: 0':'Stock'}, inplace = True)\n",
    "new = df_price_19['Stock'].str.split('_', expand=True)\n",
    "df_price_19['symbol'] = new[0]\n",
    "df_price_19.index = df_price_19['symbol']\n",
    "df_price_19.drop(['Stock', 'symbol'], axis=1, inplace = True)\n",
    "df_price_19.sort_index(inplace=True)\n",
    "\n",
    "# import 2019 dividends\n",
    "df_div_19 = pd.read_csv(testing_dividend_path)\n",
    "df_div_19.rename(columns = {'Unnamed: 0':'Stock'}, inplace = True)\n",
    "df_div_19.index = df_div_19['Stock']\n",
    "df_div_19.drop('Stock', axis=1, inplace = True)\n",
    "#df_key = pd.read_csv(key_path)\n",
    "#df_key.index = df_key['symbol']\n",
    "#df_key.drop(['symbol', 'Unnamed: 2'], axis=1, inplace=True)"
   ]
  },
  {
   "cell_type": "markdown",
   "metadata": {},
   "source": [
    "## Match Indices"
   ]
  },
  {
   "cell_type": "code",
   "execution_count": 3,
   "metadata": {},
   "outputs": [
    {
     "name": "stdout",
     "output_type": "stream",
     "text": [
      "These stocks are missing from 2019 data: Index(['BBT', 'BHI', 'CBS', 'CELG', 'JEC', 'KLAC', 'NEM', 'PIR', 'STI', 'SYMC',\n",
      "       'VIAB', 'XRX'],\n",
      "      dtype='object', name='symbol')\n",
      "df shape: (346, 2)\n",
      "df_div shape: (346, 108)\n"
     ]
    }
   ],
   "source": [
    "# define indices\n",
    "idx_price = df_price.index\n",
    "idx_price19 = df_price_19.index\n",
    "\n",
    "# drop stocks\n",
    "idx_price_diff1 = idx_price.difference(idx_price19)\n",
    "idx_price_diff2 = idx_price19.difference(idx_price)\n",
    "\n",
    "df_price.drop(idx_price_diff1, inplace=True)\n",
    "print('These stocks are missing from 2019 data: {}'.format(idx_price_diff1))\n",
    "\n",
    "# define indices\n",
    "idx_price = df_price.index\n",
    "idx = df.index\n",
    "idx_div = df_div.index\n",
    "\n",
    "# drop stocks from metric dataframe\n",
    "\n",
    "idx_diff1 = idx.difference(idx_price)\n",
    "df.drop(idx_diff1, inplace=True)\n",
    "print('df shape: {}'.format(df.shape))\n",
    "\n",
    "# drop stocks from dividend dataframe\n",
    "\n",
    "idx_diff2 = idx_div.difference(idx_price)\n",
    "df_div.drop(idx_diff2, inplace=True)\n",
    "print('df_div shape: {}'.format(df_div.shape))\n",
    "\n",
    "### These are only necessary "
   ]
  },
  {
   "cell_type": "markdown",
   "metadata": {},
   "source": [
    "## Build Candidate Pool"
   ]
  },
  {
   "cell_type": "code",
   "execution_count": 4,
   "metadata": {},
   "outputs": [
    {
     "name": "stdout",
     "output_type": "stream",
     "text": [
      "Candidate df shape: (69, 4)\n",
      "Not Candidate df shape: (277, 4)\n"
     ]
    },
    {
     "name": "stderr",
     "output_type": "stream",
     "text": [
      "C:\\ProgramData\\Anaconda3\\lib\\site-packages\\ipykernel_launcher.py:12: SettingWithCopyWarning: \n",
      "A value is trying to be set on a copy of a slice from a DataFrame.\n",
      "Try using .loc[row_indexer,col_indexer] = value instead\n",
      "\n",
      "See the caveats in the documentation: http://pandas.pydata.org/pandas-docs/stable/user_guide/indexing.html#returning-a-view-versus-a-copy\n",
      "  if sys.path[0] == '':\n",
      "C:\\ProgramData\\Anaconda3\\lib\\site-packages\\ipykernel_launcher.py:13: SettingWithCopyWarning: \n",
      "A value is trying to be set on a copy of a slice from a DataFrame.\n",
      "Try using .loc[row_indexer,col_indexer] = value instead\n",
      "\n",
      "See the caveats in the documentation: http://pandas.pydata.org/pandas-docs/stable/user_guide/indexing.html#returning-a-view-versus-a-copy\n",
      "  del sys.path[0]\n"
     ]
    }
   ],
   "source": [
    "# sort stocks by difference between average and recession eps\n",
    "# 20% smallest differences become candidate stocks\n",
    "\n",
    "ratio = int(round(len(df.index)*0.2))\n",
    "df['difference'] = abs(df['Recession EPS'] - df['07-18 EPS'])\n",
    "df.sort_values(by=['difference'], inplace=True)\n",
    "df['colors'] = ''\n",
    "\n",
    "df_cand = df.iloc[0:ratio, :]\n",
    "df_not = df.iloc[ratio:, :]\n",
    "\n",
    "df_cand['colors'] = 'red'\n",
    "df_not['colors'] = 'blue'\n",
    "\n",
    "print('Candidate df shape: {}'.format(df_cand.shape))\n",
    "print('Not Candidate df shape: {}'.format(df_not.shape))"
   ]
  },
  {
   "cell_type": "code",
   "execution_count": null,
   "metadata": {},
   "outputs": [],
   "source": []
  }
 ],
 "metadata": {
  "kernelspec": {
   "display_name": "Python 3",
   "language": "python",
   "name": "python3"
  },
  "language_info": {
   "codemirror_mode": {
    "name": "ipython",
    "version": 3
   },
   "file_extension": ".py",
   "mimetype": "text/x-python",
   "name": "python",
   "nbconvert_exporter": "python",
   "pygments_lexer": "ipython3",
   "version": "3.7.3"
  }
 },
 "nbformat": 4,
 "nbformat_minor": 2
}
