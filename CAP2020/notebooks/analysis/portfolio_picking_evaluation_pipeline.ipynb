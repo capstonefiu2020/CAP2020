{
 "cells": [
  {
   "cell_type": "code",
   "execution_count": 1,
   "metadata": {},
   "outputs": [],
   "source": [
    "import pandas as pd\n",
    "import matplotlib.pyplot as plt\n",
    "import numpy as np\n",
    "import os\n",
    "import pandas as pd\n",
    "from io import StringIO\n",
    "import matplotlib.dates as dates\n",
    "from datetime import datetime\n",
    "import matplotlib.ticker as ticker\n",
    "from random import shuffle\n",
    "from time import time\n",
    "from pandas.plotting import register_matplotlib_converters\n",
    "from sklearn.preprocessing import StandardScaler\n",
    "%matplotlib notebook\n",
    "\n",
    "#os.chdir('C:\\\\Users\\\\A Sua\\\\Documents\\\\FIU\\\\CAP2020')\n",
    "os.chdir('C:\\\\Users\\\\Daniel\\\\Python and R Notebooks\\\\CAP2020\\\\CAP2020')"
   ]
  },
  {
   "cell_type": "markdown",
   "metadata": {},
   "source": [
    "## Import Data"
   ]
  },
  {
   "cell_type": "code",
   "execution_count": 2,
   "metadata": {},
   "outputs": [],
   "source": [
    "earnings_path = 'data\\\\processed\\\\df_quarter_eps_average_08_09.csv'\n",
    "key_path = 'data\\\\external\\\\quarterly_key_sp_500.csv'"
   ]
  },
  {
   "cell_type": "code",
   "execution_count": 3,
   "metadata": {},
   "outputs": [],
   "source": [
    "df = pd.read_csv(earnings_path)\n",
    "df.rename(columns = {'Unnamed: 0':'Stock'}, inplace = True)\n",
    "df.index = df['Stock']\n",
    "df.drop('Stock', axis=1, inplace = True)"
   ]
  },
  {
   "cell_type": "code",
   "execution_count": 4,
   "metadata": {},
   "outputs": [
    {
     "data": {
      "text/plain": [
       "(528, 2)"
      ]
     },
     "execution_count": 4,
     "metadata": {},
     "output_type": "execute_result"
    }
   ],
   "source": [
    "df.shape"
   ]
  },
  {
   "cell_type": "code",
   "execution_count": 5,
   "metadata": {},
   "outputs": [],
   "source": [
    "df_key = pd.read_csv(key_path)\n",
    "df_key.index = df_key['symbol']\n",
    "df_key.drop(['symbol', 'Unnamed: 2'], axis=1, inplace=True)"
   ]
  },
  {
   "cell_type": "code",
   "execution_count": 6,
   "metadata": {},
   "outputs": [
    {
     "data": {
      "text/html": [
       "<div>\n",
       "<style scoped>\n",
       "    .dataframe tbody tr th:only-of-type {\n",
       "        vertical-align: middle;\n",
       "    }\n",
       "\n",
       "    .dataframe tbody tr th {\n",
       "        vertical-align: top;\n",
       "    }\n",
       "\n",
       "    .dataframe thead th {\n",
       "        text-align: right;\n",
       "    }\n",
       "</style>\n",
       "<table border=\"1\" class=\"dataframe\">\n",
       "  <thead>\n",
       "    <tr style=\"text-align: right;\">\n",
       "      <th></th>\n",
       "      <th>company</th>\n",
       "    </tr>\n",
       "    <tr>\n",
       "      <th>symbol</th>\n",
       "      <th></th>\n",
       "    </tr>\n",
       "  </thead>\n",
       "  <tbody>\n",
       "    <tr>\n",
       "      <th>A</th>\n",
       "      <td>AGILENT TECHNOLOGIES INC</td>\n",
       "    </tr>\n",
       "    <tr>\n",
       "      <th>AA</th>\n",
       "      <td>ALCOA INC</td>\n",
       "    </tr>\n",
       "    <tr>\n",
       "      <th>AAP</th>\n",
       "      <td>ADVANCE AUTO PARTS INC</td>\n",
       "    </tr>\n",
       "    <tr>\n",
       "      <th>AAPL</th>\n",
       "      <td>APPLE</td>\n",
       "    </tr>\n",
       "    <tr>\n",
       "      <th>ABBV</th>\n",
       "      <td>ABBVIE INC</td>\n",
       "    </tr>\n",
       "    <tr>\n",
       "      <th>...</th>\n",
       "      <td>...</td>\n",
       "    </tr>\n",
       "    <tr>\n",
       "      <th>XYL</th>\n",
       "      <td>XYLEM INC</td>\n",
       "    </tr>\n",
       "    <tr>\n",
       "      <th>YUM</th>\n",
       "      <td>YUM BRANDS INC</td>\n",
       "    </tr>\n",
       "    <tr>\n",
       "      <th>ZMH</th>\n",
       "      <td>ZIMMER BIOMET HOLDINGS INC</td>\n",
       "    </tr>\n",
       "    <tr>\n",
       "      <th>ZION</th>\n",
       "      <td>ZIONS BANCORPORATION</td>\n",
       "    </tr>\n",
       "    <tr>\n",
       "      <th>ZTS</th>\n",
       "      <td>ZOETIS INC</td>\n",
       "    </tr>\n",
       "  </tbody>\n",
       "</table>\n",
       "<p>464 rows × 1 columns</p>\n",
       "</div>"
      ],
      "text/plain": [
       "                           company\n",
       "symbol                            \n",
       "A         AGILENT TECHNOLOGIES INC\n",
       "AA                       ALCOA INC\n",
       "AAP         ADVANCE AUTO PARTS INC\n",
       "AAPL                         APPLE\n",
       "ABBV                    ABBVIE INC\n",
       "...                            ...\n",
       "XYL                      XYLEM INC\n",
       "YUM                 YUM BRANDS INC\n",
       "ZMH     ZIMMER BIOMET HOLDINGS INC\n",
       "ZION          ZIONS BANCORPORATION\n",
       "ZTS                     ZOETIS INC\n",
       "\n",
       "[464 rows x 1 columns]"
      ]
     },
     "execution_count": 6,
     "metadata": {},
     "output_type": "execute_result"
    }
   ],
   "source": [
    "df_key"
   ]
  },
  {
   "cell_type": "markdown",
   "metadata": {},
   "source": [
    "## Limit to only SP500 Stocks"
   ]
  },
  {
   "cell_type": "markdown",
   "metadata": {},
   "source": [
    "#### Quarterly data has stocks outside of SP500, have to consider whether its worth it to keep or not"
   ]
  },
  {
   "cell_type": "code",
   "execution_count": 7,
   "metadata": {},
   "outputs": [],
   "source": [
    "idx1 = df.index\n",
    "idx2 = df_key.index"
   ]
  },
  {
   "cell_type": "code",
   "execution_count": 8,
   "metadata": {},
   "outputs": [
    {
     "data": {
      "text/plain": [
       "Index(['AAN', 'ABK', 'ACC', 'ACIW', 'ACXM', 'AEO', 'AFG', 'AGCO', 'AHL',\n",
       "       'AKRX',\n",
       "       ...\n",
       "       'VIVO', 'WDR', 'WEN', 'WFT', 'WIN', 'WINA', 'WPI', 'WPO', 'WYN', 'X'],\n",
       "      dtype='object', length=135)"
      ]
     },
     "execution_count": 8,
     "metadata": {},
     "output_type": "execute_result"
    }
   ],
   "source": [
    "idx_diff1 = idx1.difference(idx2)\n",
    "idx_diff1"
   ]
  },
  {
   "cell_type": "code",
   "execution_count": 9,
   "metadata": {},
   "outputs": [
    {
     "data": {
      "text/plain": [
       "(393, 2)"
      ]
     },
     "execution_count": 9,
     "metadata": {},
     "output_type": "execute_result"
    }
   ],
   "source": [
    "df.drop(idx_diff1, inplace=True)\n",
    "df.shape"
   ]
  },
  {
   "cell_type": "markdown",
   "metadata": {},
   "source": [
    "## Quick Analysis"
   ]
  },
  {
   "cell_type": "code",
   "execution_count": 10,
   "metadata": {},
   "outputs": [],
   "source": [
    "df['hypothesis']=np.where(df['Recession EPS']>=df['Average EPS'], 'Candidate', 'Not Candidate')\n",
    "colors = {'Candidate':'red', 'Not Candidate':'blue'}\n",
    "df['colors']=df['hypothesis'].apply(lambda x: colors[x])"
   ]
  },
  {
   "cell_type": "code",
   "execution_count": 11,
   "metadata": {},
   "outputs": [],
   "source": [
    "df_cand = df[df['hypothesis']=='Candidate']\n",
    "df_not = df[df['hypothesis']=='Not Candidate']"
   ]
  },
  {
   "cell_type": "code",
   "execution_count": 12,
   "metadata": {},
   "outputs": [
    {
     "data": {
      "text/html": [
       "<div>\n",
       "<style scoped>\n",
       "    .dataframe tbody tr th:only-of-type {\n",
       "        vertical-align: middle;\n",
       "    }\n",
       "\n",
       "    .dataframe tbody tr th {\n",
       "        vertical-align: top;\n",
       "    }\n",
       "\n",
       "    .dataframe thead th {\n",
       "        text-align: right;\n",
       "    }\n",
       "</style>\n",
       "<table border=\"1\" class=\"dataframe\">\n",
       "  <thead>\n",
       "    <tr style=\"text-align: right;\">\n",
       "      <th></th>\n",
       "      <th>Recession EPS</th>\n",
       "      <th>Average EPS</th>\n",
       "      <th>hypothesis</th>\n",
       "      <th>colors</th>\n",
       "    </tr>\n",
       "    <tr>\n",
       "      <th>Stock</th>\n",
       "      <th></th>\n",
       "      <th></th>\n",
       "      <th></th>\n",
       "      <th></th>\n",
       "    </tr>\n",
       "  </thead>\n",
       "  <tbody>\n",
       "    <tr>\n",
       "      <th>ABT</th>\n",
       "      <td>0.8625</td>\n",
       "      <td>0.575000</td>\n",
       "      <td>Candidate</td>\n",
       "      <td>red</td>\n",
       "    </tr>\n",
       "    <tr>\n",
       "      <th>ADSK</th>\n",
       "      <td>0.0625</td>\n",
       "      <td>0.011458</td>\n",
       "      <td>Candidate</td>\n",
       "      <td>red</td>\n",
       "    </tr>\n",
       "    <tr>\n",
       "      <th>AEE</th>\n",
       "      <td>0.6675</td>\n",
       "      <td>0.452083</td>\n",
       "      <td>Candidate</td>\n",
       "      <td>red</td>\n",
       "    </tr>\n",
       "    <tr>\n",
       "      <th>AES</th>\n",
       "      <td>0.2300</td>\n",
       "      <td>0.032083</td>\n",
       "      <td>Candidate</td>\n",
       "      <td>red</td>\n",
       "    </tr>\n",
       "    <tr>\n",
       "      <th>ARE</th>\n",
       "      <td>0.7975</td>\n",
       "      <td>0.432708</td>\n",
       "      <td>Candidate</td>\n",
       "      <td>red</td>\n",
       "    </tr>\n",
       "    <tr>\n",
       "      <th>...</th>\n",
       "      <td>...</td>\n",
       "      <td>...</td>\n",
       "      <td>...</td>\n",
       "      <td>...</td>\n",
       "    </tr>\n",
       "    <tr>\n",
       "      <th>WEC</th>\n",
       "      <td>0.8175</td>\n",
       "      <td>0.738125</td>\n",
       "      <td>Candidate</td>\n",
       "      <td>red</td>\n",
       "    </tr>\n",
       "    <tr>\n",
       "      <th>WLTW</th>\n",
       "      <td>0.5750</td>\n",
       "      <td>0.569583</td>\n",
       "      <td>Candidate</td>\n",
       "      <td>red</td>\n",
       "    </tr>\n",
       "    <tr>\n",
       "      <th>WU</th>\n",
       "      <td>0.3250</td>\n",
       "      <td>0.298333</td>\n",
       "      <td>Candidate</td>\n",
       "      <td>red</td>\n",
       "    </tr>\n",
       "    <tr>\n",
       "      <th>XRAY</th>\n",
       "      <td>0.4525</td>\n",
       "      <td>0.172708</td>\n",
       "      <td>Candidate</td>\n",
       "      <td>red</td>\n",
       "    </tr>\n",
       "    <tr>\n",
       "      <th>ZMH</th>\n",
       "      <td>0.8900</td>\n",
       "      <td>0.828542</td>\n",
       "      <td>Candidate</td>\n",
       "      <td>red</td>\n",
       "    </tr>\n",
       "  </tbody>\n",
       "</table>\n",
       "<p>65 rows × 4 columns</p>\n",
       "</div>"
      ],
      "text/plain": [
       "       Recession EPS  Average EPS hypothesis colors\n",
       "Stock                                              \n",
       "ABT           0.8625     0.575000  Candidate    red\n",
       "ADSK          0.0625     0.011458  Candidate    red\n",
       "AEE           0.6675     0.452083  Candidate    red\n",
       "AES           0.2300     0.032083  Candidate    red\n",
       "ARE           0.7975     0.432708  Candidate    red\n",
       "...              ...          ...        ...    ...\n",
       "WEC           0.8175     0.738125  Candidate    red\n",
       "WLTW          0.5750     0.569583  Candidate    red\n",
       "WU            0.3250     0.298333  Candidate    red\n",
       "XRAY          0.4525     0.172708  Candidate    red\n",
       "ZMH           0.8900     0.828542  Candidate    red\n",
       "\n",
       "[65 rows x 4 columns]"
      ]
     },
     "execution_count": 12,
     "metadata": {},
     "output_type": "execute_result"
    }
   ],
   "source": [
    "df_cand"
   ]
  },
  {
   "cell_type": "code",
   "execution_count": 13,
   "metadata": {},
   "outputs": [
    {
     "data": {
      "text/html": [
       "<div>\n",
       "<style scoped>\n",
       "    .dataframe tbody tr th:only-of-type {\n",
       "        vertical-align: middle;\n",
       "    }\n",
       "\n",
       "    .dataframe tbody tr th {\n",
       "        vertical-align: top;\n",
       "    }\n",
       "\n",
       "    .dataframe thead th {\n",
       "        text-align: right;\n",
       "    }\n",
       "</style>\n",
       "<table border=\"1\" class=\"dataframe\">\n",
       "  <thead>\n",
       "    <tr style=\"text-align: right;\">\n",
       "      <th></th>\n",
       "      <th>Recession EPS</th>\n",
       "      <th>Average EPS</th>\n",
       "      <th>hypothesis</th>\n",
       "      <th>colors</th>\n",
       "    </tr>\n",
       "    <tr>\n",
       "      <th>Stock</th>\n",
       "      <th></th>\n",
       "      <th></th>\n",
       "      <th></th>\n",
       "      <th></th>\n",
       "    </tr>\n",
       "  </thead>\n",
       "  <tbody>\n",
       "    <tr>\n",
       "      <th>AAPL</th>\n",
       "      <td>1.45250</td>\n",
       "      <td>4.532708</td>\n",
       "      <td>Not Candidate</td>\n",
       "      <td>blue</td>\n",
       "    </tr>\n",
       "    <tr>\n",
       "      <th>AAP</th>\n",
       "      <td>0.67000</td>\n",
       "      <td>1.230625</td>\n",
       "      <td>Not Candidate</td>\n",
       "      <td>blue</td>\n",
       "    </tr>\n",
       "    <tr>\n",
       "      <th>AA</th>\n",
       "      <td>-0.55500</td>\n",
       "      <td>-0.019542</td>\n",
       "      <td>Not Candidate</td>\n",
       "      <td>blue</td>\n",
       "    </tr>\n",
       "    <tr>\n",
       "      <th>ABC</th>\n",
       "      <td>0.70000</td>\n",
       "      <td>0.710417</td>\n",
       "      <td>Not Candidate</td>\n",
       "      <td>blue</td>\n",
       "    </tr>\n",
       "    <tr>\n",
       "      <th>ABMD</th>\n",
       "      <td>-0.21000</td>\n",
       "      <td>0.186042</td>\n",
       "      <td>Not Candidate</td>\n",
       "      <td>blue</td>\n",
       "    </tr>\n",
       "    <tr>\n",
       "      <th>...</th>\n",
       "      <td>...</td>\n",
       "      <td>...</td>\n",
       "      <td>...</td>\n",
       "      <td>...</td>\n",
       "    </tr>\n",
       "    <tr>\n",
       "      <th>XLNX</th>\n",
       "      <td>0.30000</td>\n",
       "      <td>0.511042</td>\n",
       "      <td>Not Candidate</td>\n",
       "      <td>blue</td>\n",
       "    </tr>\n",
       "    <tr>\n",
       "      <th>XOM</th>\n",
       "      <td>1.55000</td>\n",
       "      <td>1.555833</td>\n",
       "      <td>Not Candidate</td>\n",
       "      <td>blue</td>\n",
       "    </tr>\n",
       "    <tr>\n",
       "      <th>XRX</th>\n",
       "      <td>0.12775</td>\n",
       "      <td>0.167521</td>\n",
       "      <td>Not Candidate</td>\n",
       "      <td>blue</td>\n",
       "    </tr>\n",
       "    <tr>\n",
       "      <th>YUM</th>\n",
       "      <td>0.54250</td>\n",
       "      <td>0.743542</td>\n",
       "      <td>Not Candidate</td>\n",
       "      <td>blue</td>\n",
       "    </tr>\n",
       "    <tr>\n",
       "      <th>ZION</th>\n",
       "      <td>-2.93250</td>\n",
       "      <td>0.094375</td>\n",
       "      <td>Not Candidate</td>\n",
       "      <td>blue</td>\n",
       "    </tr>\n",
       "  </tbody>\n",
       "</table>\n",
       "<p>328 rows × 4 columns</p>\n",
       "</div>"
      ],
      "text/plain": [
       "       Recession EPS  Average EPS     hypothesis colors\n",
       "Stock                                                  \n",
       "AAPL         1.45250     4.532708  Not Candidate   blue\n",
       "AAP          0.67000     1.230625  Not Candidate   blue\n",
       "AA          -0.55500    -0.019542  Not Candidate   blue\n",
       "ABC          0.70000     0.710417  Not Candidate   blue\n",
       "ABMD        -0.21000     0.186042  Not Candidate   blue\n",
       "...              ...          ...            ...    ...\n",
       "XLNX         0.30000     0.511042  Not Candidate   blue\n",
       "XOM          1.55000     1.555833  Not Candidate   blue\n",
       "XRX          0.12775     0.167521  Not Candidate   blue\n",
       "YUM          0.54250     0.743542  Not Candidate   blue\n",
       "ZION        -2.93250     0.094375  Not Candidate   blue\n",
       "\n",
       "[328 rows x 4 columns]"
      ]
     },
     "execution_count": 13,
     "metadata": {},
     "output_type": "execute_result"
    }
   ],
   "source": [
    "df_not"
   ]
  },
  {
   "cell_type": "code",
   "execution_count": 14,
   "metadata": {},
   "outputs": [
    {
     "data": {
      "image/png": "[encoded data removed]",
      "text/plain": [
       "<Figure size 720x720 with 1 Axes>"
      ]
     },
     "metadata": {
      "needs_background": "light"
     },
     "output_type": "display_data"
    }
   ],
   "source": [
    "sub_title_font =14\n",
    "legend_font =8\n",
    "axis_font = 10\n",
    "x = np.linspace(-3, 4, 100)\n",
    "y=x\n",
    "\n",
    "fig, ax = plt.subplots(1, 1, figsize=(10,10))\n",
    "cand = ax.scatter(df_cand['Recession EPS'], df_cand['Average EPS'], c=df_cand.colors, label='Candidate')\n",
    "not_cand = ax.scatter(df_not['Recession EPS'], df_not['Average EPS'], c=df_not.colors, label='Not Candidate')\n",
    "line = ax.plot(x, y, c=\"green\", label='y=x')\n",
    "\n",
    "plt.xlabel('Recession EPS', fontsize=sub_title_font)\n",
    "plt.ylabel('Average EPS', fontsize=sub_title_font)\n",
    "plt.title('EPS Plot', fontsize=sub_title_font)\n",
    "ax.tick_params(axis=\"x\", labelsize=axis_font)\n",
    "ax.tick_params(axis=\"y\", labelsize=axis_font)\n",
    "\n",
    "plt.grid(which='major')\n",
    "ax.legend(loc = 'upper left', title='Candidacy')\n",
    "plt.show()"
   ]
  },
  {
   "cell_type": "markdown",
   "metadata": {},
   "source": [
    "## Build Portfolio"
   ]
  },
  {
   "cell_type": "code",
   "execution_count": 15,
   "metadata": {},
   "outputs": [
    {
     "data": {
      "text/html": [
       "<div>\n",
       "<style scoped>\n",
       "    .dataframe tbody tr th:only-of-type {\n",
       "        vertical-align: middle;\n",
       "    }\n",
       "\n",
       "    .dataframe tbody tr th {\n",
       "        vertical-align: top;\n",
       "    }\n",
       "\n",
       "    .dataframe thead th {\n",
       "        text-align: right;\n",
       "    }\n",
       "</style>\n",
       "<table border=\"1\" class=\"dataframe\">\n",
       "  <thead>\n",
       "    <tr style=\"text-align: right;\">\n",
       "      <th></th>\n",
       "      <th>Recession EPS</th>\n",
       "      <th>Average EPS</th>\n",
       "      <th>hypothesis</th>\n",
       "      <th>colors</th>\n",
       "    </tr>\n",
       "    <tr>\n",
       "      <th>Stock</th>\n",
       "      <th></th>\n",
       "      <th></th>\n",
       "      <th></th>\n",
       "      <th></th>\n",
       "    </tr>\n",
       "  </thead>\n",
       "  <tbody>\n",
       "    <tr>\n",
       "      <th>ABT</th>\n",
       "      <td>0.8625</td>\n",
       "      <td>0.575000</td>\n",
       "      <td>Candidate</td>\n",
       "      <td>red</td>\n",
       "    </tr>\n",
       "    <tr>\n",
       "      <th>ADSK</th>\n",
       "      <td>0.0625</td>\n",
       "      <td>0.011458</td>\n",
       "      <td>Candidate</td>\n",
       "      <td>red</td>\n",
       "    </tr>\n",
       "    <tr>\n",
       "      <th>AEE</th>\n",
       "      <td>0.6675</td>\n",
       "      <td>0.452083</td>\n",
       "      <td>Candidate</td>\n",
       "      <td>red</td>\n",
       "    </tr>\n",
       "    <tr>\n",
       "      <th>AES</th>\n",
       "      <td>0.2300</td>\n",
       "      <td>0.032083</td>\n",
       "      <td>Candidate</td>\n",
       "      <td>red</td>\n",
       "    </tr>\n",
       "    <tr>\n",
       "      <th>ARE</th>\n",
       "      <td>0.7975</td>\n",
       "      <td>0.432708</td>\n",
       "      <td>Candidate</td>\n",
       "      <td>red</td>\n",
       "    </tr>\n",
       "    <tr>\n",
       "      <th>...</th>\n",
       "      <td>...</td>\n",
       "      <td>...</td>\n",
       "      <td>...</td>\n",
       "      <td>...</td>\n",
       "    </tr>\n",
       "    <tr>\n",
       "      <th>WEC</th>\n",
       "      <td>0.8175</td>\n",
       "      <td>0.738125</td>\n",
       "      <td>Candidate</td>\n",
       "      <td>red</td>\n",
       "    </tr>\n",
       "    <tr>\n",
       "      <th>WLTW</th>\n",
       "      <td>0.5750</td>\n",
       "      <td>0.569583</td>\n",
       "      <td>Candidate</td>\n",
       "      <td>red</td>\n",
       "    </tr>\n",
       "    <tr>\n",
       "      <th>WU</th>\n",
       "      <td>0.3250</td>\n",
       "      <td>0.298333</td>\n",
       "      <td>Candidate</td>\n",
       "      <td>red</td>\n",
       "    </tr>\n",
       "    <tr>\n",
       "      <th>XRAY</th>\n",
       "      <td>0.4525</td>\n",
       "      <td>0.172708</td>\n",
       "      <td>Candidate</td>\n",
       "      <td>red</td>\n",
       "    </tr>\n",
       "    <tr>\n",
       "      <th>ZMH</th>\n",
       "      <td>0.8900</td>\n",
       "      <td>0.828542</td>\n",
       "      <td>Candidate</td>\n",
       "      <td>red</td>\n",
       "    </tr>\n",
       "  </tbody>\n",
       "</table>\n",
       "<p>65 rows × 4 columns</p>\n",
       "</div>"
      ],
      "text/plain": [
       "       Recession EPS  Average EPS hypothesis colors\n",
       "Stock                                              \n",
       "ABT           0.8625     0.575000  Candidate    red\n",
       "ADSK          0.0625     0.011458  Candidate    red\n",
       "AEE           0.6675     0.452083  Candidate    red\n",
       "AES           0.2300     0.032083  Candidate    red\n",
       "ARE           0.7975     0.432708  Candidate    red\n",
       "...              ...          ...        ...    ...\n",
       "WEC           0.8175     0.738125  Candidate    red\n",
       "WLTW          0.5750     0.569583  Candidate    red\n",
       "WU            0.3250     0.298333  Candidate    red\n",
       "XRAY          0.4525     0.172708  Candidate    red\n",
       "ZMH           0.8900     0.828542  Candidate    red\n",
       "\n",
       "[65 rows x 4 columns]"
      ]
     },
     "execution_count": 15,
     "metadata": {},
     "output_type": "execute_result"
    }
   ],
   "source": [
    "df_cand"
   ]
  },
  {
   "cell_type": "code",
   "execution_count": null,
   "metadata": {},
   "outputs": [],
   "source": []
  }
 ],
 "metadata": {
  "kernelspec": {
   "display_name": "Python 3",
   "language": "python",
   "name": "python3"
  },
  "language_info": {
   "codemirror_mode": {
    "name": "ipython",
    "version": 3
   },
   "file_extension": ".py",
   "mimetype": "text/x-python",
   "name": "python",
   "nbconvert_exporter": "python",
   "pygments_lexer": "ipython3",
   "version": "3.7.3"
  }
 },
 "nbformat": 4,
 "nbformat_minor": 2
}
