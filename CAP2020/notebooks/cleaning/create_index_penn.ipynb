{
 "cells": [
  {
   "cell_type": "markdown",
   "metadata": {},
   "source": [
    "### PACKAGES"
   ]
  },
  {
   "cell_type": "code",
   "execution_count": 2,
   "metadata": {},
   "outputs": [],
   "source": [
    "import os\n",
    "import pandas as pd\n",
    "import matplotlib.pyplot as plt\n",
    "from time import time\n",
    "import numpy as np\n",
    "from sklearn.utils import shuffle"
   ]
  },
  {
   "cell_type": "code",
   "execution_count": 8,
   "metadata": {},
   "outputs": [],
   "source": [
    "os.chdir('C:\\\\Users\\\\A Sua\\\\Documents\\\\FIU\\\\CAP2020')"
   ]
  },
  {
   "cell_type": "markdown",
   "metadata": {},
   "source": [
    "### DEFINE FUNCTIONS/WRAPPERS"
   ]
  },
  {
   "cell_type": "code",
   "execution_count": 3,
   "metadata": {},
   "outputs": [],
   "source": [
    "def timing(f):\n",
    "    def wrap(*args):\n",
    "        time1 = time()\n",
    "        ret = f(*args)\n",
    "        time2 = time()\n",
    "        print('{:s} function took {:.3f} ms'.format(f.__name__, (time2-time1)*1000.0))\n",
    "\n",
    "        return ret\n",
    "    return wrap"
   ]
  },
  {
   "cell_type": "markdown",
   "metadata": {},
   "source": [
    "### IMPORT DATA"
   ]
  },
  {
   "cell_type": "code",
   "execution_count": 11,
   "metadata": {},
   "outputs": [
    {
     "name": "stdout",
     "output_type": "stream",
     "text": [
      "import_data function took 18951.463 ms\n"
     ]
    }
   ],
   "source": [
    "@timing\n",
    "def import_data():\n",
    "    df = pd.read_csv('data\\\\raw\\\\PENN_SP500_daily.csv')\n",
    "    #df = shuffle(df, random_state=0)\n",
    "    df = df[['date',\n",
    "    'TICKER',\n",
    "    'COMNAM',\n",
    "    'BIDLO',\n",
    "    'ASKHI',\n",
    "    'PRC',\n",
    "    'VOL',\n",
    "    'RET',\n",
    "    'BID',\n",
    "    'ASK',\n",
    "    'SHROUT',\n",
    "    'OPENPRC']]\n",
    "\n",
    "    df.head()\n",
    "    return df\n",
    "    \n",
    "df = import_data()\n",
    "df.head()"
   ]
  },
  {
   "cell_type": "code",
   "execution_count": 12,
   "metadata": {},
   "outputs": [
    {
     "data": {
      "text/html": [
       "<div>\n",
       "<style scoped>\n",
       "    .dataframe tbody tr th:only-of-type {\n",
       "        vertical-align: middle;\n",
       "    }\n",
       "\n",
       "    .dataframe tbody tr th {\n",
       "        vertical-align: top;\n",
       "    }\n",
       "\n",
       "    .dataframe thead th {\n",
       "        text-align: right;\n",
       "    }\n",
       "</style>\n",
       "<table border=\"1\" class=\"dataframe\">\n",
       "  <thead>\n",
       "    <tr style=\"text-align: right;\">\n",
       "      <th></th>\n",
       "      <th>date</th>\n",
       "      <th>TICKER</th>\n",
       "      <th>COMNAM</th>\n",
       "      <th>BIDLO</th>\n",
       "      <th>ASKHI</th>\n",
       "      <th>PRC</th>\n",
       "      <th>VOL</th>\n",
       "      <th>RET</th>\n",
       "      <th>BID</th>\n",
       "      <th>ASK</th>\n",
       "      <th>SHROUT</th>\n",
       "      <th>OPENPRC</th>\n",
       "    </tr>\n",
       "  </thead>\n",
       "  <tbody>\n",
       "    <tr>\n",
       "      <th>0</th>\n",
       "      <td>20000103</td>\n",
       "      <td>ORCL</td>\n",
       "      <td>ORACLE CORP</td>\n",
       "      <td>111.6250</td>\n",
       "      <td>125.1875</td>\n",
       "      <td>118.1250</td>\n",
       "      <td>24831819.0</td>\n",
       "      <td>0.054099</td>\n",
       "      <td>118.1250</td>\n",
       "      <td>118.1875</td>\n",
       "      <td>1423672.0</td>\n",
       "      <td>124.62500</td>\n",
       "    </tr>\n",
       "    <tr>\n",
       "      <th>1</th>\n",
       "      <td>20000104</td>\n",
       "      <td>ORCL</td>\n",
       "      <td>ORACLE CORP</td>\n",
       "      <td>105.0000</td>\n",
       "      <td>118.6250</td>\n",
       "      <td>107.6875</td>\n",
       "      <td>29568565.0</td>\n",
       "      <td>-0.08836</td>\n",
       "      <td>107.6875</td>\n",
       "      <td>107.7500</td>\n",
       "      <td>1423672.0</td>\n",
       "      <td>115.50000</td>\n",
       "    </tr>\n",
       "    <tr>\n",
       "      <th>2</th>\n",
       "      <td>20000105</td>\n",
       "      <td>ORCL</td>\n",
       "      <td>ORACLE CORP</td>\n",
       "      <td>96.0000</td>\n",
       "      <td>106.3750</td>\n",
       "      <td>102.0000</td>\n",
       "      <td>42032160.0</td>\n",
       "      <td>-0.052815</td>\n",
       "      <td>102.0000</td>\n",
       "      <td>102.0000</td>\n",
       "      <td>1423672.0</td>\n",
       "      <td>101.62500</td>\n",
       "    </tr>\n",
       "    <tr>\n",
       "      <th>3</th>\n",
       "      <td>20000106</td>\n",
       "      <td>ORCL</td>\n",
       "      <td>ORACLE CORP</td>\n",
       "      <td>94.6875</td>\n",
       "      <td>105.0000</td>\n",
       "      <td>96.0000</td>\n",
       "      <td>27848885.0</td>\n",
       "      <td>-0.058824</td>\n",
       "      <td>96.0000</td>\n",
       "      <td>95.8750</td>\n",
       "      <td>1423672.0</td>\n",
       "      <td>100.15625</td>\n",
       "    </tr>\n",
       "    <tr>\n",
       "      <th>4</th>\n",
       "      <td>20000107</td>\n",
       "      <td>ORCL</td>\n",
       "      <td>ORACLE CORP</td>\n",
       "      <td>93.5625</td>\n",
       "      <td>103.5000</td>\n",
       "      <td>103.3750</td>\n",
       "      <td>23218034.0</td>\n",
       "      <td>0.076823</td>\n",
       "      <td>103.2500</td>\n",
       "      <td>103.3750</td>\n",
       "      <td>1423672.0</td>\n",
       "      <td>95.00000</td>\n",
       "    </tr>\n",
       "  </tbody>\n",
       "</table>\n",
       "</div>"
      ],
      "text/plain": [
       "       date TICKER       COMNAM     BIDLO     ASKHI       PRC         VOL  \\\n",
       "0  20000103   ORCL  ORACLE CORP  111.6250  125.1875  118.1250  24831819.0   \n",
       "1  20000104   ORCL  ORACLE CORP  105.0000  118.6250  107.6875  29568565.0   \n",
       "2  20000105   ORCL  ORACLE CORP   96.0000  106.3750  102.0000  42032160.0   \n",
       "3  20000106   ORCL  ORACLE CORP   94.6875  105.0000   96.0000  27848885.0   \n",
       "4  20000107   ORCL  ORACLE CORP   93.5625  103.5000  103.3750  23218034.0   \n",
       "\n",
       "        RET       BID       ASK     SHROUT    OPENPRC  \n",
       "0  0.054099  118.1250  118.1875  1423672.0  124.62500  \n",
       "1  -0.08836  107.6875  107.7500  1423672.0  115.50000  \n",
       "2 -0.052815  102.0000  102.0000  1423672.0  101.62500  \n",
       "3 -0.058824   96.0000   95.8750  1423672.0  100.15625  \n",
       "4  0.076823  103.2500  103.3750  1423672.0   95.00000  "
      ]
     },
     "execution_count": 12,
     "metadata": {},
     "output_type": "execute_result"
    }
   ],
   "source": [
    "df.head()"
   ]
  },
  {
   "cell_type": "code",
   "execution_count": null,
   "metadata": {},
   "outputs": [],
   "source": []
  },
  {
   "cell_type": "code",
   "execution_count": null,
   "metadata": {},
   "outputs": [],
   "source": []
  },
  {
   "cell_type": "code",
   "execution_count": null,
   "metadata": {},
   "outputs": [],
   "source": []
  },
  {
   "cell_type": "markdown",
   "metadata": {},
   "source": [
    "### DROP DUPLICATES"
   ]
  },
  {
   "cell_type": "markdown",
   "metadata": {},
   "source": [
    "### DROP DUPLICATES"
   ]
  },
  {
   "cell_type": "markdown",
   "metadata": {},
   "source": [
    "### COUNT MISSING VALUES"
   ]
  },
  {
   "cell_type": "markdown",
   "metadata": {},
   "source": [
    "### DROP MISSING VALUES (IF NECESSARY)"
   ]
  },
  {
   "cell_type": "markdown",
   "metadata": {},
   "source": [
    "### WORKSPACE"
   ]
  },
  {
   "cell_type": "code",
   "execution_count": null,
   "metadata": {},
   "outputs": [],
   "source": []
  },
  {
   "cell_type": "code",
   "execution_count": null,
   "metadata": {},
   "outputs": [],
   "source": []
  },
  {
   "cell_type": "code",
   "execution_count": null,
   "metadata": {},
   "outputs": [],
   "source": []
  }
 ],
 "metadata": {
  "kernelspec": {
   "display_name": "Python [conda env:Anaconda3]",
   "language": "python",
   "name": "conda-env-Anaconda3-py"
  },
  "language_info": {
   "codemirror_mode": {
    "name": "ipython",
    "version": 3
   },
   "file_extension": ".py",
   "mimetype": "text/x-python",
   "name": "python",
   "nbconvert_exporter": "python",
   "pygments_lexer": "ipython3",
   "version": "3.6.9"
  }
 },
 "nbformat": 4,
 "nbformat_minor": 4
}
