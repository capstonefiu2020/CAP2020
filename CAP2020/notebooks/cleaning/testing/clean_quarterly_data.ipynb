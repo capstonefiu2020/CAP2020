{
 "cells": [
  {
   "cell_type": "markdown",
   "metadata": {},
   "source": [
    "## Packages"
   ]
  },
  {
   "cell_type": "code",
   "execution_count": 1,
   "metadata": {},
   "outputs": [],
   "source": [
    "import os\n",
    "import glob\n",
    "import numpy as np\n",
    "import pandas as pd\n",
    "from pathlib import Path\n",
    "import matplotlib.pyplot as plt\n",
    "from time import time\n",
    "#os.chdir('C:\\\\Users\\\\A Sua\\\\Documents\\\\FIU\\\\CAP2020')\n",
    "os.chdir('C:\\\\Users\\\\Daniel\\\\Python and R Notebooks\\\\CAP2020\\\\CAP2020')"
   ]
  },
  {
   "cell_type": "markdown",
   "metadata": {},
   "source": [
    "## Define Functions"
   ]
  },
  {
   "cell_type": "code",
   "execution_count": 2,
   "metadata": {},
   "outputs": [],
   "source": [
    "# change to directory of raw 765 quarterly files\n",
    "folder = \"C:\\\\Users\\\\Daniel\\\\Python and R Notebooks\\\\CAP2020\\\\CAP2020\\\\data\\\\raw\\\\stock_quarterly_data\"\n",
    "data_subdir = \"data\\\\interim\\\\compiled_quarterly_2.csv\"\n",
    "final_data = \"data\\\\processed\\\\compiled_quarterly_final.csv\""
   ]
  },
  {
   "cell_type": "code",
   "execution_count": 3,
   "metadata": {},
   "outputs": [],
   "source": [
    "#print computation time script\n",
    "def timing(f):\n",
    "    def wrap(*args):\n",
    "        time1 = time()\n",
    "        ret = f(*args)\n",
    "        time2 = time()\n",
    "        print('{:s} function took {:.3f} ms'.format(f.__name__, (time2-time1)*1000.0))\n",
    "\n",
    "        return ret\n",
    "    return wrap"
   ]
  },
  {
   "cell_type": "markdown",
   "metadata": {},
   "source": [
    "## Import Data"
   ]
  },
  {
   "cell_type": "code",
   "execution_count": 4,
   "metadata": {},
   "outputs": [],
   "source": [
    "data = []\n",
    "for file in Path(folder).glob('*.csv'):\n",
    "        df = pd.read_csv(file)\n",
    "        stock_name = os.path.basename(file)\n",
    "        stock_name_noext = stock_name.replace(\"_quarterly_financial_data.csv\", \"\")\n",
    "        df['Symbol'] = stock_name_noext\n",
    "        data.append(df)"
   ]
  },
  {
   "cell_type": "code",
   "execution_count": 5,
   "metadata": {},
   "outputs": [
    {
     "name": "stdout",
     "output_type": "stream",
     "text": [
      "initial shape (62253, 42)\n"
     ]
    }
   ],
   "source": [
    "bigframe = pd.concat(data)\n",
    "print('initial shape {}'.format(bigframe.shape))"
   ]
  },
  {
   "cell_type": "markdown",
   "metadata": {},
   "source": [
    "## Begin Cleaning"
   ]
  },
  {
   "cell_type": "markdown",
   "metadata": {},
   "source": [
    "### Drop Duplicates"
   ]
  },
  {
   "cell_type": "code",
   "execution_count": 6,
   "metadata": {},
   "outputs": [
    {
     "name": "stdout",
     "output_type": "stream",
     "text": [
      "new shape: (62253, 42)\n",
      "None\n"
     ]
    }
   ],
   "source": [
    "bigframe = bigframe.drop_duplicates()\n",
    "print(print('new shape: {}'.format(bigframe.shape)))"
   ]
  },
  {
   "cell_type": "markdown",
   "metadata": {},
   "source": [
    "### Replace 'None\" with NaN"
   ]
  },
  {
   "cell_type": "code",
   "execution_count": 7,
   "metadata": {},
   "outputs": [],
   "source": [
    "bigframe.replace('None', np.nan, inplace=True)"
   ]
  },
  {
   "cell_type": "markdown",
   "metadata": {},
   "source": [
    "### Clean ticker names"
   ]
  },
  {
   "cell_type": "markdown",
   "metadata": {},
   "source": [
    "### ABI_0 acquired by LIFE in Q4 2008, LIFE merged into TMO in Q4 2013\n",
    "### CCE becomes CCE_1 smoothly in Q3 2010, becomes CCEP after Q2 2016 (no data)\n",
    "### DG_1 is just DG (Dollar general)\n",
    "### GAS(Nicor) acquired by GAS_0(AGL resources) in Q4 2011; GAS_0 acquired by SO in Q2 2016\n",
    "### GCI_0 (Tegna) split from GCI in Q2 2015\n",
    "### GGP_0 becomes GGP in 2010 (Q1-Q3 data not available), then GGP acquired by BPY in Q3 2018 (no BPY data)\n",
    "### GM_0 becomes GM in Q3 2009 (Q2 2009 is skipped)\n",
    "### LEH_0 acquired by BCS and NMH in Q3 2008 (both no data)\n",
    "### MNST_0 should be MWW, acquired by Ranstad Holding in Q4 2016 (no data)\n",
    "### PLD acquired by PLD_0 in Q2 2011\n",
    "### Q acquired by CTL in Q1 2011\n",
    "### Q_1 should be IQV\n",
    "### WM_0 dissolved in Q3 2008"
   ]
  },
  {
   "cell_type": "code",
   "execution_count": 8,
   "metadata": {},
   "outputs": [],
   "source": [
    "# replace ABI_0 with ABI\n",
    "bigframe.replace({'Stock':r'^ABI_.$'}, {'Stock' : 'ABI'}, inplace = True, regex=True)\n",
    "\n",
    "# replace CCE_1 with CCE\n",
    "bigframe.replace({'Stock':r'^CCE_.$'}, {'Stock' : 'CCE'}, inplace = True, regex=True)\n",
    "\n",
    "# DG_1 with DG\n",
    "bigframe.replace({'Stock':r'^DG_.$'}, {'Stock' : 'DG'}, inplace = True, regex=True)\n",
    "\n",
    "# replace gas_0 with GAS_new\n",
    "bigframe.replace({'Stock':r'^GAS_.$'}, {'Stock' : 'GAS_new'}, inplace = True, regex=True)\n",
    "\n",
    "# replace GAS with GAS_old\n",
    "bigframe.replace({'Stock':r'^GAS$'}, {'Stock' : 'GAS_old'}, inplace = True, regex=True)\n",
    "\n",
    "# replace GCI_0 with TEGNA\n",
    "bigframe.replace({'Stock':r'^GCI_.$'}, {'Stock' : 'TEGNA'}, inplace = True, regex=True)\n",
    "\n",
    "#replace GGP_0 with GGP\n",
    "bigframe.replace({'Stock':r'^GGP_.$'}, {'Stock' : 'GGP'}, inplace = True, regex=True)\n",
    "\n",
    "#replace GM_0 with GM\n",
    "bigframe.replace({'Stock':r'^GM_.$'}, {'Stock' : 'GM'}, inplace = True, regex=True)\n",
    "\n",
    "#replace LEH_0 with LEH\n",
    "bigframe.replace({'Stock':r'^LEH_.$'}, {'Stock' : 'LEH'}, inplace = True, regex=True)\n",
    "\n",
    "#replace MNST_0 with MWW\n",
    "bigframe.replace({'Stock':r'^MNST_.$'}, {'Stock' : 'MWW'}, inplace = True, regex=True)\n",
    "\n",
    "# replace Q_1 with IQV\n",
    "bigframe.replace({'Stock':r'^Q_.$'}, {'Stock' : 'IQV'}, inplace = True, regex=True)\n",
    "\n",
    "# replace WM_0 with WM\n",
    "bigframe.replace({'Stock':r'^WM_.$'}, {'Stock' : 'WM'}, inplace = True, regex=True)\n",
    "\n",
    "#replace PLD with PLD_old\n",
    "bigframe.replace({'Stock':r'^PLD$'}, {'Stock' : 'PLD_old'}, inplace = True, regex=True)\n",
    "\n",
    "#replace PLD_0 with PLD_new\n",
    "bigframe.replace({'Stock':r'^PLD_.$'}, {'Stock' : 'PLD_new'}, inplace = True, regex=True)"
   ]
  },
  {
   "cell_type": "code",
   "execution_count": 9,
   "metadata": {},
   "outputs": [],
   "source": [
    "bigframe.to_csv(data_subdir)"
   ]
  },
  {
   "cell_type": "markdown",
   "metadata": {},
   "source": [
    "### Transform Columns into Proper Datatypes"
   ]
  },
  {
   "cell_type": "markdown",
   "metadata": {},
   "source": [
    "#### P/E Ratio - The ratio of Price to EPS diluted TTM as of the previous quarter.\n",
    "#### EPS basic - Basic earnings per share for a given quarter\n",
    "#### EPS diluted - Diluted earnings per share.\n",
    "#### Dividend per share - Common stock dividends paid during a quarter per share, including all regular and special dividends and distributions to common shareholders.\n",
    "#### Price - The medium price per share of the company common stock during a given quarter. The prices are as reported, and are not adjusted for subsequent dividends.\n",
    "#### Long-term debt to equity ratio - The ratio of Long-term debt to common shareholders' equity (Shareholders equity minus Preferred equity).\n",
    "#### Dividend payout ratio - The ratio of Dividends TTM to Earnings (available to common stockholders) TTM.\n",
    "#### Shares split adjusted - The number of shares the company had at the end of a given quarter, adjusted for splits to be comparable to today's shares."
   ]
  },
  {
   "cell_type": "code",
   "execution_count": 10,
   "metadata": {},
   "outputs": [],
   "source": [
    "bigframe['P/E ratio'] = bigframe['P/E ratio'].astype(float)\n",
    "bigframe['EPS basic'] = bigframe['EPS basic'].astype(float)\n",
    "bigframe['EPS diluted'] = bigframe['EPS diluted'].astype(float)\n",
    "bigframe['Dividend per share'] = bigframe['Dividend per share'].astype(float)\n",
    "bigframe['Price'] = bigframe['Price'].astype(float)\n",
    "bigframe['Long-term debt to equity ratio'] = bigframe['Long-term debt to equity ratio'].astype(float)\n",
    "bigframe['Dividend payout ratio'] = bigframe['Dividend payout ratio'].astype(float)\n",
    "bigframe['Shares split adjusted'] = bigframe['Shares split adjusted'].astype(float)"
   ]
  },
  {
   "cell_type": "markdown",
   "metadata": {},
   "source": [
    "#### Quarter end"
   ]
  },
  {
   "cell_type": "code",
   "execution_count": 11,
   "metadata": {},
   "outputs": [
    {
     "data": {
      "text/html": [
       "<div>\n",
       "<style scoped>\n",
       "    .dataframe tbody tr th:only-of-type {\n",
       "        vertical-align: middle;\n",
       "    }\n",
       "\n",
       "    .dataframe tbody tr th {\n",
       "        vertical-align: top;\n",
       "    }\n",
       "\n",
       "    .dataframe thead th {\n",
       "        text-align: right;\n",
       "    }\n",
       "</style>\n",
       "<table border=\"1\" class=\"dataframe\">\n",
       "  <thead>\n",
       "    <tr style=\"text-align: right;\">\n",
       "      <th></th>\n",
       "      <th>Quarter end</th>\n",
       "      <th>Shares</th>\n",
       "      <th>Shares split adjusted</th>\n",
       "      <th>Split factor</th>\n",
       "      <th>Assets</th>\n",
       "      <th>Current Assets</th>\n",
       "      <th>Liabilities</th>\n",
       "      <th>Current Liabilities</th>\n",
       "      <th>Shareholders equity</th>\n",
       "      <th>Non-controlling interest</th>\n",
       "      <th>...</th>\n",
       "      <th>P/E ratio</th>\n",
       "      <th>Cumulative dividends per share</th>\n",
       "      <th>Dividend payout ratio</th>\n",
       "      <th>Long-term debt to equity ratio</th>\n",
       "      <th>Equity to assets ratio</th>\n",
       "      <th>Net margin</th>\n",
       "      <th>Asset turnover</th>\n",
       "      <th>Free cash flow per share</th>\n",
       "      <th>Current ratio</th>\n",
       "      <th>Symbol</th>\n",
       "    </tr>\n",
       "  </thead>\n",
       "  <tbody>\n",
       "    <tr>\n",
       "      <th>0</th>\n",
       "      <td>2019-09-30</td>\n",
       "      <td>67151778</td>\n",
       "      <td>67151778.0</td>\n",
       "      <td>1.0</td>\n",
       "      <td>3219620000</td>\n",
       "      <td>NaN</td>\n",
       "      <td>1351965000</td>\n",
       "      <td>NaN</td>\n",
       "      <td>1867655000</td>\n",
       "      <td>0</td>\n",
       "      <td>...</td>\n",
       "      <td>21.69</td>\n",
       "      <td>1.04</td>\n",
       "      <td>0.0488</td>\n",
       "      <td>0.1859</td>\n",
       "      <td>0.5801</td>\n",
       "      <td>0.0509</td>\n",
       "      <td>1.26</td>\n",
       "      <td>1.32</td>\n",
       "      <td>NaN</td>\n",
       "      <td>AAN</td>\n",
       "    </tr>\n",
       "    <tr>\n",
       "      <th>1</th>\n",
       "      <td>2019-06-30</td>\n",
       "      <td>67547497</td>\n",
       "      <td>67547497.0</td>\n",
       "      <td>1.0</td>\n",
       "      <td>3180198000</td>\n",
       "      <td>NaN</td>\n",
       "      <td>1330640000</td>\n",
       "      <td>NaN</td>\n",
       "      <td>1849558000</td>\n",
       "      <td>0</td>\n",
       "      <td>...</td>\n",
       "      <td>19.94</td>\n",
       "      <td>1.01</td>\n",
       "      <td>0.0464</td>\n",
       "      <td>0.1880</td>\n",
       "      <td>0.5816</td>\n",
       "      <td>0.052</td>\n",
       "      <td>1.31</td>\n",
       "      <td>0.84</td>\n",
       "      <td>NaN</td>\n",
       "      <td>AAN</td>\n",
       "    </tr>\n",
       "    <tr>\n",
       "      <th>2</th>\n",
       "      <td>2019-03-31</td>\n",
       "      <td>67677449</td>\n",
       "      <td>67677449.0</td>\n",
       "      <td>1.0</td>\n",
       "      <td>3237966000</td>\n",
       "      <td>NaN</td>\n",
       "      <td>1424458000</td>\n",
       "      <td>NaN</td>\n",
       "      <td>1813508000</td>\n",
       "      <td>0</td>\n",
       "      <td>...</td>\n",
       "      <td>17.49</td>\n",
       "      <td>0.97</td>\n",
       "      <td>0.0459</td>\n",
       "      <td>0.2251</td>\n",
       "      <td>0.5601</td>\n",
       "      <td>0.0515</td>\n",
       "      <td>1.37</td>\n",
       "      <td>2.09</td>\n",
       "      <td>NaN</td>\n",
       "      <td>AAN</td>\n",
       "    </tr>\n",
       "    <tr>\n",
       "      <th>3</th>\n",
       "      <td>2018-12-31</td>\n",
       "      <td>67202919</td>\n",
       "      <td>67202919.0</td>\n",
       "      <td>1.0</td>\n",
       "      <td>2826692000</td>\n",
       "      <td>NaN</td>\n",
       "      <td>1065984000</td>\n",
       "      <td>NaN</td>\n",
       "      <td>1760708000</td>\n",
       "      <td>0</td>\n",
       "      <td>...</td>\n",
       "      <td>10.83</td>\n",
       "      <td>0.94</td>\n",
       "      <td>0.0455</td>\n",
       "      <td>0.1937</td>\n",
       "      <td>0.6229</td>\n",
       "      <td>0.0512</td>\n",
       "      <td>1.41</td>\n",
       "      <td>-0.43</td>\n",
       "      <td>NaN</td>\n",
       "      <td>AAN</td>\n",
       "    </tr>\n",
       "    <tr>\n",
       "      <th>4</th>\n",
       "      <td>2018-09-30</td>\n",
       "      <td>68594784</td>\n",
       "      <td>68594784.0</td>\n",
       "      <td>1.0</td>\n",
       "      <td>2698898000</td>\n",
       "      <td>NaN</td>\n",
       "      <td>935392000</td>\n",
       "      <td>NaN</td>\n",
       "      <td>1763506000</td>\n",
       "      <td>0</td>\n",
       "      <td>...</td>\n",
       "      <td>12.00</td>\n",
       "      <td>0.90</td>\n",
       "      <td>0.0267</td>\n",
       "      <td>0.1686</td>\n",
       "      <td>0.6534</td>\n",
       "      <td>0.0839</td>\n",
       "      <td>1.39</td>\n",
       "      <td>1.13</td>\n",
       "      <td>NaN</td>\n",
       "      <td>AAN</td>\n",
       "    </tr>\n",
       "  </tbody>\n",
       "</table>\n",
       "<p>5 rows × 42 columns</p>\n",
       "</div>"
      ],
      "text/plain": [
       "  Quarter end    Shares  Shares split adjusted  Split factor      Assets  \\\n",
       "0  2019-09-30  67151778             67151778.0           1.0  3219620000   \n",
       "1  2019-06-30  67547497             67547497.0           1.0  3180198000   \n",
       "2  2019-03-31  67677449             67677449.0           1.0  3237966000   \n",
       "3  2018-12-31  67202919             67202919.0           1.0  2826692000   \n",
       "4  2018-09-30  68594784             68594784.0           1.0  2698898000   \n",
       "\n",
       "  Current Assets Liabilities Current Liabilities Shareholders equity  \\\n",
       "0            NaN  1351965000                 NaN          1867655000   \n",
       "1            NaN  1330640000                 NaN          1849558000   \n",
       "2            NaN  1424458000                 NaN          1813508000   \n",
       "3            NaN  1065984000                 NaN          1760708000   \n",
       "4            NaN   935392000                 NaN          1763506000   \n",
       "\n",
       "   Non-controlling interest  ...  P/E ratio  Cumulative dividends per share  \\\n",
       "0                         0  ...      21.69                            1.04   \n",
       "1                         0  ...      19.94                            1.01   \n",
       "2                         0  ...      17.49                            0.97   \n",
       "3                         0  ...      10.83                            0.94   \n",
       "4                         0  ...      12.00                            0.90   \n",
       "\n",
       "   Dividend payout ratio Long-term debt to equity ratio  \\\n",
       "0                 0.0488                         0.1859   \n",
       "1                 0.0464                         0.1880   \n",
       "2                 0.0459                         0.2251   \n",
       "3                 0.0455                         0.1937   \n",
       "4                 0.0267                         0.1686   \n",
       "\n",
       "  Equity to assets ratio Net margin  Asset turnover  Free cash flow per share  \\\n",
       "0                 0.5801     0.0509            1.26                      1.32   \n",
       "1                 0.5816      0.052            1.31                      0.84   \n",
       "2                 0.5601     0.0515            1.37                      2.09   \n",
       "3                 0.6229     0.0512            1.41                     -0.43   \n",
       "4                 0.6534     0.0839            1.39                      1.13   \n",
       "\n",
       "   Current ratio Symbol  \n",
       "0            NaN    AAN  \n",
       "1            NaN    AAN  \n",
       "2            NaN    AAN  \n",
       "3            NaN    AAN  \n",
       "4            NaN    AAN  \n",
       "\n",
       "[5 rows x 42 columns]"
      ]
     },
     "execution_count": 11,
     "metadata": {},
     "output_type": "execute_result"
    }
   ],
   "source": [
    "bigframe['Quarter end'] = pd.to_datetime(bigframe['Quarter end'], errors='ignore')\n",
    "bigframe.head()"
   ]
  },
  {
   "cell_type": "markdown",
   "metadata": {},
   "source": [
    "#### Symbol"
   ]
  },
  {
   "cell_type": "code",
   "execution_count": 12,
   "metadata": {},
   "outputs": [],
   "source": [
    "bigframe['Symbol'] = bigframe['Symbol'].astype(str)"
   ]
  },
  {
   "cell_type": "code",
   "execution_count": 13,
   "metadata": {},
   "outputs": [
    {
     "data": {
      "text/html": [
       "<div>\n",
       "<style scoped>\n",
       "    .dataframe tbody tr th:only-of-type {\n",
       "        vertical-align: middle;\n",
       "    }\n",
       "\n",
       "    .dataframe tbody tr th {\n",
       "        vertical-align: top;\n",
       "    }\n",
       "\n",
       "    .dataframe thead th {\n",
       "        text-align: right;\n",
       "    }\n",
       "</style>\n",
       "<table border=\"1\" class=\"dataframe\">\n",
       "  <thead>\n",
       "    <tr style=\"text-align: right;\">\n",
       "      <th></th>\n",
       "      <th>Quarter end</th>\n",
       "      <th>Shares split adjusted</th>\n",
       "      <th>Price</th>\n",
       "      <th>EPS basic</th>\n",
       "      <th>EPS diluted</th>\n",
       "      <th>Dividend per share</th>\n",
       "      <th>Dividend payout ratio</th>\n",
       "      <th>P/E ratio</th>\n",
       "      <th>Long-term debt to equity ratio</th>\n",
       "      <th>Symbol</th>\n",
       "    </tr>\n",
       "  </thead>\n",
       "  <tbody>\n",
       "    <tr>\n",
       "      <th>0</th>\n",
       "      <td>2019-09-30</td>\n",
       "      <td>67151778.0</td>\n",
       "      <td>63.99</td>\n",
       "      <td>0.59</td>\n",
       "      <td>0.58</td>\n",
       "      <td>0.035</td>\n",
       "      <td>0.0488</td>\n",
       "      <td>21.69</td>\n",
       "      <td>0.1859</td>\n",
       "      <td>AAN</td>\n",
       "    </tr>\n",
       "    <tr>\n",
       "      <th>1</th>\n",
       "      <td>2019-06-30</td>\n",
       "      <td>67547497.0</td>\n",
       "      <td>57.23</td>\n",
       "      <td>0.63</td>\n",
       "      <td>0.62</td>\n",
       "      <td>0.035</td>\n",
       "      <td>0.0464</td>\n",
       "      <td>19.94</td>\n",
       "      <td>0.1880</td>\n",
       "      <td>AAN</td>\n",
       "    </tr>\n",
       "    <tr>\n",
       "      <th>2</th>\n",
       "      <td>2019-03-31</td>\n",
       "      <td>67677449.0</td>\n",
       "      <td>48.63</td>\n",
       "      <td>0.83</td>\n",
       "      <td>0.82</td>\n",
       "      <td>0.035</td>\n",
       "      <td>0.0459</td>\n",
       "      <td>17.49</td>\n",
       "      <td>0.2251</td>\n",
       "      <td>AAN</td>\n",
       "    </tr>\n",
       "    <tr>\n",
       "      <th>3</th>\n",
       "      <td>2018-12-31</td>\n",
       "      <td>67202919.0</td>\n",
       "      <td>47.00</td>\n",
       "      <td>0.90</td>\n",
       "      <td>0.89</td>\n",
       "      <td>0.040</td>\n",
       "      <td>0.0455</td>\n",
       "      <td>10.83</td>\n",
       "      <td>0.1937</td>\n",
       "      <td>AAN</td>\n",
       "    </tr>\n",
       "    <tr>\n",
       "      <th>4</th>\n",
       "      <td>2018-09-30</td>\n",
       "      <td>68594784.0</td>\n",
       "      <td>48.86</td>\n",
       "      <td>0.64</td>\n",
       "      <td>0.62</td>\n",
       "      <td>0.030</td>\n",
       "      <td>0.0267</td>\n",
       "      <td>12.00</td>\n",
       "      <td>0.1686</td>\n",
       "      <td>AAN</td>\n",
       "    </tr>\n",
       "  </tbody>\n",
       "</table>\n",
       "</div>"
      ],
      "text/plain": [
       "  Quarter end  Shares split adjusted  Price  EPS basic  EPS diluted  \\\n",
       "0  2019-09-30             67151778.0  63.99       0.59         0.58   \n",
       "1  2019-06-30             67547497.0  57.23       0.63         0.62   \n",
       "2  2019-03-31             67677449.0  48.63       0.83         0.82   \n",
       "3  2018-12-31             67202919.0  47.00       0.90         0.89   \n",
       "4  2018-09-30             68594784.0  48.86       0.64         0.62   \n",
       "\n",
       "   Dividend per share  Dividend payout ratio  P/E ratio  \\\n",
       "0               0.035                 0.0488      21.69   \n",
       "1               0.035                 0.0464      19.94   \n",
       "2               0.035                 0.0459      17.49   \n",
       "3               0.040                 0.0455      10.83   \n",
       "4               0.030                 0.0267      12.00   \n",
       "\n",
       "   Long-term debt to equity ratio Symbol  \n",
       "0                          0.1859    AAN  \n",
       "1                          0.1880    AAN  \n",
       "2                          0.2251    AAN  \n",
       "3                          0.1937    AAN  \n",
       "4                          0.1686    AAN  "
      ]
     },
     "execution_count": 13,
     "metadata": {},
     "output_type": "execute_result"
    }
   ],
   "source": [
    "finalframe = bigframe[['Quarter end', 'Shares split adjusted', 'Price', 'EPS basic', 'EPS diluted', 'Dividend per share', \n",
    "                       'Dividend payout ratio', 'P/E ratio', 'Long-term debt to equity ratio', 'Symbol']]\n",
    "finalframe.head()"
   ]
  },
  {
   "cell_type": "markdown",
   "metadata": {},
   "source": [
    "### Convert Dates to Quarters"
   ]
  },
  {
   "cell_type": "code",
   "execution_count": 14,
   "metadata": {},
   "outputs": [
    {
     "data": {
      "text/plain": [
       "Index(['Quarter end', 'Shares split adjusted', 'Price', 'EPS basic',\n",
       "       'EPS diluted', 'Dividend per share', 'Dividend payout ratio',\n",
       "       'P/E ratio', 'Long-term debt to equity ratio', 'Symbol'],\n",
       "      dtype='object')"
      ]
     },
     "execution_count": 14,
     "metadata": {},
     "output_type": "execute_result"
    }
   ],
   "source": [
    "#finalframe = pd.read_csv(final_data)\n",
    "#finalframe.drop(columns = ['Unnamed: 0'], inplace = True)\n",
    "finalframe.columns"
   ]
  },
  {
   "cell_type": "code",
   "execution_count": 15,
   "metadata": {},
   "outputs": [
    {
     "name": "stderr",
     "output_type": "stream",
     "text": [
      "C:\\ProgramData\\Anaconda3\\lib\\site-packages\\ipykernel_launcher.py:1: SettingWithCopyWarning: \n",
      "A value is trying to be set on a copy of a slice from a DataFrame.\n",
      "Try using .loc[row_indexer,col_indexer] = value instead\n",
      "\n",
      "See the caveats in the documentation: http://pandas.pydata.org/pandas-docs/stable/user_guide/indexing.html#returning-a-view-versus-a-copy\n",
      "  \"\"\"Entry point for launching an IPython kernel.\n"
     ]
    },
    {
     "data": {
      "text/html": [
       "<div>\n",
       "<style scoped>\n",
       "    .dataframe tbody tr th:only-of-type {\n",
       "        vertical-align: middle;\n",
       "    }\n",
       "\n",
       "    .dataframe tbody tr th {\n",
       "        vertical-align: top;\n",
       "    }\n",
       "\n",
       "    .dataframe thead th {\n",
       "        text-align: right;\n",
       "    }\n",
       "</style>\n",
       "<table border=\"1\" class=\"dataframe\">\n",
       "  <thead>\n",
       "    <tr style=\"text-align: right;\">\n",
       "      <th></th>\n",
       "      <th>Quarter end</th>\n",
       "      <th>Shares split adjusted</th>\n",
       "      <th>Price</th>\n",
       "      <th>EPS basic</th>\n",
       "      <th>EPS diluted</th>\n",
       "      <th>Dividend per share</th>\n",
       "      <th>Dividend payout ratio</th>\n",
       "      <th>P/E ratio</th>\n",
       "      <th>Long-term debt to equity ratio</th>\n",
       "      <th>Symbol</th>\n",
       "      <th>Quarter</th>\n",
       "    </tr>\n",
       "  </thead>\n",
       "  <tbody>\n",
       "    <tr>\n",
       "      <th>0</th>\n",
       "      <td>2019-09-30</td>\n",
       "      <td>67151778.0</td>\n",
       "      <td>63.99</td>\n",
       "      <td>0.59</td>\n",
       "      <td>0.58</td>\n",
       "      <td>0.035</td>\n",
       "      <td>0.0488</td>\n",
       "      <td>21.69</td>\n",
       "      <td>0.1859</td>\n",
       "      <td>AAN</td>\n",
       "      <td>2019Q3</td>\n",
       "    </tr>\n",
       "    <tr>\n",
       "      <th>1</th>\n",
       "      <td>2019-06-30</td>\n",
       "      <td>67547497.0</td>\n",
       "      <td>57.23</td>\n",
       "      <td>0.63</td>\n",
       "      <td>0.62</td>\n",
       "      <td>0.035</td>\n",
       "      <td>0.0464</td>\n",
       "      <td>19.94</td>\n",
       "      <td>0.1880</td>\n",
       "      <td>AAN</td>\n",
       "      <td>2019Q2</td>\n",
       "    </tr>\n",
       "    <tr>\n",
       "      <th>2</th>\n",
       "      <td>2019-03-31</td>\n",
       "      <td>67677449.0</td>\n",
       "      <td>48.63</td>\n",
       "      <td>0.83</td>\n",
       "      <td>0.82</td>\n",
       "      <td>0.035</td>\n",
       "      <td>0.0459</td>\n",
       "      <td>17.49</td>\n",
       "      <td>0.2251</td>\n",
       "      <td>AAN</td>\n",
       "      <td>2019Q1</td>\n",
       "    </tr>\n",
       "    <tr>\n",
       "      <th>3</th>\n",
       "      <td>2018-12-31</td>\n",
       "      <td>67202919.0</td>\n",
       "      <td>47.00</td>\n",
       "      <td>0.90</td>\n",
       "      <td>0.89</td>\n",
       "      <td>0.040</td>\n",
       "      <td>0.0455</td>\n",
       "      <td>10.83</td>\n",
       "      <td>0.1937</td>\n",
       "      <td>AAN</td>\n",
       "      <td>2018Q4</td>\n",
       "    </tr>\n",
       "    <tr>\n",
       "      <th>4</th>\n",
       "      <td>2018-09-30</td>\n",
       "      <td>68594784.0</td>\n",
       "      <td>48.86</td>\n",
       "      <td>0.64</td>\n",
       "      <td>0.62</td>\n",
       "      <td>0.030</td>\n",
       "      <td>0.0267</td>\n",
       "      <td>12.00</td>\n",
       "      <td>0.1686</td>\n",
       "      <td>AAN</td>\n",
       "      <td>2018Q3</td>\n",
       "    </tr>\n",
       "  </tbody>\n",
       "</table>\n",
       "</div>"
      ],
      "text/plain": [
       "  Quarter end  Shares split adjusted  Price  EPS basic  EPS diluted  \\\n",
       "0  2019-09-30             67151778.0  63.99       0.59         0.58   \n",
       "1  2019-06-30             67547497.0  57.23       0.63         0.62   \n",
       "2  2019-03-31             67677449.0  48.63       0.83         0.82   \n",
       "3  2018-12-31             67202919.0  47.00       0.90         0.89   \n",
       "4  2018-09-30             68594784.0  48.86       0.64         0.62   \n",
       "\n",
       "   Dividend per share  Dividend payout ratio  P/E ratio  \\\n",
       "0               0.035                 0.0488      21.69   \n",
       "1               0.035                 0.0464      19.94   \n",
       "2               0.035                 0.0459      17.49   \n",
       "3               0.040                 0.0455      10.83   \n",
       "4               0.030                 0.0267      12.00   \n",
       "\n",
       "   Long-term debt to equity ratio Symbol Quarter  \n",
       "0                          0.1859    AAN  2019Q3  \n",
       "1                          0.1880    AAN  2019Q2  \n",
       "2                          0.2251    AAN  2019Q1  \n",
       "3                          0.1937    AAN  2018Q4  \n",
       "4                          0.1686    AAN  2018Q3  "
      ]
     },
     "execution_count": 15,
     "metadata": {},
     "output_type": "execute_result"
    }
   ],
   "source": [
    "finalframe['Quarter'] = pd.PeriodIndex(finalframe['Quarter end'], freq = 'Q')\n",
    "finalframe.head()"
   ]
  },
  {
   "cell_type": "markdown",
   "metadata": {},
   "source": [
    "## Compile and Export"
   ]
  },
  {
   "cell_type": "code",
   "execution_count": 16,
   "metadata": {},
   "outputs": [],
   "source": [
    "finalframe.to_csv(final_data)"
   ]
  }
 ],
 "metadata": {
  "kernelspec": {
   "display_name": "Python 3",
   "language": "python",
   "name": "python3"
  },
  "language_info": {
   "codemirror_mode": {
    "name": "ipython",
    "version": 3
   },
   "file_extension": ".py",
   "mimetype": "text/x-python",
   "name": "python",
   "nbconvert_exporter": "python",
   "pygments_lexer": "ipython3",
   "version": "3.7.3"
  }
 },
 "nbformat": 4,
 "nbformat_minor": 2
}
