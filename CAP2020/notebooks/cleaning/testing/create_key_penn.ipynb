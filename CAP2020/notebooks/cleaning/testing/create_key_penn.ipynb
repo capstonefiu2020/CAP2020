{
 "cells": [
  {
   "cell_type": "markdown",
   "metadata": {},
   "source": [
    "### PACKAGES"
   ]
  },
  {
   "cell_type": "code",
   "execution_count": 1,
   "metadata": {},
   "outputs": [],
   "source": [
    "import os\n",
    "import pandas as pd\n",
    "import matplotlib.pyplot as plt\n",
    "from time import time\n",
    "import numpy as np\n",
    "from sklearn.utils import shuffle\n",
    "\n",
    "\"\"\"CD INTO THE CAP DIRECTORY\"\"\"\n",
    "os.chdir('..\\\\..\\\\..\\\\...\\\\...\\\\CAP2020')"
   ]
  },
  {
   "cell_type": "markdown",
   "metadata": {},
   "source": [
    "### DEFINE FUNCTIONS"
   ]
  },
  {
   "cell_type": "markdown",
   "metadata": {},
   "source": [
    "#### timeit wrapper"
   ]
  },
  {
   "cell_type": "code",
   "execution_count": 2,
   "metadata": {},
   "outputs": [],
   "source": [
    "def timing(f):\n",
    "    def wrap(*args):\n",
    "        time1 = time()\n",
    "        ret = f(*args)\n",
    "        time2 = time()\n",
    "        print('{:s} function took {:.3f} ms'.format(f.__name__, (time2-time1)*1000.0))\n",
    "\n",
    "        return ret\n",
    "    return wrap"
   ]
  },
  {
   "cell_type": "code",
   "execution_count": 3,
   "metadata": {},
   "outputs": [
    {
     "name": "stdout",
     "output_type": "stream",
     "text": [
      "hi\n",
      "run_func function took 0.000 ms\n"
     ]
    }
   ],
   "source": [
    "@timing\n",
    "def run_func():\n",
    "    print('hi')\n",
    "run_func()"
   ]
  },
  {
   "cell_type": "markdown",
   "metadata": {},
   "source": [
    "### IMPORT DATA"
   ]
  },
  {
   "cell_type": "code",
   "execution_count": 4,
   "metadata": {},
   "outputs": [
    {
     "name": "stderr",
     "output_type": "stream",
     "text": [
      "C:\\PROGRA1\\Anaconda3\\lib\\site-packages\\IPython\\core\\interactiveshell.py:3326: DtypeWarning: Columns (5,6,9,19,48,56) have mixed types. Specify dtype option on import or set low_memory=False.\n",
      "  exec(code_obj, self.user_global_ns, self.user_ns)\n"
     ]
    },
    {
     "name": "stdout",
     "output_type": "stream",
     "text": [
      "import_data function took 16489.435 ms\n",
      "initial shape (2337279, 12)\n"
     ]
    },
    {
     "data": {
      "text/html": [
       "<div>\n",
       "<style scoped>\n",
       "    .dataframe tbody tr th:only-of-type {\n",
       "        vertical-align: middle;\n",
       "    }\n",
       "\n",
       "    .dataframe tbody tr th {\n",
       "        vertical-align: top;\n",
       "    }\n",
       "\n",
       "    .dataframe thead th {\n",
       "        text-align: right;\n",
       "    }\n",
       "</style>\n",
       "<table border=\"1\" class=\"dataframe\">\n",
       "  <thead>\n",
       "    <tr style=\"text-align: right;\">\n",
       "      <th></th>\n",
       "      <th>date</th>\n",
       "      <th>symbol</th>\n",
       "      <th>name</th>\n",
       "      <th>bidlo</th>\n",
       "      <th>askhi</th>\n",
       "      <th>price</th>\n",
       "      <th>vol</th>\n",
       "      <th>ret</th>\n",
       "      <th>bid</th>\n",
       "      <th>ask</th>\n",
       "      <th>sout</th>\n",
       "      <th>open</th>\n",
       "    </tr>\n",
       "  </thead>\n",
       "  <tbody>\n",
       "    <tr>\n",
       "      <th>0</th>\n",
       "      <td>20000103</td>\n",
       "      <td>ORCL</td>\n",
       "      <td>ORACLE CORP</td>\n",
       "      <td>111.6250</td>\n",
       "      <td>125.1875</td>\n",
       "      <td>118.1250</td>\n",
       "      <td>24831819.0</td>\n",
       "      <td>0.054099</td>\n",
       "      <td>118.1250</td>\n",
       "      <td>118.1875</td>\n",
       "      <td>1423672.0</td>\n",
       "      <td>124.62500</td>\n",
       "    </tr>\n",
       "    <tr>\n",
       "      <th>1</th>\n",
       "      <td>20000104</td>\n",
       "      <td>ORCL</td>\n",
       "      <td>ORACLE CORP</td>\n",
       "      <td>105.0000</td>\n",
       "      <td>118.6250</td>\n",
       "      <td>107.6875</td>\n",
       "      <td>29568565.0</td>\n",
       "      <td>-0.08836</td>\n",
       "      <td>107.6875</td>\n",
       "      <td>107.7500</td>\n",
       "      <td>1423672.0</td>\n",
       "      <td>115.50000</td>\n",
       "    </tr>\n",
       "    <tr>\n",
       "      <th>2</th>\n",
       "      <td>20000105</td>\n",
       "      <td>ORCL</td>\n",
       "      <td>ORACLE CORP</td>\n",
       "      <td>96.0000</td>\n",
       "      <td>106.3750</td>\n",
       "      <td>102.0000</td>\n",
       "      <td>42032160.0</td>\n",
       "      <td>-0.052815</td>\n",
       "      <td>102.0000</td>\n",
       "      <td>102.0000</td>\n",
       "      <td>1423672.0</td>\n",
       "      <td>101.62500</td>\n",
       "    </tr>\n",
       "    <tr>\n",
       "      <th>3</th>\n",
       "      <td>20000106</td>\n",
       "      <td>ORCL</td>\n",
       "      <td>ORACLE CORP</td>\n",
       "      <td>94.6875</td>\n",
       "      <td>105.0000</td>\n",
       "      <td>96.0000</td>\n",
       "      <td>27848885.0</td>\n",
       "      <td>-0.058824</td>\n",
       "      <td>96.0000</td>\n",
       "      <td>95.8750</td>\n",
       "      <td>1423672.0</td>\n",
       "      <td>100.15625</td>\n",
       "    </tr>\n",
       "    <tr>\n",
       "      <th>4</th>\n",
       "      <td>20000107</td>\n",
       "      <td>ORCL</td>\n",
       "      <td>ORACLE CORP</td>\n",
       "      <td>93.5625</td>\n",
       "      <td>103.5000</td>\n",
       "      <td>103.3750</td>\n",
       "      <td>23218034.0</td>\n",
       "      <td>0.076823</td>\n",
       "      <td>103.2500</td>\n",
       "      <td>103.3750</td>\n",
       "      <td>1423672.0</td>\n",
       "      <td>95.00000</td>\n",
       "    </tr>\n",
       "  </tbody>\n",
       "</table>\n",
       "</div>"
      ],
      "text/plain": [
       "       date symbol         name     bidlo     askhi     price         vol  \\\n",
       "0  20000103   ORCL  ORACLE CORP  111.6250  125.1875  118.1250  24831819.0   \n",
       "1  20000104   ORCL  ORACLE CORP  105.0000  118.6250  107.6875  29568565.0   \n",
       "2  20000105   ORCL  ORACLE CORP   96.0000  106.3750  102.0000  42032160.0   \n",
       "3  20000106   ORCL  ORACLE CORP   94.6875  105.0000   96.0000  27848885.0   \n",
       "4  20000107   ORCL  ORACLE CORP   93.5625  103.5000  103.3750  23218034.0   \n",
       "\n",
       "        ret       bid       ask       sout       open  \n",
       "0  0.054099  118.1250  118.1875  1423672.0  124.62500  \n",
       "1  -0.08836  107.6875  107.7500  1423672.0  115.50000  \n",
       "2 -0.052815  102.0000  102.0000  1423672.0  101.62500  \n",
       "3 -0.058824   96.0000   95.8750  1423672.0  100.15625  \n",
       "4  0.076823  103.2500  103.3750  1423672.0   95.00000  "
      ]
     },
     "execution_count": 4,
     "metadata": {},
     "output_type": "execute_result"
    }
   ],
   "source": [
    "@timing\n",
    "def import_data():\n",
    "    \n",
    "    #converter = lambda x: pd.to_numeric(x, 'coerce')\n",
    "    #df = pd.read_csv('data\\\\raw\\\\PENN_SP500_daily.csv', delim_whitespace=True, converters={1: converter}, header=None)\n",
    "    df = pd.read_csv('data\\\\raw\\\\PENN_SP500_daily.csv')\n",
    "    #df = shuffle(df, random_state=0)\n",
    "    df = df[['date',\n",
    "    'TICKER',\n",
    "    'COMNAM',\n",
    "    'BIDLO',\n",
    "    'ASKHI',\n",
    "    'PRC',\n",
    "    'VOL',\n",
    "    'RET',\n",
    "    'BID',\n",
    "    'ASK',\n",
    "    'SHROUT',\n",
    "    'OPENPRC']]\n",
    "\n",
    "    return df\n",
    "    \n",
    "df = import_data()\n",
    "df.columns = ['date', 'symbol', 'name', 'bidlo', 'askhi', 'price', 'vol', 'ret', 'bid', 'ask', 'sout', 'open']\n",
    "print('initial shape {}'.format(df.shape))\n",
    "\n",
    "df.head()"
   ]
  },
  {
   "cell_type": "markdown",
   "metadata": {},
   "source": [
    "### BEGIN CLEANING"
   ]
  },
  {
   "cell_type": "markdown",
   "metadata": {},
   "source": [
    "### DROP DUPLICATES"
   ]
  },
  {
   "cell_type": "code",
   "execution_count": 5,
   "metadata": {},
   "outputs": [
    {
     "name": "stdout",
     "output_type": "stream",
     "text": [
      "new shape: (2337166, 12)\n",
      "None\n"
     ]
    }
   ],
   "source": [
    "df = df.drop_duplicates()\n",
    "print(print('new shape: {}'.format(df.shape)))"
   ]
  },
  {
   "cell_type": "markdown",
   "metadata": {},
   "source": [
    "### DROP ROWS WITH WRONG VALUES"
   ]
  },
  {
   "cell_type": "code",
   "execution_count": 248,
   "metadata": {},
   "outputs": [
    {
     "data": {
      "text/plain": [
       "Int64Index([  98558,   98559,   98560,   98561,   98562,   98563,   98564,\n",
       "             367116,  367117,  367118,\n",
       "            ...\n",
       "            1760359, 1760360, 1760361, 1760362, 1760363, 1760364, 1760365,\n",
       "            1760366, 1760367, 1760368],\n",
       "           dtype='int64', length=487)"
      ]
     },
     "execution_count": 248,
     "metadata": {},
     "output_type": "execute_result"
    }
   ],
   "source": [
    "#df[df['ret']=='B'].index"
   ]
  },
  {
   "cell_type": "code",
   "execution_count": 6,
   "metadata": {},
   "outputs": [],
   "source": [
    "\"\"\"MESSY DATA\"\"\"\n",
    "indices_to_drop = df[df['ret']=='B'].index\n",
    "df = df.drop(index=indices_to_drop)\n",
    "\n",
    "indices_to_drop = df[df['ret']=='C'].index\n",
    "df = df.drop(index=indices_to_drop)\n",
    "#print('{} rows were dropped'.format(len(indices_to_drop)))"
   ]
  },
  {
   "cell_type": "markdown",
   "metadata": {},
   "source": [
    "### STANDARDIZE, FORMALIZE COLUMNS (make into proper datatype)"
   ]
  },
  {
   "cell_type": "markdown",
   "metadata": {},
   "source": [
    "#### CHANGE date to DATETIME"
   ]
  },
  {
   "cell_type": "code",
   "execution_count": 7,
   "metadata": {},
   "outputs": [
    {
     "data": {
      "text/html": [
       "<div>\n",
       "<style scoped>\n",
       "    .dataframe tbody tr th:only-of-type {\n",
       "        vertical-align: middle;\n",
       "    }\n",
       "\n",
       "    .dataframe tbody tr th {\n",
       "        vertical-align: top;\n",
       "    }\n",
       "\n",
       "    .dataframe thead th {\n",
       "        text-align: right;\n",
       "    }\n",
       "</style>\n",
       "<table border=\"1\" class=\"dataframe\">\n",
       "  <thead>\n",
       "    <tr style=\"text-align: right;\">\n",
       "      <th></th>\n",
       "      <th>date</th>\n",
       "      <th>symbol</th>\n",
       "      <th>name</th>\n",
       "      <th>bidlo</th>\n",
       "      <th>askhi</th>\n",
       "      <th>price</th>\n",
       "      <th>vol</th>\n",
       "      <th>ret</th>\n",
       "      <th>bid</th>\n",
       "      <th>ask</th>\n",
       "      <th>sout</th>\n",
       "      <th>open</th>\n",
       "    </tr>\n",
       "  </thead>\n",
       "  <tbody>\n",
       "    <tr>\n",
       "      <th>0</th>\n",
       "      <td>2000-01-03</td>\n",
       "      <td>ORCL</td>\n",
       "      <td>ORACLE CORP</td>\n",
       "      <td>111.6250</td>\n",
       "      <td>125.1875</td>\n",
       "      <td>118.1250</td>\n",
       "      <td>24831819.0</td>\n",
       "      <td>0.054099</td>\n",
       "      <td>118.1250</td>\n",
       "      <td>118.1875</td>\n",
       "      <td>1423672.0</td>\n",
       "      <td>124.62500</td>\n",
       "    </tr>\n",
       "    <tr>\n",
       "      <th>1</th>\n",
       "      <td>2000-01-04</td>\n",
       "      <td>ORCL</td>\n",
       "      <td>ORACLE CORP</td>\n",
       "      <td>105.0000</td>\n",
       "      <td>118.6250</td>\n",
       "      <td>107.6875</td>\n",
       "      <td>29568565.0</td>\n",
       "      <td>-0.08836</td>\n",
       "      <td>107.6875</td>\n",
       "      <td>107.7500</td>\n",
       "      <td>1423672.0</td>\n",
       "      <td>115.50000</td>\n",
       "    </tr>\n",
       "    <tr>\n",
       "      <th>2</th>\n",
       "      <td>2000-01-05</td>\n",
       "      <td>ORCL</td>\n",
       "      <td>ORACLE CORP</td>\n",
       "      <td>96.0000</td>\n",
       "      <td>106.3750</td>\n",
       "      <td>102.0000</td>\n",
       "      <td>42032160.0</td>\n",
       "      <td>-0.052815</td>\n",
       "      <td>102.0000</td>\n",
       "      <td>102.0000</td>\n",
       "      <td>1423672.0</td>\n",
       "      <td>101.62500</td>\n",
       "    </tr>\n",
       "    <tr>\n",
       "      <th>3</th>\n",
       "      <td>2000-01-06</td>\n",
       "      <td>ORCL</td>\n",
       "      <td>ORACLE CORP</td>\n",
       "      <td>94.6875</td>\n",
       "      <td>105.0000</td>\n",
       "      <td>96.0000</td>\n",
       "      <td>27848885.0</td>\n",
       "      <td>-0.058824</td>\n",
       "      <td>96.0000</td>\n",
       "      <td>95.8750</td>\n",
       "      <td>1423672.0</td>\n",
       "      <td>100.15625</td>\n",
       "    </tr>\n",
       "    <tr>\n",
       "      <th>4</th>\n",
       "      <td>2000-01-07</td>\n",
       "      <td>ORCL</td>\n",
       "      <td>ORACLE CORP</td>\n",
       "      <td>93.5625</td>\n",
       "      <td>103.5000</td>\n",
       "      <td>103.3750</td>\n",
       "      <td>23218034.0</td>\n",
       "      <td>0.076823</td>\n",
       "      <td>103.2500</td>\n",
       "      <td>103.3750</td>\n",
       "      <td>1423672.0</td>\n",
       "      <td>95.00000</td>\n",
       "    </tr>\n",
       "  </tbody>\n",
       "</table>\n",
       "</div>"
      ],
      "text/plain": [
       "        date symbol         name     bidlo     askhi     price         vol  \\\n",
       "0 2000-01-03   ORCL  ORACLE CORP  111.6250  125.1875  118.1250  24831819.0   \n",
       "1 2000-01-04   ORCL  ORACLE CORP  105.0000  118.6250  107.6875  29568565.0   \n",
       "2 2000-01-05   ORCL  ORACLE CORP   96.0000  106.3750  102.0000  42032160.0   \n",
       "3 2000-01-06   ORCL  ORACLE CORP   94.6875  105.0000   96.0000  27848885.0   \n",
       "4 2000-01-07   ORCL  ORACLE CORP   93.5625  103.5000  103.3750  23218034.0   \n",
       "\n",
       "        ret       bid       ask       sout       open  \n",
       "0  0.054099  118.1250  118.1875  1423672.0  124.62500  \n",
       "1  -0.08836  107.6875  107.7500  1423672.0  115.50000  \n",
       "2 -0.052815  102.0000  102.0000  1423672.0  101.62500  \n",
       "3 -0.058824   96.0000   95.8750  1423672.0  100.15625  \n",
       "4  0.076823  103.2500  103.3750  1423672.0   95.00000  "
      ]
     },
     "execution_count": 7,
     "metadata": {},
     "output_type": "execute_result"
    }
   ],
   "source": [
    "df['date'] = pd.to_datetime(df['date'], format='%Y%m%d', errors='ignore')\n",
    "df.head()"
   ]
  },
  {
   "cell_type": "markdown",
   "metadata": {},
   "source": [
    "#### CHANGE symbol, name columns to string"
   ]
  },
  {
   "cell_type": "code",
   "execution_count": 9,
   "metadata": {},
   "outputs": [],
   "source": [
    "df['symbol'] = df['symbol'].astype(str)\n",
    "df['name'] = df['name'].astype(str)"
   ]
  },
  {
   "cell_type": "markdown",
   "metadata": {},
   "source": [
    "### CHANGE bidlo, askhi, price, vol, ret, bid, ask, sout, open to FLOAT"
   ]
  },
  {
   "cell_type": "code",
   "execution_count": 10,
   "metadata": {},
   "outputs": [],
   "source": [
    "df['bidlo'] = df['bidlo'].astype(float)\n",
    "df['askhi'] = df['askhi'].astype(float)\n",
    "df['price'] = df['price'].astype(float)\n",
    "df['vol'] = df['vol'].astype(float)\n",
    "df['ret'] = df['ret'].astype(float)\n",
    "df['bid'] = df['bid'].astype(float)\n",
    "df['ask'] = df['ask'].astype(float)\n",
    "df['sout'] = df['sout'].astype(float)\n",
    "df['open'] = df['open'].astype(float)"
   ]
  },
  {
   "cell_type": "markdown",
   "metadata": {},
   "source": [
    "#### CREATE NEW PRIMARY KEY TO BE APPLIED TO EACH TABLE"
   ]
  },
  {
   "cell_type": "code",
   "execution_count": 11,
   "metadata": {},
   "outputs": [
    {
     "name": "stdout",
     "output_type": "stream",
     "text": [
      "create_key function took 67126.201 ms\n"
     ]
    },
    {
     "data": {
      "text/html": [
       "<div>\n",
       "<style scoped>\n",
       "    .dataframe tbody tr th:only-of-type {\n",
       "        vertical-align: middle;\n",
       "    }\n",
       "\n",
       "    .dataframe tbody tr th {\n",
       "        vertical-align: top;\n",
       "    }\n",
       "\n",
       "    .dataframe thead th {\n",
       "        text-align: right;\n",
       "    }\n",
       "</style>\n",
       "<table border=\"1\" class=\"dataframe\">\n",
       "  <thead>\n",
       "    <tr style=\"text-align: right;\">\n",
       "      <th></th>\n",
       "      <th>date</th>\n",
       "      <th>symbol</th>\n",
       "      <th>name</th>\n",
       "      <th>bidlo</th>\n",
       "      <th>askhi</th>\n",
       "      <th>price</th>\n",
       "      <th>vol</th>\n",
       "      <th>ret</th>\n",
       "      <th>bid</th>\n",
       "      <th>ask</th>\n",
       "      <th>sout</th>\n",
       "      <th>open</th>\n",
       "      <th>key</th>\n",
       "    </tr>\n",
       "  </thead>\n",
       "  <tbody>\n",
       "    <tr>\n",
       "      <th>0</th>\n",
       "      <td>2000-01-03</td>\n",
       "      <td>ORCL</td>\n",
       "      <td>ORACLE CORP</td>\n",
       "      <td>111.6250</td>\n",
       "      <td>125.1875</td>\n",
       "      <td>118.1250</td>\n",
       "      <td>24831819.0</td>\n",
       "      <td>0.054099</td>\n",
       "      <td>118.1250</td>\n",
       "      <td>118.1875</td>\n",
       "      <td>1423672.0</td>\n",
       "      <td>124.62500</td>\n",
       "      <td>ORCL_ORACLE CORP</td>\n",
       "    </tr>\n",
       "    <tr>\n",
       "      <th>1</th>\n",
       "      <td>2000-01-04</td>\n",
       "      <td>ORCL</td>\n",
       "      <td>ORACLE CORP</td>\n",
       "      <td>105.0000</td>\n",
       "      <td>118.6250</td>\n",
       "      <td>107.6875</td>\n",
       "      <td>29568565.0</td>\n",
       "      <td>-0.088360</td>\n",
       "      <td>107.6875</td>\n",
       "      <td>107.7500</td>\n",
       "      <td>1423672.0</td>\n",
       "      <td>115.50000</td>\n",
       "      <td>ORCL_ORACLE CORP</td>\n",
       "    </tr>\n",
       "    <tr>\n",
       "      <th>2</th>\n",
       "      <td>2000-01-05</td>\n",
       "      <td>ORCL</td>\n",
       "      <td>ORACLE CORP</td>\n",
       "      <td>96.0000</td>\n",
       "      <td>106.3750</td>\n",
       "      <td>102.0000</td>\n",
       "      <td>42032160.0</td>\n",
       "      <td>-0.052815</td>\n",
       "      <td>102.0000</td>\n",
       "      <td>102.0000</td>\n",
       "      <td>1423672.0</td>\n",
       "      <td>101.62500</td>\n",
       "      <td>ORCL_ORACLE CORP</td>\n",
       "    </tr>\n",
       "    <tr>\n",
       "      <th>3</th>\n",
       "      <td>2000-01-06</td>\n",
       "      <td>ORCL</td>\n",
       "      <td>ORACLE CORP</td>\n",
       "      <td>94.6875</td>\n",
       "      <td>105.0000</td>\n",
       "      <td>96.0000</td>\n",
       "      <td>27848885.0</td>\n",
       "      <td>-0.058824</td>\n",
       "      <td>96.0000</td>\n",
       "      <td>95.8750</td>\n",
       "      <td>1423672.0</td>\n",
       "      <td>100.15625</td>\n",
       "      <td>ORCL_ORACLE CORP</td>\n",
       "    </tr>\n",
       "    <tr>\n",
       "      <th>4</th>\n",
       "      <td>2000-01-07</td>\n",
       "      <td>ORCL</td>\n",
       "      <td>ORACLE CORP</td>\n",
       "      <td>93.5625</td>\n",
       "      <td>103.5000</td>\n",
       "      <td>103.3750</td>\n",
       "      <td>23218034.0</td>\n",
       "      <td>0.076823</td>\n",
       "      <td>103.2500</td>\n",
       "      <td>103.3750</td>\n",
       "      <td>1423672.0</td>\n",
       "      <td>95.00000</td>\n",
       "      <td>ORCL_ORACLE CORP</td>\n",
       "    </tr>\n",
       "  </tbody>\n",
       "</table>\n",
       "</div>"
      ],
      "text/plain": [
       "        date symbol         name     bidlo     askhi     price         vol  \\\n",
       "0 2000-01-03   ORCL  ORACLE CORP  111.6250  125.1875  118.1250  24831819.0   \n",
       "1 2000-01-04   ORCL  ORACLE CORP  105.0000  118.6250  107.6875  29568565.0   \n",
       "2 2000-01-05   ORCL  ORACLE CORP   96.0000  106.3750  102.0000  42032160.0   \n",
       "3 2000-01-06   ORCL  ORACLE CORP   94.6875  105.0000   96.0000  27848885.0   \n",
       "4 2000-01-07   ORCL  ORACLE CORP   93.5625  103.5000  103.3750  23218034.0   \n",
       "\n",
       "        ret       bid       ask       sout       open               key  \n",
       "0  0.054099  118.1250  118.1875  1423672.0  124.62500  ORCL_ORACLE CORP  \n",
       "1 -0.088360  107.6875  107.7500  1423672.0  115.50000  ORCL_ORACLE CORP  \n",
       "2 -0.052815  102.0000  102.0000  1423672.0  101.62500  ORCL_ORACLE CORP  \n",
       "3 -0.058824   96.0000   95.8750  1423672.0  100.15625  ORCL_ORACLE CORP  \n",
       "4  0.076823  103.2500  103.3750  1423672.0   95.00000  ORCL_ORACLE CORP  "
      ]
     },
     "execution_count": 11,
     "metadata": {},
     "output_type": "execute_result"
    }
   ],
   "source": [
    "@timing\n",
    "def create_key():\n",
    "    key_list = []\n",
    "    for i in range(len(df)):\n",
    "        term = str(df.iloc[i, 1])\n",
    "        if not term:\n",
    "            value  = '0_'+df.iloc[i, 2]\n",
    "            key_list.append(value)\n",
    "        else:\n",
    "            value = str(df.iloc[i, 1])+'_'+str(df.iloc[i, 2])\n",
    "            key_list.append(value)\n",
    "\n",
    "    return key_list\n",
    "\n",
    "key_list = create_key()\n",
    "df['key'] = key_list\n",
    "del key_list\n",
    "\n",
    "df.head()"
   ]
  },
  {
   "cell_type": "markdown",
   "metadata": {},
   "source": [
    "## CREATE TABLES/ENTITIES\n",
    "###### ...\n",
    "###### ..."
   ]
  },
  {
   "cell_type": "markdown",
   "metadata": {},
   "source": [
    "### NAME TABLE"
   ]
  },
  {
   "cell_type": "code",
   "execution_count": 254,
   "metadata": {},
   "outputs": [
    {
     "data": {
      "text/html": [
       "<div>\n",
       "<style scoped>\n",
       "    .dataframe tbody tr th:only-of-type {\n",
       "        vertical-align: middle;\n",
       "    }\n",
       "\n",
       "    .dataframe tbody tr th {\n",
       "        vertical-align: top;\n",
       "    }\n",
       "\n",
       "    .dataframe thead th {\n",
       "        text-align: right;\n",
       "    }\n",
       "</style>\n",
       "<table border=\"1\" class=\"dataframe\">\n",
       "  <thead>\n",
       "    <tr style=\"text-align: right;\">\n",
       "      <th></th>\n",
       "      <th>symbol</th>\n",
       "      <th>name</th>\n",
       "    </tr>\n",
       "    <tr>\n",
       "      <th>key</th>\n",
       "      <th></th>\n",
       "      <th></th>\n",
       "    </tr>\n",
       "  </thead>\n",
       "  <tbody>\n",
       "    <tr>\n",
       "      <th>ORCL_ORACLE CORP</th>\n",
       "      <td>ORCL</td>\n",
       "      <td>ORACLE CORP</td>\n",
       "    </tr>\n",
       "    <tr>\n",
       "      <th>MSFT_MICROSOFT CORP</th>\n",
       "      <td>MSFT</td>\n",
       "      <td>MICROSOFT CORP</td>\n",
       "    </tr>\n",
       "    <tr>\n",
       "      <th>TROW_T ROWE PRICE ASSOC INC</th>\n",
       "      <td>TROW</td>\n",
       "      <td>T ROWE PRICE ASSOC INC</td>\n",
       "    </tr>\n",
       "    <tr>\n",
       "      <th>TROW_T ROWE PRICE GROUP INC</th>\n",
       "      <td>TROW</td>\n",
       "      <td>T ROWE PRICE GROUP INC</td>\n",
       "    </tr>\n",
       "    <tr>\n",
       "      <th>HON_HONEYWELL INTERNATIONAL INC</th>\n",
       "      <td>HON</td>\n",
       "      <td>HONEYWELL INTERNATIONAL INC</td>\n",
       "    </tr>\n",
       "  </tbody>\n",
       "</table>\n",
       "</div>"
      ],
      "text/plain": [
       "                                symbol                         name\n",
       "key                                                                \n",
       "ORCL_ORACLE CORP                  ORCL                  ORACLE CORP\n",
       "MSFT_MICROSOFT CORP               MSFT               MICROSOFT CORP\n",
       "TROW_T ROWE PRICE ASSOC INC       TROW       T ROWE PRICE ASSOC INC\n",
       "TROW_T ROWE PRICE GROUP INC       TROW       T ROWE PRICE GROUP INC\n",
       "HON_HONEYWELL INTERNATIONAL INC    HON  HONEYWELL INTERNATIONAL INC"
      ]
     },
     "execution_count": 254,
     "metadata": {},
     "output_type": "execute_result"
    }
   ],
   "source": [
    "df_name = df[['symbol', 'name', 'key']]\n",
    "df_name = df_name.drop_duplicates()\n",
    "df_name.index = df_name['key']\n",
    "df_name = df_name.drop('key', axis=1)\n",
    "df_name.to_csv('data\\\\interim\\\\df_symbols_names.csv')\n",
    "df_name.head()"
   ]
  }
 ],
 "metadata": {
  "kernelspec": {
   "display_name": "Python [conda env:Anaconda3]",
   "language": "python",
   "name": "conda-env-Anaconda3-py"
  },
  "language_info": {
   "codemirror_mode": {
    "name": "ipython",
    "version": 3
   },
   "file_extension": ".py",
   "mimetype": "text/x-python",
   "name": "python",
   "nbconvert_exporter": "python",
   "pygments_lexer": "ipython3",
   "version": "3.6.9"
  }
 },
 "nbformat": 4,
 "nbformat_minor": 4
}
