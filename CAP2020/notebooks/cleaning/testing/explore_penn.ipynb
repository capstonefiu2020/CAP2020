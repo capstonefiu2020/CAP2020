{
 "cells": [
  {
   "cell_type": "markdown",
   "metadata": {},
   "source": [
    "# USE EPLORATION TEMPLATE INSTEAD... FOR NUMERICAL EPLORATION`"
   ]
  },
  {
   "cell_type": "markdown",
   "metadata": {},
   "source": [
    "# WE CAN BRAKE ANALYSIS (ROUGHLY INTO 3 PARTS)\n",
    " - ### CLEAN THE DATA\n",
    " - ### TROUBLESHOOT ISSUES\n",
    " - ### REPEAT\n",
    " - ### GET A UNIQUE INDEX, CREATE A SET OF DF/ENTITY RELATIONSHIPS\n",
    " - ### \n",
    " - ### "
   ]
  },
  {
   "cell_type": "code",
   "execution_count": 17,
   "metadata": {},
   "outputs": [],
   "source": [
    "import os\n",
    "import pandas as pd\n",
    "import matplotlib.pyplot as plt\n",
    "import numpy as np\n",
    "from sklearn.utils import shuffle"
   ]
  },
  {
   "cell_type": "code",
   "execution_count": 4,
   "metadata": {},
   "outputs": [
    {
     "name": "stderr",
     "output_type": "stream",
     "text": [
      "C:\\PROGRA1\\Anaconda3\\lib\\site-packages\\IPython\\core\\interactiveshell.py:3058: DtypeWarning: Columns (5,6,9,19,48,56) have mixed types. Specify dtype option on import or set low_memory=False.\n",
      "  interactivity=interactivity, compiler=compiler, result=result)\n"
     ]
    }
   ],
   "source": [
    "df = pd.read_csv('..\\data\\\\PENN_SP500_daily.csv')\n",
    "df = shuffle(df, random_state=0)"
   ]
  },
  {
   "cell_type": "code",
   "execution_count": 19,
   "metadata": {},
   "outputs": [
    {
     "data": {
      "text/html": [
       "<div>\n",
       "<style scoped>\n",
       "    .dataframe tbody tr th:only-of-type {\n",
       "        vertical-align: middle;\n",
       "    }\n",
       "\n",
       "    .dataframe tbody tr th {\n",
       "        vertical-align: top;\n",
       "    }\n",
       "\n",
       "    .dataframe thead th {\n",
       "        text-align: right;\n",
       "    }\n",
       "</style>\n",
       "<table border=\"1\" class=\"dataframe\">\n",
       "  <thead>\n",
       "    <tr style=\"text-align: right;\">\n",
       "      <th></th>\n",
       "      <th>PERMNO</th>\n",
       "      <th>date</th>\n",
       "      <th>NAMEENDT</th>\n",
       "      <th>SHRCD</th>\n",
       "      <th>EXCHCD</th>\n",
       "      <th>SICCD</th>\n",
       "      <th>NCUSIP</th>\n",
       "      <th>TICKER</th>\n",
       "      <th>COMNAM</th>\n",
       "      <th>SHRCLS</th>\n",
       "      <th>...</th>\n",
       "      <th>CFACPR</th>\n",
       "      <th>CFACSHR</th>\n",
       "      <th>OPENPRC</th>\n",
       "      <th>NUMTRD</th>\n",
       "      <th>RETX</th>\n",
       "      <th>vwretd</th>\n",
       "      <th>vwretx</th>\n",
       "      <th>ewretd</th>\n",
       "      <th>ewretx</th>\n",
       "      <th>sprtrn</th>\n",
       "    </tr>\n",
       "  </thead>\n",
       "  <tbody>\n",
       "    <tr>\n",
       "      <th>819456</th>\n",
       "      <td>44601</td>\n",
       "      <td>20081119</td>\n",
       "      <td>NaN</td>\n",
       "      <td>11</td>\n",
       "      <td>1</td>\n",
       "      <td>2754</td>\n",
       "      <td>05361110</td>\n",
       "      <td>AVY</td>\n",
       "      <td>AVERY DENNISON CORP</td>\n",
       "      <td>NaN</td>\n",
       "      <td>...</td>\n",
       "      <td>1.000000</td>\n",
       "      <td>1.0</td>\n",
       "      <td>29.37</td>\n",
       "      <td>NaN</td>\n",
       "      <td>-0.057463</td>\n",
       "      <td>-0.063932</td>\n",
       "      <td>-0.064099</td>\n",
       "      <td>-0.064334</td>\n",
       "      <td>-0.064622</td>\n",
       "      <td>-0.061156</td>\n",
       "    </tr>\n",
       "    <tr>\n",
       "      <th>1748051</th>\n",
       "      <td>82775</td>\n",
       "      <td>20100319</td>\n",
       "      <td>NaN</td>\n",
       "      <td>11</td>\n",
       "      <td>1</td>\n",
       "      <td>6331</td>\n",
       "      <td>41651510</td>\n",
       "      <td>HIG</td>\n",
       "      <td>HARTFORD FINANCIAL SVCS GRP INC</td>\n",
       "      <td>NaN</td>\n",
       "      <td>...</td>\n",
       "      <td>1.000000</td>\n",
       "      <td>1.0</td>\n",
       "      <td>27.90</td>\n",
       "      <td>NaN</td>\n",
       "      <td>-0.020833</td>\n",
       "      <td>-0.006887</td>\n",
       "      <td>-0.006924</td>\n",
       "      <td>-0.007940</td>\n",
       "      <td>-0.008016</td>\n",
       "      <td>-0.005087</td>\n",
       "    </tr>\n",
       "    <tr>\n",
       "      <th>560186</th>\n",
       "      <td>25953</td>\n",
       "      <td>20051114</td>\n",
       "      <td>NaN</td>\n",
       "      <td>11</td>\n",
       "      <td>1</td>\n",
       "      <td>3534</td>\n",
       "      <td>26000310</td>\n",
       "      <td>DOV</td>\n",
       "      <td>DOVER CORP</td>\n",
       "      <td>NaN</td>\n",
       "      <td>...</td>\n",
       "      <td>1.508111</td>\n",
       "      <td>1.0</td>\n",
       "      <td>39.60</td>\n",
       "      <td>NaN</td>\n",
       "      <td>0.011836</td>\n",
       "      <td>-0.000805</td>\n",
       "      <td>-0.000889</td>\n",
       "      <td>-0.002344</td>\n",
       "      <td>-0.002385</td>\n",
       "      <td>-0.000778</td>\n",
       "    </tr>\n",
       "    <tr>\n",
       "      <th>1513152</th>\n",
       "      <td>79057</td>\n",
       "      <td>20001204</td>\n",
       "      <td>NaN</td>\n",
       "      <td>12</td>\n",
       "      <td>1</td>\n",
       "      <td>6331</td>\n",
       "      <td>G0070K10</td>\n",
       "      <td>ACL</td>\n",
       "      <td>ACE LTD</td>\n",
       "      <td>NaN</td>\n",
       "      <td>...</td>\n",
       "      <td>1.000000</td>\n",
       "      <td>1.0</td>\n",
       "      <td>39.25</td>\n",
       "      <td>NaN</td>\n",
       "      <td>0.009554</td>\n",
       "      <td>0.003688</td>\n",
       "      <td>0.003681</td>\n",
       "      <td>-0.010946</td>\n",
       "      <td>-0.010971</td>\n",
       "      <td>0.007406</td>\n",
       "    </tr>\n",
       "    <tr>\n",
       "      <th>63210</th>\n",
       "      <td>11600</td>\n",
       "      <td>20171116</td>\n",
       "      <td>NaN</td>\n",
       "      <td>11</td>\n",
       "      <td>3</td>\n",
       "      <td>3840</td>\n",
       "      <td>24906P10</td>\n",
       "      <td>XRAY</td>\n",
       "      <td>DENTSPLY SIRONA INC</td>\n",
       "      <td>NaN</td>\n",
       "      <td>...</td>\n",
       "      <td>1.000000</td>\n",
       "      <td>1.0</td>\n",
       "      <td>66.88</td>\n",
       "      <td>13343.0</td>\n",
       "      <td>0.008709</td>\n",
       "      <td>0.009340</td>\n",
       "      <td>0.009091</td>\n",
       "      <td>0.012350</td>\n",
       "      <td>0.012231</td>\n",
       "      <td>0.008196</td>\n",
       "    </tr>\n",
       "  </tbody>\n",
       "</table>\n",
       "<p>5 rows × 62 columns</p>\n",
       "</div>"
      ],
      "text/plain": [
       "         PERMNO      date  NAMEENDT  SHRCD  EXCHCD SICCD    NCUSIP TICKER  \\\n",
       "819456    44601  20081119       NaN     11       1  2754  05361110    AVY   \n",
       "1748051   82775  20100319       NaN     11       1  6331  41651510    HIG   \n",
       "560186    25953  20051114       NaN     11       1  3534  26000310    DOV   \n",
       "1513152   79057  20001204       NaN     12       1  6331  G0070K10    ACL   \n",
       "63210     11600  20171116       NaN     11       3  3840  24906P10   XRAY   \n",
       "\n",
       "                                  COMNAM SHRCLS  ...    CFACPR  CFACSHR  \\\n",
       "819456               AVERY DENNISON CORP    NaN  ...  1.000000      1.0   \n",
       "1748051  HARTFORD FINANCIAL SVCS GRP INC    NaN  ...  1.000000      1.0   \n",
       "560186                        DOVER CORP    NaN  ...  1.508111      1.0   \n",
       "1513152                          ACE LTD    NaN  ...  1.000000      1.0   \n",
       "63210                DENTSPLY SIRONA INC    NaN  ...  1.000000      1.0   \n",
       "\n",
       "        OPENPRC   NUMTRD      RETX    vwretd    vwretx    ewretd    ewretx  \\\n",
       "819456    29.37      NaN -0.057463 -0.063932 -0.064099 -0.064334 -0.064622   \n",
       "1748051   27.90      NaN -0.020833 -0.006887 -0.006924 -0.007940 -0.008016   \n",
       "560186    39.60      NaN  0.011836 -0.000805 -0.000889 -0.002344 -0.002385   \n",
       "1513152   39.25      NaN  0.009554  0.003688  0.003681 -0.010946 -0.010971   \n",
       "63210     66.88  13343.0  0.008709  0.009340  0.009091  0.012350  0.012231   \n",
       "\n",
       "           sprtrn  \n",
       "819456  -0.061156  \n",
       "1748051 -0.005087  \n",
       "560186  -0.000778  \n",
       "1513152  0.007406  \n",
       "63210    0.008196  \n",
       "\n",
       "[5 rows x 62 columns]"
      ]
     },
     "execution_count": 19,
     "metadata": {},
     "output_type": "execute_result"
    }
   ],
   "source": [
    "df.head()"
   ]
  },
  {
   "cell_type": "code",
   "execution_count": 22,
   "metadata": {},
   "outputs": [
    {
     "data": {
      "text/plain": [
       "numpy.float64"
      ]
     },
     "execution_count": 22,
     "metadata": {},
     "output_type": "execute_result"
    }
   ],
   "source": [
    "type(df['NAMEENDT'].iloc[0])"
   ]
  },
  {
   "cell_type": "code",
   "execution_count": 36,
   "metadata": {},
   "outputs": [
    {
     "data": {
      "text/plain": [
       " 1     1757366\n",
       " 3      537358\n",
       " 2       35787\n",
       " 0        6465\n",
       " 4         208\n",
       " 5          73\n",
       "-1          17\n",
       " 31          5\n",
       "Name: EXCHCD, dtype: int64"
      ]
     },
     "execution_count": 36,
     "metadata": {},
     "output_type": "execute_result"
    }
   ],
   "source": [
    "df['EXCHCD'].value_counts().sort_values(ascending=False)"
   ]
  },
  {
   "cell_type": "code",
   "execution_count": 25,
   "metadata": {},
   "outputs": [
    {
     "name": "stdout",
     "output_type": "stream",
     "text": [
      "PERMNO (616,)\n",
      "date (4779,)\n",
      "NAMEENDT (713,)\n",
      "SHRCD (10,)\n",
      "EXCHCD (8,)\n",
      "SICCD (401,)\n",
      "NCUSIP (834,)\n",
      "TICKER (640,)\n",
      "COMNAM (798,)\n",
      "SHRCLS (5,)\n",
      "TSYMBOL (640,)\n",
      "NAICS (386,)\n",
      "PRIMEXCH (6,)\n",
      "TRDSTAT (3,)\n",
      "SECSTAT (3,)\n",
      "PERMCO (591,)\n",
      "ISSUNO (255,)\n",
      "HEXCD (5,)\n",
      "HSICCD (244,)\n",
      "CUSIP (652,)\n",
      "DCLRDT (4577,)\n",
      "DLAMT (100,)\n",
      "DLPDT (100,)\n",
      "DLSTCD (15,)\n",
      "NEXTDT (25,)\n",
      "PAYDT (4837,)\n",
      "RCRDDT (4631,)\n",
      "SHRFLG (3,)\n",
      "HSICMG (57,)\n",
      "HSICIG (151,)\n",
      "DISTCD (33,)\n",
      "DIVAMT (938,)\n",
      "FACPR (169,)\n",
      "FACSHR (42,)\n",
      "ACPERM (171,)\n",
      "ACCOMP (173,)\n",
      "NWPERM (45,)\n",
      "DLRETX (100,)\n",
      "DLPRC (23,)\n",
      "DLRET (100,)\n",
      "TRTSCD (4,)\n",
      "NMSIND (6,)\n",
      "MMCNT (118,)\n",
      "NSDINX (23,)\n",
      "BIDLO (124727,)\n",
      "ASKHI (122167,)\n",
      "PRC (72330,)\n",
      "VOL (1106240,)\n",
      "RET (247575,)\n",
      "BID (55975,)\n",
      "ASK (55911,)\n",
      "SHROUT (49431,)\n",
      "CFACPR (237,)\n",
      "CFACSHR (78,)\n",
      "OPENPRC (63368,)\n",
      "NUMTRD (86648,)\n",
      "RETX (247613,)\n",
      "vwretd (4449,)\n",
      "vwretx (4433,)\n",
      "ewretd (4405,)\n",
      "ewretx (4395,)\n",
      "sprtrn (4439,)\n"
     ]
    }
   ],
   "source": [
    "for value in df.columns:\n",
    "    print(value, df[value].value_counts().shape)"
   ]
  },
  {
   "cell_type": "code",
   "execution_count": null,
   "metadata": {},
   "outputs": [],
   "source": []
  },
  {
   "cell_type": "code",
   "execution_count": 21,
   "metadata": {},
   "outputs": [],
   "source": [
    "#df.iloc[:5000, :].to_csv('..\\\\data\\\\test_data.csv')"
   ]
  },
  {
   "cell_type": "code",
   "execution_count": null,
   "metadata": {},
   "outputs": [],
   "source": []
  },
  {
   "cell_type": "code",
   "execution_count": null,
   "metadata": {},
   "outputs": [],
   "source": []
  },
  {
   "cell_type": "code",
   "execution_count": null,
   "metadata": {},
   "outputs": [],
   "source": []
  },
  {
   "cell_type": "code",
   "execution_count": null,
   "metadata": {},
   "outputs": [],
   "source": []
  }
 ],
 "metadata": {
  "kernelspec": {
   "display_name": "Python [conda env:Anaconda3]",
   "language": "python",
   "name": "conda-env-Anaconda3-py"
  },
  "language_info": {
   "codemirror_mode": {
    "name": "ipython",
    "version": 3
   },
   "file_extension": ".py",
   "mimetype": "text/x-python",
   "name": "python",
   "nbconvert_exporter": "python",
   "pygments_lexer": "ipython3",
   "version": "3.6.9"
  }
 },
 "nbformat": 4,
 "nbformat_minor": 4
}
