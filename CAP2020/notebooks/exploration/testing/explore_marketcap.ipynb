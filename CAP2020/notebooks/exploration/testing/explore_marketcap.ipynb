{
 "cells": [
  {
   "cell_type": "markdown",
   "metadata": {},
   "source": [
    "## marketcap"
   ]
  },
  {
   "cell_type": "code",
   "execution_count": 1,
   "metadata": {},
   "outputs": [],
   "source": [
    "import pandas as pd\n",
    "import matplotlib.pyplot as plt\n",
    "import numpy as np\n",
    "import boto3\n",
    "from botocore.client import Config\n",
    "import os\n",
    "import pandas as pd\n",
    "from io import StringIO\n",
    "import matplotlib.dates as dates\n",
    "from datetime import datetime\n",
    "import matplotlib.ticker as ticker\n",
    "\n",
    "os.chdir('C:\\\\Users\\\\A Sua\\\\Documents\\\\AWS\\\\credentials')\n",
    "list_of_lines = []\n",
    "with open('capstoner_key.txt') as fp:\n",
    "    lines = fp.readlines()\n",
    "    for line in lines:\n",
    "        line = line.strip()\n",
    "        list_of_lines.append(line)\n",
    "    fp.close()\n",
    "\n",
    "\n",
    "location = list_of_lines[0].split('=')[1]\n",
    "AWS_ACCESS_KEY_ID = list_of_lines[1].split('=')[1]\n",
    "AWS_SECRET_ACCESS_KEY = list_of_lines[2].split('=')[1]\n",
    "os.chdir('C:\\\\Users\\\\A Sua\\\\Documents\\\\FIU\\\\CAP2020')"
   ]
  },
  {
   "cell_type": "markdown",
   "metadata": {},
   "source": [
    "### import marketcap"
   ]
  },
  {
   "cell_type": "code",
   "execution_count": null,
   "metadata": {},
   "outputs": [],
   "source": [
    "### BUCKETS & KEYS\n",
    "BUCKET_NAME = 'capstonefiu2020-data'\n",
    "key_location = 'data/processed'\n",
    "file_name = 'df_market_cap.csv'\n",
    "key_path = key_location + '/' + file_name\n",
    "\n",
    "### ACTIVATE CLIENT\n",
    "client = boto3.client('s3', \n",
    "              aws_access_key_id = AWS_ACCESS_KEY_ID,\n",
    "               aws_secret_access_key=AWS_SECRET_ACCESS_KEY)\n",
    "\n",
    "\n",
    "### INSTANTIATE DATAFRAME\n",
    "csv_obj = client.get_object(Bucket = BUCKET_NAME, Key=key_path)\n",
    "body = csv_obj['Body']\n",
    "csv_string = body.read().decode('utf-8')\n",
    "\n",
    "df_marketcap = pd.read_csv(StringIO(csv_string))\n",
    "df_marketcap.index = df_marketcap['Unnamed: 0']\n",
    "df_marketcap = df_marketcap.drop('Unnamed: 0', axis=1)\n",
    "df_marketcap.index.names = ['date']\n",
    "\n",
    "\n",
    "#df_bidlo.head()\n",
    "#### TRANSPOSE DATA FOR EASE OF USE\n",
    "df_marketcap = df_marketcap.T\n",
    "df_marketcap.index = pd.to_datetime(df_marketcap.index)\n",
    "df_marketcap.head()"
   ]
  },
  {
   "cell_type": "code",
   "execution_count": null,
   "metadata": {},
   "outputs": [],
   "source": [
    "key_list = df_marketcap.columns\n",
    "\n",
    "for company in key_list[:20]:\n",
    "    fig, ax = plt.subplots()\n",
    "    ax.hist(df_marketcap[company])\n",
    "    plt.xticks(rotation=45)\n",
    "    plt.title('{}:\\nMarketcap: 2000-2019'.format(company), fontsize=15)\n",
    "    plt.show()\n",
    "    print('')\n",
    "    print('')"
   ]
  }
 ],
 "metadata": {
  "kernelspec": {
   "display_name": "Python [conda env:Anaconda3]",
   "language": "python",
   "name": "conda-env-Anaconda3-py"
  },
  "language_info": {
   "codemirror_mode": {
    "name": "ipython",
    "version": 3
   },
   "file_extension": ".py",
   "mimetype": "text/x-python",
   "name": "python",
   "nbconvert_exporter": "python",
   "pygments_lexer": "ipython3",
   "version": "3.6.9"
  }
 },
 "nbformat": 4,
 "nbformat_minor": 4
}
