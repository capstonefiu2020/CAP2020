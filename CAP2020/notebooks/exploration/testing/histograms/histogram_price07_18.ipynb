{
 "cells": [
  {
   "cell_type": "code",
   "execution_count": null,
   "metadata": {},
   "outputs": [],
   "source": [
    "from IPython.core.display import display, HTML\n",
    "display(HTML(\"<style>.container { width:90% !important; }</style>\"))"
   ]
  },
  {
   "cell_type": "code",
   "execution_count": null,
   "metadata": {},
   "outputs": [],
   "source": [
    "import pandas as pd\n",
    "import matplotlib.pyplot as plt\n",
    "import numpy as np\n",
    "import boto3\n",
    "from botocore.client import Config\n",
    "import os\n",
    "import pandas as pd\n",
    "from io import StringIO\n",
    "import matplotlib.dates as dates\n",
    "from datetime import datetime\n",
    "import matplotlib.ticker as ticker\n",
    "from random import shuffle\n",
    "from time import time\n",
    "from pandas.plotting import register_matplotlib_converters\n",
    "\n",
    "os.chdir('C:\\\\Users\\\\A Sua\\\\Documents\\\\AWS\\\\credentials')\n",
    "list_of_lines = []\n",
    "with open('capstoner_key.txt') as fp:\n",
    "    lines = fp.readlines()\n",
    "    for line in lines:\n",
    "        line = line.strip()\n",
    "        list_of_lines.append(line)\n",
    "    fp.close()\n",
    "\n",
    "\n",
    "location = list_of_lines[0].split('=')[1]\n",
    "AWS_ACCESS_KEY_ID = list_of_lines[1].split('=')[1]\n",
    "AWS_SECRET_ACCESS_KEY = list_of_lines[2].split('=')[1]\n",
    "os.chdir('C:\\\\Users\\\\A Sua\\\\Documents\\\\FIU\\\\CAP2020')\n",
    "%matplotlib notebook"
   ]
  },
  {
   "cell_type": "markdown",
   "metadata": {},
   "source": [
    "### import price"
   ]
  },
  {
   "cell_type": "code",
   "execution_count": null,
   "metadata": {},
   "outputs": [],
   "source": [
    "### BUCKETS & KEYS\n",
    "BUCKET_NAME = 'capstonefiu2020-data'\n",
    "key_location = 'data/processed'\n",
    "file_name = 'df_price07_18.csv'a\n",
    "key_path = key_location + '/' + file_name\n",
    "\n",
    "### ACTIVATE CLIENT\n",
    "client = boto3.client('s3', \n",
    "              aws_access_key_id = AWS_ACCESS_KEY_ID,\n",
    "               aws_secret_access_key=AWS_SECRET_ACCESS_KEY)\n",
    "\n",
    "\n",
    "### INSTANTIATE DATAFRAME\n",
    "csv_obj = client.get_object(Bucket = BUCKET_NAME, Key=key_path)\n",
    "body = csv_obj['Body']\n",
    "csv_string = body.read().decode('utf-8')\n",
    "\n",
    "df_price = pd.read_csv(StringIO(csv_string))\n",
    "df_price.index = df_price['Unnamed: 0']\n",
    "df_price = df_price.drop('Unnamed: 0', axis=1)\n",
    "df_price.index.names = ['date']\n",
    "\n",
    "\n",
    "#df_bidlo.head()\n",
    "#### TRANSPOSE DATA FOR EASE OF USE\n",
    "df_price = df_price.T\n",
    "df_price.index = pd.to_datetime(df_price.index)\n",
    "print(df_price.shape)\n",
    "df_price.head()"
   ]
  },
  {
   "cell_type": "markdown",
   "metadata": {},
   "source": [
    "### what is the distribution of the sigmas?"
   ]
  },
  {
   "cell_type": "code",
   "execution_count": null,
   "metadata": {},
   "outputs": [],
   "source": [
    "sigmas = []\n",
    "for symbol in df_price.columns:\n",
    "    temp_sigma = round(df_price[symbol].describe()['std'], 4)\n",
    "    sigmas.append(temp_sigma)"
   ]
  },
  {
   "cell_type": "code",
   "execution_count": null,
   "metadata": {},
   "outputs": [],
   "source": [
    "plt.hist(sigmas, bins=50)"
   ]
  },
  {
   "cell_type": "markdown",
   "metadata": {},
   "source": [
    "### Worst dates"
   ]
  },
  {
   "cell_type": "code",
   "execution_count": null,
   "metadata": {},
   "outputs": [],
   "source": [
    "worst_dates_dow = pd.to_datetime(['2008-10-15', '2008-12-1', '2008-10-9', '2008-9-29', '2011-8-8'])\n",
    "#worst_dates_sp = \n",
    "worst_dates_dow"
   ]
  },
  {
   "cell_type": "code",
   "execution_count": null,
   "metadata": {
    "scrolled": false
   },
   "outputs": [],
   "source": [
    "### matrix of subplots\n",
    "n_cols = 4\n",
    "n_rows = 4\n",
    "n_plots = n_cols*n_rows\n",
    "nloops = int(np.floor(388/n_plots))\n",
    "temp_matrix = np.array(range(n_plots)).reshape(n_rows,n_cols)\n",
    "divisor = np.sqrt(3020)\n",
    "\n",
    "\n",
    "for i in range(nloops):\n",
    "    nn = len(df_price.columns)\n",
    "    lower = i*n_plots\n",
    "    upper = (i+1)*n_plots\n",
    "    #print(lower, upper)\n",
    "    temp_list = df_price.columns[lower:upper]\n",
    "    print('\\n\\n\\n\\n\\n\\n\\n\\nBatch {}'.format(i))    \n",
    "    \n",
    "    fig, ax = plt.subplots(n_cols,n_rows,figsize=(17,12))\n",
    "    for k in range(n_rows):\n",
    "        for l in range(n_cols):\n",
    "            ###--Generate Plot---## \n",
    "            ## indices\n",
    "            temp_idx = temp_matrix[k,l]\n",
    "            symbol = temp_list[temp_idx]\n",
    "            sigma = round(df_price[symbol].describe()['std'], 4)\n",
    "            \n",
    "            ##--Generate Plot--#        \n",
    "            ax[k,l].hist(df_price[symbol], bins=50)\n",
    "            ax[k,l].set_title('{}:\\nSigma:{}'.format(symbol, sigma))\n",
    "            #ax[k,l].set_ylim([0,1100])\n",
    "            ax[k,l].spines['top'].set_visible(False)\n",
    "            ax[k,l].spines['right'].set_visible(False)\n",
    "                        \n",
    "    fig.subplots_adjust(hspace=0.7)\n",
    "    plt.tight_layout()\n",
    "    plt.show()"
   ]
  },
  {
   "cell_type": "markdown",
   "metadata": {},
   "source": [
    "### leftovers"
   ]
  },
  {
   "cell_type": "code",
   "execution_count": null,
   "metadata": {},
   "outputs": [],
   "source": [
    "### matrix of subplots\n",
    "n_cols = 2\n",
    "n_rows = 2\n",
    "n_plots = n_cols*n_rows\n",
    "nloops = 1\n",
    "temp_matrix = np.array(range(n_plots)).reshape(n_rows,n_cols)\n",
    "\n",
    "\n",
    "\n",
    "for i in range(nloops):\n",
    "    nn = len(df_returns.columns)\n",
    "    #print(lower, upper)\n",
    "    temp_list = df_price.columns[-n_plots:]\n",
    "    print('\\n\\n\\n\\n\\n\\n\\n\\nBatch {}'.format(i))\n",
    "    \n",
    "    \n",
    "    fig, ax = plt.subplots(n_cols,n_rows,figsize=(10,6))\n",
    "    for k in range(n_rows):\n",
    "        for l in range(n_cols):\n",
    "            ###--Generate Plot---## \n",
    "            ## indices\n",
    "            temp_idx = temp_matrix[k,l]\n",
    "            symbol = temp_list[temp_idx]\n",
    "            ### worst return, it's z-score and sigma value\n",
    "            worst_return = df_price[symbol].sort_values()[0]\n",
    "\n",
    "            sigma = round(df_returns[symbol].describe()['std'], 4)\n",
    "\n",
    "                \n",
    "            ##--Generate Plot--#        \n",
    "            ax[k,l].hist(df_price[symbol], bins=50,color=temp_color)\n",
    "            ax[k,l].set_title('{}\\n:\\nSigma:{}'.format(symbol, sigma))\n",
    "            ax[k,l].spines['top'].set_visible(False)\n",
    "            ax[k,l].spines['right'].set_visible(False)\n",
    "\n",
    "    fig.subplots_adjust(hspace=0.7)\n",
    "    plt.tight_layout()\n",
    "    plt.show()   "
   ]
  }
 ],
 "metadata": {
  "kernelspec": {
   "display_name": "Python 3",
   "language": "python",
   "name": "python3"
  },
  "language_info": {
   "codemirror_mode": {
    "name": "ipython",
    "version": 3
   },
   "file_extension": ".py",
   "mimetype": "text/x-python",
   "name": "python",
   "nbconvert_exporter": "python",
   "pygments_lexer": "ipython3",
   "version": "3.7.3"
  }
 },
 "nbformat": 4,
 "nbformat_minor": 2
}
