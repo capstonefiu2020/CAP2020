{
 "cells": [
  {
   "cell_type": "code",
   "execution_count": null,
   "metadata": {},
   "outputs": [],
   "source": [
    "from IPython.core.display import display, HTML\n",
    "display(HTML(\"<style>.container { width:90% !important; }</style>\"))"
   ]
  },
  {
   "cell_type": "code",
   "execution_count": null,
   "metadata": {},
   "outputs": [],
   "source": [
    "import pandas as pd\n",
    "import matplotlib.pyplot as plt\n",
    "import numpy as np\n",
    "import boto3\n",
    "from botocore.client import Config\n",
    "import os\n",
    "import pandas as pd\n",
    "from io import StringIO\n",
    "import matplotlib.dates as dates\n",
    "from datetime import datetime\n",
    "import matplotlib.ticker as ticker\n",
    "from random import shuffle\n",
    "from time import time\n",
    "from pandas.plotting import register_matplotlib_converters\n",
    "%matplotlib notebook\n",
    "\n",
    "os.chdir('C:\\\\Users\\\\A Sua\\\\Documents\\\\AWS\\\\credentials')\n",
    "list_of_lines = []\n",
    "with open('capstoner_key.txt') as fp:\n",
    "    lines = fp.readlines()\n",
    "    for line in lines:\n",
    "        line = line.strip()\n",
    "        list_of_lines.append(line)\n",
    "    fp.close()\n",
    "\n",
    "\n",
    "location = list_of_lines[0].split('=')[1]\n",
    "AWS_ACCESS_KEY_ID = list_of_lines[1].split('=')[1]\n",
    "AWS_SECRET_ACCESS_KEY = list_of_lines[2].split('=')[1]\n",
    "os.chdir('C:\\\\Users\\\\A Sua\\\\Documents\\\\FIU\\\\CAP2020')"
   ]
  },
  {
   "cell_type": "code",
   "execution_count": null,
   "metadata": {},
   "outputs": [],
   "source": [
    "register_matplotlib_converters()\n",
    "%matplotlib notebook"
   ]
  },
  {
   "cell_type": "markdown",
   "metadata": {},
   "source": [
    "### import dataframes"
   ]
  },
  {
   "cell_type": "code",
   "execution_count": 1,
   "metadata": {},
   "outputs": [],
   "source": [
    "df_name_list = ['df_returns07_18', 'df_spread07_18', 'df_price07_18']\n",
    "df_list = []"
   ]
  },
  {
   "cell_type": "code",
   "execution_count": null,
   "metadata": {},
   "outputs": [],
   "source": [
    "### BUCKETS & KEYS\n",
    "BUCKET_NAME = 'capstonefiu2020-data'\n",
    "key_location = 'data/processed'\n",
    "\n",
    "### ACTIVATE CLIENT\n",
    "client = boto3.client('s3', \n",
    "              aws_access_key_id = AWS_ACCESS_KEY_ID,\n",
    "               aws_secret_access_key=AWS_SECRET_ACCESS_KEY)\n",
    "\n",
    "\n",
    "for name in df_name_list:\n",
    "    file_name = '{}.csv'.format(name)\n",
    "    key_path = key_location + '/' + file_name\n",
    "\n",
    "    ### INSTANTIATE DATAFRAME\n",
    "    csv_obj = client.get_object(Bucket = BUCKET_NAME, Key=key_path)\n",
    "    body = csv_obj['Body']\n",
    "    csv_string = body.read().decode('utf-8')\n",
    "\n",
    "    temp_df = pd.read_csv(StringIO(csv_string))\n",
    "    temp_df.index = temp_df['Unnamed: 0']\n",
    "    temp_df = temp_df.drop('Unnamed: 0', axis=1)\n",
    "    temp_df.index.names = ['date']\n",
    "\n",
    "\n",
    "    #df_bidlo.head()\n",
    "    #### TRANSPOSE DATA FOR EASE OF USE\n",
    "    temp_df = temp_df.T\n",
    "    temp_df.index = pd.to_datetime(temp_df.index)\n",
    "    df_list.append(temp_df)\n",
    "    print('{} added to df_list'.format(name))"
   ]
  },
  {
   "cell_type": "code",
   "execution_count": null,
   "metadata": {},
   "outputs": [],
   "source": [
    "df_returns = df_list[0]\n",
    "df_spread = df_list[1]\n",
    "df_price = df_list[2]"
   ]
  },
  {
   "cell_type": "code",
   "execution_count": null,
   "metadata": {},
   "outputs": [],
   "source": [
    "df_spread_price = df_spread/df_price\n",
    "df_spread_price.head()"
   ]
  },
  {
   "cell_type": "markdown",
   "metadata": {},
   "source": [
    "### Find the dates of the worst trading days systemically & by the company"
   ]
  },
  {
   "cell_type": "code",
   "execution_count": 52,
   "metadata": {},
   "outputs": [
    {
     "data": {
      "text/plain": [
       "Index(['ORCL_ORACLE CORP', 'MSFT_MICROSOFT CORP',\n",
       "       'TROW_T ROWE PRICE GROUP INC', 'HON_HONEYWELL INTERNATIONAL INC',\n",
       "       'ADM_ARCHER DANIELS MIDLAND CO'],\n",
       "      dtype='object', name='date')"
      ]
     },
     "execution_count": 52,
     "metadata": {},
     "output_type": "execute_result"
    }
   ],
   "source": [
    "dates = df_price.index\n",
    "df_returns.columns[:5]"
   ]
  },
  {
   "cell_type": "markdown",
   "metadata": {},
   "source": [
    "#### RETURNS: 5 worst Return dates: DOW JONES, S&P"
   ]
  },
  {
   "cell_type": "code",
   "execution_count": 4,
   "metadata": {},
   "outputs": [],
   "source": [
    "worst_dates_sp = pd.to_datetime(['2008-10-15', '2008-09-29', '2008-12-01', '2008-10-09', '2008-11-20'])\n",
    "worst_dates_sp"
   ]
  },
  {
   "cell_type": "markdown",
   "metadata": {},
   "source": [
    "#### RETURNS: 5 worst Return dates: COMPNAY"
   ]
  },
  {
   "cell_type": "code",
   "execution_count": 53,
   "metadata": {},
   "outputs": [
    {
     "data": {
      "text/plain": [
       "2011-12-21   -0.116558\n",
       "2008-10-15   -0.098361\n",
       "2013-03-21   -0.096882\n",
       "2018-03-20   -0.094321\n",
       "2013-06-21   -0.092593\n",
       "Name: ORCL_ORACLE CORP, dtype: float64"
      ]
     },
     "execution_count": 53,
     "metadata": {},
     "output_type": "execute_result"
    }
   ],
   "source": [
    "worst_days_returns = {}\n",
    "for symbol in df_returns.columns:\n",
    "    temp_series = df_returns[symbol].sort_values(ascending=True).iloc[:5]\n",
    "    worst_days_returns[symbol] = temp_series\n",
    "worst_days_returns['ORCL_ORACLE CORP']"
   ]
  },
  {
   "cell_type": "markdown",
   "metadata": {},
   "source": [
    "### Spread/Price: 5 worst Return dates: COMPNAY"
   ]
  },
  {
   "cell_type": "code",
   "execution_count": null,
   "metadata": {},
   "outputs": [],
   "source": [
    "worst_days_spread_price = {}\n",
    "for symbol in df_spread:\n",
    "    temp_dic = worst_days_returns[symbol]\n",
    "    temp_series = pd.merge(temp_dic, df_spread_price[symbol], left_index=True, right_index=True, copy=False, suffixes=('_x', ''))[symbol]\n",
    "    worst_days_spread_price[symbol] = temp_series\n",
    "print(len(worst_days_spread_price))"
   ]
  },
  {
   "cell_type": "markdown",
   "metadata": {},
   "source": [
    "### Spread/Price: 5 worst Return dates: S&P"
   ]
  },
  {
   "cell_type": "code",
   "execution_count": null,
   "metadata": {},
   "outputs": [],
   "source": [
    "worst_days_spread_price_sp = {}\n",
    "for symbol in df_spread_price.columns:\n",
    "    temp_series = pd.Series([df_spread_price[symbol][worst_dates_sp[i]] for i in range(len(worst_dates_sp))], index=[worst_dates_sp])\n",
    "    worst_days_spread_price_sp[symbol] = temp_series\n",
    "\n",
    "worst_days_spread_price_sp['HON_HONEYWELL INTERNATIONAL INC']"
   ]
  },
  {
   "cell_type": "markdown",
   "metadata": {},
   "source": [
    "### Make Plots (384, 16 per plot, 4 Leftovers)"
   ]
  },
  {
   "cell_type": "code",
   "execution_count": null,
   "metadata": {},
   "outputs": [],
   "source": [
    "#sup_title_font =15\n",
    "sub_title_font =8\n",
    "legend_font =8\n",
    "axis_font = 6\n",
    "tick_rotation = 20\n",
    "black_dot = 2\n",
    "red_dot = 5\n",
    "\n",
    "### matrix of subplots\n",
    "n_cols = 4\n",
    "n_rows = 4\n",
    "n_plots = n_cols*n_rows\n",
    "nloops = int(np.floor(388/n_plots))\n",
    "temp_matrix = np.array(range(n_plots)).reshape(n_rows,n_cols)\n",
    "\n",
    "for i in range(nloops):\n",
    "    nn = len(df_spread_price.columns)\n",
    "    lower = i*n_plots\n",
    "    upper = (i+1)*n_plots\n",
    "    #print(lower, upper)\n",
    "    temp_list = df_spread_price.columns[lower:upper]\n",
    "    print('\\n\\n\\n\\n\\n\\n\\n\\nBatch {}'.format(i))\n",
    "    \n",
    "    \n",
    "    ####----PLOT THE FIGURES---------#####\n",
    "    ### legend labels\n",
    "    dot_labels = ['Spread/Price', 'Company', 'Market']\n",
    "    temp_list_of_axis = []\n",
    "    \n",
    "    ### instantiage\n",
    "    fig, ax = plt.subplots(n_cols,n_rows,figsize=(17,9))\n",
    "    for k in range(n_rows):\n",
    "        for l in range(n_cols):\n",
    "            ## indices\n",
    "            temp_idx = temp_matrix[k,l]\n",
    "            symbol = temp_list[temp_idx]\n",
    "            ### company prices, worst 5 dates with worst returns\n",
    "            temp_worst_spread = worst_days_spread_price[symbol]\n",
    "            ### comapny returns, worst 5 systemic dates with worst returns\n",
    "            temp_worst_spread_sp = worst_days_spread_price_sp[symbol]\n",
    "\n",
    "            ### Company Timeseries            \n",
    "            wt = ax[k, l].plot(dates, df_spread_price[symbol].values, label='Daily Spread/Price'.format(symbol), alpha=0.7)            \n",
    "\n",
    "            ### PLOT: 5 worst company dates\n",
    "            wc = ax[k, l].scatter(temp_worst_spread.index, temp_worst_spread.values, \n",
    "                       color='red', \n",
    "                       linewidths=red_dot, \n",
    "                       edgecolor='red') \n",
    "                       #label='Worst Company Trading')\n",
    "            ### PLOT: Returns on 5 worst systemic dates \n",
    "            wm = ax[k,l].scatter(temp_worst_spread_sp.index, temp_worst_spread_sp.values, \n",
    "                       color='black', \n",
    "                       linewidths=black_dot, \n",
    "                       edgecolor='black') \n",
    "                       #label='Worst Market Trading Days')            \n",
    "\n",
    "            ax[k,l].spines['top'].set_visible(False)\n",
    "            ax[k,l].spines['right'].set_visible(False)\n",
    "            ax[k,l].set_title(symbol, fontsize=sub_title_font) \n",
    "            #ax[k,l].set_xlabel(fontsize=x_axis_font)\n",
    "            ax[k,l].tick_params(axis=\"x\", labelsize=axis_font, rotation=tick_rotation)\n",
    "            ax[k,l].tick_params(axis=\"y\", labelsize=axis_font)\n",
    "            ax[k,l].set_ylim([0.0, 0.30])            \n",
    "            temp_list_of_axis.append([wc, wm, wt])\n",
    "         \n",
    "            \n",
    "            \n",
    "    #fig.legend(bbox_to_anchor=(1.1, 1.1), prop={'size':15})\n",
    "    #fig.suptitle('Daily Returns 2007-2018:\\nBatch {}'.format(i), fontsize=sup_title_font)\n",
    "    fig.subplots_adjust(hspace=0.7)\n",
    "    leg = fig.legend(temp_list_of_axis, labels=dot_labels, \n",
    "               #title='Worst Trading Days', title_fontsize=25, \n",
    "               bbox_to_anchor=(1.0, 0.97), \n",
    "               prop={'size':legend_font})#, fontsize=sup_title_font)\n",
    "    leg.set_in_layout(False)\n",
    "    #plt.tight_layout(pad=0.5, w_pad=5.0, h_pad=0.0)\n",
    "    plt.tight_layout()\n",
    "    plt.show()\n",
    "    #plt.savefig('plots\\\\timeseries\\\\price_timeseries_batch{}.png'.format(i+1), dpi=220) \n",
    "        \n",
    "#             for tick in ax[k, l].get_xticklabels():\n",
    "#                 tick.set_rotation(20)\n",
    "#                 tick."
   ]
  },
  {
   "cell_type": "markdown",
   "metadata": {},
   "source": [
    "### Leftovers"
   ]
  },
  {
   "cell_type": "code",
   "execution_count": null,
   "metadata": {},
   "outputs": [],
   "source": [
    "#sup_title_font =15\n",
    "sub_title_font =8\n",
    "legend_font =8\n",
    "axis_font = 6\n",
    "tick_rotation = 20\n",
    "\n",
    "### matrix of subplots\n",
    "n_cols = 2\n",
    "n_rows = 2\n",
    "n_plots = n_cols*n_rows\n",
    "nloops = 1\n",
    "temp_matrix = np.array(range(n_plots)).reshape(n_rows,n_cols)\n",
    "\n",
    "for i in range(nloops):\n",
    "    nn = len(df_spread_price.columns)\n",
    "    #print(lower, upper)\n",
    "    temp_list = df_spread_price.columns[-n_plots:]\n",
    "    print('\\n\\n\\n\\n\\n\\n\\n\\nBatch {}'.format(i))\n",
    "    \n",
    "    \n",
    "    ####----PLOT THE FIGURES---------#####\n",
    "    ### legend labels\n",
    "    dot_labels = ['Spread/Price', 'Company', 'Market']\n",
    "    temp_list_of_axis = []\n",
    "    \n",
    "    ### instantiage\n",
    "    fig, ax = plt.subplots(n_cols,n_rows,figsize=(17,9))\n",
    "    for k in range(n_rows):\n",
    "        for l in range(n_cols):\n",
    "            ## indices\n",
    "            temp_idx = temp_matrix[k,l]\n",
    "            symbol = temp_list[temp_idx]\n",
    "            ### company prices, worst 5 dates with worst returns\n",
    "            temp_worst_spread = worst_days_spread_price[symbol]\n",
    "            ### comapny returns, worst 5 systemic dates with worst returns\n",
    "            temp_worst_spread_sp = worst_days_spread_price_sp[symbol]\n",
    "\n",
    "            ### Company Timeseries            \n",
    "            wt = ax[k, l].plot(dates, df_spread_price[symbol].values, label='Daily Spread/Price'.format(symbol), alpha=0.7)            \n",
    "\n",
    "            ### PLOT: 5 worst company dates\n",
    "            wc = ax[k, l].scatter(temp_worst_spread.index, temp_worst_spread.values, \n",
    "                       color='red', \n",
    "                       linewidths=red_dot, \n",
    "                       edgecolor='red') \n",
    "                       #label='Worst Company Trading')\n",
    "            ### PLOT: Returns on 5 worst systemic dates \n",
    "            wm = ax[k,l].scatter(temp_worst_spread_sp.index, temp_worst_spread_sp.values, \n",
    "                       color='black', \n",
    "                       linewidths=black_dot, \n",
    "                       edgecolor='black') \n",
    "                       #label='Worst Market Trading Days')            \n",
    "\n",
    "\n",
    "\n",
    "            ax[k,l].spines['top'].set_visible(False)\n",
    "            ax[k,l].spines['right'].set_visible(False)\n",
    "            ax[k,l].set_title(symbol, fontsize=sub_title_font) \n",
    "            #ax[k,l].set_xlabel(fontsize=x_axis_font)\n",
    "            ax[k,l].tick_params(axis=\"x\", labelsize=axis_font, rotation=tick_rotation)\n",
    "            ax[k,l].tick_params(axis=\"y\", labelsize=axis_font)\n",
    "            ax[k,l].set_ylim([0.0, 0.30])            \n",
    "            temp_list_of_axis.append([wc, wm, wt])\n",
    "         \n",
    "            \n",
    "            \n",
    "    #fig.legend(bbox_to_anchor=(1.1, 1.1), prop={'size':15})\n",
    "    #fig.suptitle('Daily Returns 2007-2018:\\nBatch {}'.format(i), fontsize=sup_title_font)\n",
    "    fig.subplots_adjust(hspace=0.7)\n",
    "    leg = fig.legend(temp_list_of_axis, labels=dot_labels, \n",
    "               #title='Worst Trading Days', title_fontsize=25, \n",
    "               bbox_to_anchor=(1.0, 0.97), \n",
    "               prop={'size':legend_font})#, fontsize=sup_title_font)\n",
    "    leg.set_in_layout(False)\n",
    "    #plt.tight_layout(pad=0.5, w_pad=5.0, h_pad=0.0)\n",
    "    plt.tight_layout()\n",
    "    plt.show()\n",
    "    #plt.savefig('plots\\\\timeseries\\\\price_timeseries_batch{}.png'.format(i+1), dpi=220) \n",
    "    \n",
    "    \n",
    "#             for tick in ax[k, l].get_xticklabels():\n",
    "#                 tick.set_rotation(20)\n",
    "#                 tick."
   ]
  }
 ],
 "metadata": {
  "kernelspec": {
   "display_name": "Python [conda env:Anaconda3]",
   "language": "python",
   "name": "conda-env-Anaconda3-py"
  },
  "language_info": {
   "codemirror_mode": {
    "name": "ipython",
    "version": 3
   },
   "file_extension": ".py",
   "mimetype": "text/x-python",
   "name": "python",
   "nbconvert_exporter": "python",
   "pygments_lexer": "ipython3",
   "version": "3.6.9"
  }
 },
 "nbformat": 4,
 "nbformat_minor": 4
}
