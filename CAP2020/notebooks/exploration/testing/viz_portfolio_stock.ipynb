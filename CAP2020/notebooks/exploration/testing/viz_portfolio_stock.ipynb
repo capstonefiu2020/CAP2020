{
 "cells": [
  {
   "cell_type": "code",
   "execution_count": 1,
   "metadata": {},
   "outputs": [
    {
     "data": {
      "text/html": [
       "<style>.container { width:90% !important; }</style>"
      ],
      "text/plain": [
       "<IPython.core.display.HTML object>"
      ]
     },
     "metadata": {},
     "output_type": "display_data"
    }
   ],
   "source": [
    "from IPython.core.display import display, HTML\n",
    "display(HTML(\"<style>.container { width:90% !important; }</style>\"))"
   ]
  },
  {
   "cell_type": "code",
   "execution_count": 2,
   "metadata": {},
   "outputs": [],
   "source": [
    "import pandas as pd\n",
    "import matplotlib.pyplot as plt\n",
    "import numpy as np\n",
    "import boto3\n",
    "from botocore.client import Config\n",
    "import os\n",
    "import pandas as pd\n",
    "from io import StringIO\n",
    "import matplotlib.dates as dates\n",
    "from datetime import datetime\n",
    "import matplotlib.ticker as ticker\n",
    "from random import shuffle\n",
    "from time import time\n",
    "from pandas.plotting import register_matplotlib_converters\n",
    "\n",
    "os.chdir('C:\\\\Users\\\\A Sua\\\\Documents\\\\AWS\\\\credentials')\n",
    "list_of_lines = []\n",
    "with open('capstoner_key.txt') as fp:\n",
    "    lines = fp.readlines()\n",
    "    for line in lines:\n",
    "        line = line.strip()\n",
    "        list_of_lines.append(line)\n",
    "    fp.close()\n",
    "\n",
    "\n",
    "location = list_of_lines[0].split('=')[1]\n",
    "AWS_ACCESS_KEY_ID = list_of_lines[1].split('=')[1]\n",
    "AWS_SECRET_ACCESS_KEY = list_of_lines[2].split('=')[1]\n",
    "os.chdir('C:\\\\Users\\\\A Sua\\\\Documents\\\\FIU\\\\CAP2020')\n",
    "%matplotlib notebook"
   ]
  },
  {
   "cell_type": "code",
   "execution_count": 3,
   "metadata": {},
   "outputs": [],
   "source": [
    "register_matplotlib_converters()\n",
    "%matplotlib notebook"
   ]
  },
  {
   "cell_type": "code",
   "execution_count": 4,
   "metadata": {},
   "outputs": [],
   "source": [
    "df_name_list = ['df_returns', 'df_price', 'df_spread', 'df_volume', 'df_shares_out']"
   ]
  },
  {
   "cell_type": "code",
   "execution_count": 5,
   "metadata": {},
   "outputs": [],
   "source": [
    "### import returns\n",
    "### import price\n",
    "### import spread\n",
    "### import volume\n",
    "### import sharesout\n",
    "### make spread/price\n",
    "### make volume/sharesout"
   ]
  },
  {
   "cell_type": "code",
   "execution_count": 6,
   "metadata": {},
   "outputs": [
    {
     "name": "stdout",
     "output_type": "stream",
     "text": [
      "df_returns has shape: (3020, 388)\n",
      "df_price has shape: (3020, 388)\n",
      "df_spread has shape: (3020, 388)\n",
      "df_volume has shape: (3020, 388)\n",
      "df_shares_out has shape: (3020, 388)\n"
     ]
    }
   ],
   "source": [
    "df_list = []\n",
    "for df_name in df_name_list:\n",
    "    ### BUCKETS & KEYS\n",
    "    BUCKET_NAME = 'capstonefiu2020-data'\n",
    "    key_location = 'data/processed'\n",
    "    file_name = '{}07_18.csv'.format(df_name)\n",
    "    key_path = key_location + '/' + file_name\n",
    "\n",
    "    ### ACTIVATE CLIENT\n",
    "    client = boto3.client('s3', \n",
    "                  aws_access_key_id = AWS_ACCESS_KEY_ID,\n",
    "                   aws_secret_access_key=AWS_SECRET_ACCESS_KEY)\n",
    "\n",
    "\n",
    "    ### INSTANTIATE DATAFRAME\n",
    "    csv_obj = client.get_object(Bucket = BUCKET_NAME, Key=key_path)\n",
    "    body = csv_obj['Body']\n",
    "    csv_string = body.read().decode('utf-8')\n",
    "\n",
    "    df = pd.read_csv(StringIO(csv_string))\n",
    "    df.index = df['Unnamed: 0']\n",
    "    df = df.drop('Unnamed: 0', axis=1)\n",
    "    df.index.names = ['date']\n",
    "\n",
    "\n",
    "    #df_bidlo.head()\n",
    "    #### TRANSPOSE DATA FOR EASE OF USE\n",
    "    df = df.T\n",
    "    df.index = pd.to_datetime(df.index)\n",
    "    df_list.append(df)\n",
    "    print('{} has shape: {}'.format(df_name, df.shape))"
   ]
  },
  {
   "cell_type": "code",
   "execution_count": 7,
   "metadata": {},
   "outputs": [],
   "source": [
    "df_returns = df_list[0]\n",
    "df_price = df_list[1]\n",
    "df_spread = df_list[2]\n",
    "df_volume = df_list[3]\n",
    "df_sharesout = df_list[4]"
   ]
  },
  {
   "cell_type": "code",
   "execution_count": 8,
   "metadata": {},
   "outputs": [],
   "source": [
    "#del df_list"
   ]
  },
  {
   "cell_type": "code",
   "execution_count": 9,
   "metadata": {},
   "outputs": [],
   "source": [
    "df_spread_price = df_spread/df_price\n",
    "df_volume_sharesout = df_volume/df_sharesout"
   ]
  },
  {
   "cell_type": "code",
   "execution_count": 10,
   "metadata": {},
   "outputs": [
    {
     "data": {
      "text/plain": [
       "Index(['ORCL_ORACLE CORP', 'MSFT_MICROSOFT CORP',\n",
       "       'TROW_T ROWE PRICE GROUP INC', 'HON_HONEYWELL INTERNATIONAL INC',\n",
       "       'ADM_ARCHER DANIELS MIDLAND CO'],\n",
       "      dtype='object', name='date')"
      ]
     },
     "execution_count": 10,
     "metadata": {},
     "output_type": "execute_result"
    }
   ],
   "source": [
    "companies = df_returns.columns\n",
    "companies[:5]"
   ]
  },
  {
   "cell_type": "code",
   "execution_count": 11,
   "metadata": {},
   "outputs": [],
   "source": [
    "### Generate Dates"
   ]
  },
  {
   "cell_type": "code",
   "execution_count": 12,
   "metadata": {},
   "outputs": [
    {
     "data": {
      "text/plain": [
       "DatetimeIndex(['2008-10-15', '2008-12-01', '2008-10-09', '2008-09-29',\n",
       "               '2011-08-08'],\n",
       "              dtype='datetime64[ns]', freq=None)"
      ]
     },
     "execution_count": 12,
     "metadata": {},
     "output_type": "execute_result"
    }
   ],
   "source": [
    "dates = df_sharesout.index\n",
    "worst_dates_dow = pd.to_datetime(['2008-10-15', '2008-12-1', '2008-10-9', '2008-9-29', '2011-8-8'])\n",
    "#worst_dates_sp = \n",
    "worst_dates_dow"
   ]
  },
  {
   "cell_type": "markdown",
   "metadata": {},
   "source": [
    "### What were the metrics of the companies on their 5 worst Trading Days?"
   ]
  },
  {
   "cell_type": "markdown",
   "metadata": {},
   "source": [
    "### Metrics of the Company for their 5 worst Return dates"
   ]
  },
  {
   "cell_type": "markdown",
   "metadata": {},
   "source": [
    "#### returns"
   ]
  },
  {
   "cell_type": "code",
   "execution_count": 13,
   "metadata": {},
   "outputs": [
    {
     "name": "stdout",
     "output_type": "stream",
     "text": [
      "388\n"
     ]
    },
    {
     "data": {
      "text/plain": [
       "2008-10-15   -0.094081\n",
       "2008-11-06   -0.088738\n",
       "2008-09-29   -0.086031\n",
       "2008-10-09   -0.078932\n",
       "2011-08-08   -0.076907\n",
       "Name: HON_HONEYWELL INTERNATIONAL INC, dtype: float64"
      ]
     },
     "execution_count": 13,
     "metadata": {},
     "output_type": "execute_result"
    }
   ],
   "source": [
    "worst_days_returns = {}\n",
    "for symbol in df_returns.columns:\n",
    "    temp_series = df_returns[symbol].sort_values(ascending=True).iloc[:5]\n",
    "    worst_days_returns[symbol] = temp_series\n",
    "print(len(worst_days_returns))\n",
    "worst_days_returns['HON_HONEYWELL INTERNATIONAL INC']"
   ]
  },
  {
   "cell_type": "markdown",
   "metadata": {},
   "source": [
    "#### price"
   ]
  },
  {
   "cell_type": "code",
   "execution_count": 14,
   "metadata": {},
   "outputs": [
    {
     "name": "stdout",
     "output_type": "stream",
     "text": [
      "388\n"
     ]
    },
    {
     "data": {
      "text/plain": [
       "2008-10-15    29.08\n",
       "2008-11-06    28.24\n",
       "2008-09-29    40.37\n",
       "2008-10-09    31.39\n",
       "2011-08-08    44.29\n",
       "Name: HON_HONEYWELL INTERNATIONAL INC, dtype: float64"
      ]
     },
     "execution_count": 14,
     "metadata": {},
     "output_type": "execute_result"
    }
   ],
   "source": [
    "worst_days_prices = {}\n",
    "for symbol in df_price:\n",
    "    temp_dic = worst_days_returns[symbol]\n",
    "    temp_series = pd.merge(temp_dic, df_price[symbol], left_index=True, right_index=True, copy=False, suffixes=('_x', ''))[symbol]\n",
    "    worst_days_prices[symbol] = temp_series\n",
    "print(len(worst_days_prices))\n",
    "worst_days_prices['HON_HONEYWELL INTERNATIONAL INC']"
   ]
  },
  {
   "cell_type": "markdown",
   "metadata": {},
   "source": [
    "#### spread"
   ]
  },
  {
   "cell_type": "code",
   "execution_count": 15,
   "metadata": {},
   "outputs": [
    {
     "name": "stdout",
     "output_type": "stream",
     "text": [
      "388\n"
     ]
    },
    {
     "data": {
      "text/plain": [
       "2008-10-15    3.69\n",
       "2008-11-06    3.23\n",
       "2008-09-29    4.39\n",
       "2008-10-09    5.27\n",
       "2011-08-08    3.15\n",
       "Name: HON_HONEYWELL INTERNATIONAL INC, dtype: float64"
      ]
     },
     "execution_count": 15,
     "metadata": {},
     "output_type": "execute_result"
    }
   ],
   "source": [
    "worst_days_spread = {}\n",
    "for symbol in df_spread:\n",
    "    temp_dic = worst_days_returns[symbol]\n",
    "    temp_series = pd.merge(temp_dic, df_spread[symbol], left_index=True, right_index=True, copy=False, suffixes=('_x', ''))[symbol]\n",
    "    worst_days_spread[symbol] = temp_series\n",
    "print(len(worst_days_spread))\n",
    "worst_days_spread['HON_HONEYWELL INTERNATIONAL INC']"
   ]
  },
  {
   "cell_type": "markdown",
   "metadata": {},
   "source": [
    "#### spread/price"
   ]
  },
  {
   "cell_type": "code",
   "execution_count": 16,
   "metadata": {},
   "outputs": [
    {
     "name": "stdout",
     "output_type": "stream",
     "text": [
      "388\n"
     ]
    },
    {
     "data": {
      "text/plain": [
       "2008-10-15    0.126891\n",
       "2008-11-06    0.114377\n",
       "2008-09-29    0.108744\n",
       "2008-10-09    0.167888\n",
       "2011-08-08    0.071122\n",
       "Name: HON_HONEYWELL INTERNATIONAL INC, dtype: float64"
      ]
     },
     "execution_count": 16,
     "metadata": {},
     "output_type": "execute_result"
    }
   ],
   "source": [
    "worst_days_spread_price = {}\n",
    "for symbol in df_spread:\n",
    "    temp_dic = worst_days_returns[symbol]\n",
    "    temp_series = pd.merge(temp_dic, df_spread_price[symbol], left_index=True, right_index=True, copy=False, suffixes=('_x', ''))[symbol]\n",
    "    worst_days_spread_price[symbol] = temp_series\n",
    "print(len(worst_days_spread_price))\n",
    "worst_days_spread_price['HON_HONEYWELL INTERNATIONAL INC']"
   ]
  },
  {
   "cell_type": "markdown",
   "metadata": {},
   "source": [
    "#### volume"
   ]
  },
  {
   "cell_type": "code",
   "execution_count": 17,
   "metadata": {},
   "outputs": [
    {
     "name": "stdout",
     "output_type": "stream",
     "text": [
      "388\n"
     ]
    },
    {
     "data": {
      "text/plain": [
       "2008-10-15    12289000.0\n",
       "2008-11-06     8030100.0\n",
       "2008-09-29    10095800.0\n",
       "2008-10-09    12508700.0\n",
       "2011-08-08    13255800.0\n",
       "Name: HON_HONEYWELL INTERNATIONAL INC, dtype: float64"
      ]
     },
     "execution_count": 17,
     "metadata": {},
     "output_type": "execute_result"
    }
   ],
   "source": [
    "worst_days_volume = {}\n",
    "for symbol in df_volume.columns:\n",
    "    temp_dic = worst_days_returns[symbol]\n",
    "    temp_series = pd.merge(temp_dic, df_volume[symbol], left_index=True, right_index=True, copy=False, suffixes=('_x', ''))[symbol]\n",
    "    worst_days_volume[symbol] = temp_series\n",
    "print(len(worst_days_volume))\n",
    "worst_days_volume['HON_HONEYWELL INTERNATIONAL INC']"
   ]
  },
  {
   "cell_type": "markdown",
   "metadata": {},
   "source": [
    "#### sharesout"
   ]
  },
  {
   "cell_type": "code",
   "execution_count": 18,
   "metadata": {},
   "outputs": [
    {
     "name": "stdout",
     "output_type": "stream",
     "text": [
      "388\n"
     ]
    },
    {
     "data": {
      "text/plain": [
       "2008-10-15    744436.0\n",
       "2008-11-06    726287.0\n",
       "2008-09-29    744436.0\n",
       "2008-10-09    744436.0\n",
       "2011-08-08    782425.0\n",
       "Name: HON_HONEYWELL INTERNATIONAL INC, dtype: float64"
      ]
     },
     "execution_count": 18,
     "metadata": {},
     "output_type": "execute_result"
    }
   ],
   "source": [
    "worst_days_sharesout = {}\n",
    "for symbol in df_sharesout.columns:\n",
    "    temp_dic = worst_days_returns[symbol]\n",
    "    temp_series = pd.merge(temp_dic, df_sharesout[symbol], left_index=True, right_index=True, copy=False, suffixes=('_x', ''))[symbol]\n",
    "    worst_days_sharesout[symbol] = temp_series\n",
    "print(len(worst_days_sharesout))\n",
    "worst_days_sharesout['HON_HONEYWELL INTERNATIONAL INC']"
   ]
  },
  {
   "cell_type": "markdown",
   "metadata": {},
   "source": [
    "#### volume/sharesout"
   ]
  },
  {
   "cell_type": "code",
   "execution_count": 19,
   "metadata": {},
   "outputs": [
    {
     "name": "stdout",
     "output_type": "stream",
     "text": [
      "388\n"
     ]
    },
    {
     "data": {
      "text/plain": [
       "2008-10-15    16.507799\n",
       "2008-11-06    11.056373\n",
       "2008-09-29    13.561676\n",
       "2008-10-09    16.802922\n",
       "2011-08-08    16.941943\n",
       "Name: HON_HONEYWELL INTERNATIONAL INC, dtype: float64"
      ]
     },
     "execution_count": 19,
     "metadata": {},
     "output_type": "execute_result"
    }
   ],
   "source": [
    "worst_days_volume_sharesout = {}\n",
    "for symbol in df_volume_sharesout.columns:\n",
    "    temp_dic = worst_days_returns[symbol]\n",
    "    temp_series = pd.merge(temp_dic, df_volume_sharesout[symbol], left_index=True, right_index=True, copy=False, suffixes=('_x', ''))[symbol]\n",
    "    worst_days_volume_sharesout[symbol] = temp_series\n",
    "print(len(worst_days_volume_sharesout))\n",
    "worst_days_volume_sharesout['HON_HONEYWELL INTERNATIONAL INC']"
   ]
  },
  {
   "cell_type": "markdown",
   "metadata": {},
   "source": [
    "### Metrics for the Company on the 5 worst Market/Systemic Return Dates"
   ]
  },
  {
   "cell_type": "markdown",
   "metadata": {},
   "source": [
    "#### returns"
   ]
  },
  {
   "cell_type": "code",
   "execution_count": 22,
   "metadata": {},
   "outputs": [
    {
     "data": {
      "text/plain": [
       "2008-10-15   -0.094081\n",
       "2008-12-01   -0.067121\n",
       "2008-10-09   -0.078932\n",
       "2008-09-29   -0.086031\n",
       "2011-08-08   -0.076907\n",
       "dtype: float64"
      ]
     },
     "execution_count": 22,
     "metadata": {},
     "output_type": "execute_result"
    }
   ],
   "source": [
    "worst_days_sys_returns = {}\n",
    "for symbol in df_returns.columns:\n",
    "    temp_returns = df_returns[symbol]\n",
    "    temp_series = df_returns[symbol]\n",
    "    temp_series = pd.Series([temp_returns[worst_dates_dow[i]] for i in range(len(worst_dates_dow))], index=[worst_dates_dow])\n",
    "    worst_days_sys_returns[symbol] = temp_series\n",
    "\n",
    "worst_days_sys_returns['HON_HONEYWELL INTERNATIONAL INC']"
   ]
  },
  {
   "cell_type": "markdown",
   "metadata": {},
   "source": [
    "#### price"
   ]
  },
  {
   "cell_type": "code",
   "execution_count": 23,
   "metadata": {},
   "outputs": [
    {
     "data": {
      "text/plain": [
       "2008-10-15    29.08\n",
       "2008-12-01    25.99\n",
       "2008-10-09    31.39\n",
       "2008-09-29    40.37\n",
       "2011-08-08    44.29\n",
       "dtype: float64"
      ]
     },
     "execution_count": 23,
     "metadata": {},
     "output_type": "execute_result"
    }
   ],
   "source": [
    "worst_days_sys_prices = {}\n",
    "for symbol in df_price.columns:\n",
    "    temp_series = pd.Series([df_price[symbol][worst_dates_dow[i]] for i in range(len(worst_dates_dow))], index=[worst_dates_dow])\n",
    "    worst_days_sys_prices[symbol] = temp_series\n",
    "\n",
    "worst_days_sys_prices['HON_HONEYWELL INTERNATIONAL INC']"
   ]
  },
  {
   "cell_type": "markdown",
   "metadata": {},
   "source": [
    "#### spread"
   ]
  },
  {
   "cell_type": "code",
   "execution_count": 24,
   "metadata": {},
   "outputs": [
    {
     "data": {
      "text/plain": [
       "2008-10-15    3.69\n",
       "2008-12-01    1.87\n",
       "2008-10-09    5.27\n",
       "2008-09-29    4.39\n",
       "2011-08-08    3.15\n",
       "dtype: float64"
      ]
     },
     "execution_count": 24,
     "metadata": {},
     "output_type": "execute_result"
    }
   ],
   "source": [
    "worst_days_sys_spread = {}\n",
    "for symbol in df_spread.columns:\n",
    "    temp_series = pd.Series([df_spread[symbol][worst_dates_dow[i]] for i in range(len(worst_dates_dow))], index=[worst_dates_dow])\n",
    "    worst_days_sys_spread[symbol] = temp_series\n",
    "\n",
    "worst_days_sys_spread['HON_HONEYWELL INTERNATIONAL INC']"
   ]
  },
  {
   "cell_type": "markdown",
   "metadata": {},
   "source": [
    "#### spread/price"
   ]
  },
  {
   "cell_type": "code",
   "execution_count": 25,
   "metadata": {},
   "outputs": [
    {
     "data": {
      "text/plain": [
       "2008-10-15    0.126891\n",
       "2008-12-01    0.071951\n",
       "2008-10-09    0.167888\n",
       "2008-09-29    0.108744\n",
       "2011-08-08    0.071122\n",
       "dtype: float64"
      ]
     },
     "execution_count": 25,
     "metadata": {},
     "output_type": "execute_result"
    }
   ],
   "source": [
    "worst_days_sys_spread_price = {}\n",
    "for symbol in df_spread_price.columns:\n",
    "    temp_series = pd.Series([df_spread_price[symbol][worst_dates_dow[i]] for i in range(len(worst_dates_dow))], index=[worst_dates_dow])\n",
    "    worst_days_sys_spread_price[symbol] = temp_series\n",
    "\n",
    "worst_days_sys_spread_price['HON_HONEYWELL INTERNATIONAL INC']"
   ]
  },
  {
   "cell_type": "markdown",
   "metadata": {},
   "source": [
    "#### volume"
   ]
  },
  {
   "cell_type": "code",
   "execution_count": 26,
   "metadata": {},
   "outputs": [
    {
     "data": {
      "text/plain": [
       "2008-10-15    12289000.0\n",
       "2008-12-01     6045100.0\n",
       "2008-10-09    12508700.0\n",
       "2008-09-29    10095800.0\n",
       "2011-08-08    13255800.0\n",
       "dtype: float64"
      ]
     },
     "execution_count": 26,
     "metadata": {},
     "output_type": "execute_result"
    }
   ],
   "source": [
    "worst_days_sys_volume = {}\n",
    "for symbol in df_volume.columns:\n",
    "    temp_series = pd.Series([df_volume[symbol][worst_dates_dow[i]] for i in range(len(worst_dates_dow))], index=[worst_dates_dow])\n",
    "    worst_days_sys_volume[symbol] = temp_series\n",
    "\n",
    "worst_days_sys_volume['HON_HONEYWELL INTERNATIONAL INC']"
   ]
  },
  {
   "cell_type": "markdown",
   "metadata": {},
   "source": [
    "#### sharesout"
   ]
  },
  {
   "cell_type": "code",
   "execution_count": 29,
   "metadata": {},
   "outputs": [
    {
     "data": {
      "text/plain": [
       "2008-10-15    744436.0\n",
       "2008-12-01    726287.0\n",
       "2008-10-09    744436.0\n",
       "2008-09-29    744436.0\n",
       "2011-08-08    782425.0\n",
       "dtype: float64"
      ]
     },
     "execution_count": 29,
     "metadata": {},
     "output_type": "execute_result"
    }
   ],
   "source": [
    "worst_days_sys_sharesout = {}\n",
    "for symbol in df_sharesout.columns:\n",
    "    temp_series = pd.Series([df_sharesout[symbol][worst_dates_dow[i]] for i in range(len(worst_dates_dow))], index=[worst_dates_dow])\n",
    "    worst_days_sys_sharesout[symbol] = temp_series\n",
    "\n",
    "worst_days_sys_sharesout['HON_HONEYWELL INTERNATIONAL INC']"
   ]
  },
  {
   "cell_type": "markdown",
   "metadata": {},
   "source": [
    "#### volume/sharesout"
   ]
  },
  {
   "cell_type": "code",
   "execution_count": 30,
   "metadata": {},
   "outputs": [
    {
     "data": {
      "text/plain": [
       "2008-10-15    16.507799\n",
       "2008-12-01     8.323294\n",
       "2008-10-09    16.802922\n",
       "2008-09-29    13.561676\n",
       "2011-08-08    16.941943\n",
       "dtype: float64"
      ]
     },
     "execution_count": 30,
     "metadata": {},
     "output_type": "execute_result"
    }
   ],
   "source": [
    "worst_days_sys_volume_sharesout = {}\n",
    "#error_list = []\n",
    "for symbol in df_volume_sharesout.columns:\n",
    "    temp_series = pd.Series([df_volume_sharesout[symbol][worst_dates_dow[i]] for i in range(len(worst_dates_dow))], index=[worst_dates_dow])\n",
    "    worst_days_sys_volume_sharesout[symbol] = temp_series\n",
    "\n",
    "worst_days_sys_volume_sharesout['HON_HONEYWELL INTERNATIONAL INC']"
   ]
  },
  {
   "cell_type": "markdown",
   "metadata": {},
   "source": [
    "### 7 Histograms\n",
    "### 7 Timeseries per company\n",
    "##### (388 subplots * 14 graphs/subplot = 5432 graphs)"
   ]
  },
  {
   "cell_type": "code",
   "execution_count": null,
   "metadata": {},
   "outputs": [],
   "source": [
    "#sup_title_font =15\n",
    "sub_title_font =8\n",
    "legend_font =8\n",
    "axis_font = 6\n",
    "tick_rotation = 20\n",
    "black_dot = 2\n",
    "red_dot = 5\n",
    "\n",
    "### matrix of subplots\n",
    "n_cols = 7\n",
    "n_rows = 2\n",
    "n_plots = n_cols*n_rows\n",
    "nloops = int(np.floor(388/n_plots))\n",
    "temp_matrix = np.array(range(n_plots)).reshape(n_rows,n_cols)\n",
    "\n",
    "fig, ax = plt.subplots(n_cols,n_rows,figsize=(17,12))\n",
    "\n",
    "\n",
    "\n",
    "plt.tight_layout()"
   ]
  },
  {
   "cell_type": "code",
   "execution_count": null,
   "metadata": {},
   "outputs": [],
   "source": []
  },
  {
   "cell_type": "code",
   "execution_count": null,
   "metadata": {},
   "outputs": [],
   "source": []
  },
  {
   "cell_type": "code",
   "execution_count": null,
   "metadata": {},
   "outputs": [],
   "source": []
  }
 ],
 "metadata": {
  "kernelspec": {
   "display_name": "Python [conda env:Anaconda3]",
   "language": "python",
   "name": "conda-env-Anaconda3-py"
  },
  "language_info": {
   "codemirror_mode": {
    "name": "ipython",
    "version": 3
   },
   "file_extension": ".py",
   "mimetype": "text/x-python",
   "name": "python",
   "nbconvert_exporter": "python",
   "pygments_lexer": "ipython3",
   "version": "3.6.9"
  }
 },
 "nbformat": 4,
 "nbformat_minor": 2
}
