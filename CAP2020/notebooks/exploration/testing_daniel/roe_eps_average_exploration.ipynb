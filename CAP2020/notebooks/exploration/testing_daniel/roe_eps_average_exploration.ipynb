{
 "cells": [
  {
   "cell_type": "code",
   "execution_count": 1,
   "metadata": {},
   "outputs": [],
   "source": [
    "import pandas as pd\n",
    "import matplotlib.pyplot as plt\n",
    "import numpy as np\n",
    "import os\n",
    "import pandas as pd\n",
    "from io import StringIO\n",
    "import matplotlib.dates as dates\n",
    "from datetime import datetime\n",
    "import matplotlib.ticker as ticker\n",
    "from random import shuffle\n",
    "from time import time\n",
    "from pandas.plotting import register_matplotlib_converters\n",
    "from sklearn.preprocessing import StandardScaler\n",
    "%matplotlib notebook\n",
    "\n",
    "#os.chdir('C:\\\\Users\\\\A Sua\\\\Documents\\\\FIU\\\\CAP2020')\n",
    "os.chdir('C:\\\\Users\\\\Daniel\\\\Python and R Notebooks\\\\CAP2020\\\\CAP2020')"
   ]
  },
  {
   "cell_type": "markdown",
   "metadata": {},
   "source": [
    "## Import Data"
   ]
  },
  {
   "cell_type": "code",
   "execution_count": 2,
   "metadata": {},
   "outputs": [],
   "source": [
    "earnings_path = 'data\\\\processed\\\\df_quarter_eps_average_08_09.csv'\n",
    "roe_path = 'data\\\\processed\\\\df_quarter_roe_average_08_09.csv'\n",
    "key_path = 'data\\\\processed\\\\df_price07_18.csv'"
   ]
  },
  {
   "cell_type": "code",
   "execution_count": 3,
   "metadata": {},
   "outputs": [],
   "source": [
    "# import eps data\n",
    "\n",
    "df_eps = pd.read_csv(earnings_path)\n",
    "df_eps.rename(columns = {'Unnamed: 0':'Stock'}, inplace = True)\n",
    "df_eps.index = df_eps['Stock']\n",
    "df_eps.drop('Stock', axis=1, inplace = True)"
   ]
  },
  {
   "cell_type": "code",
   "execution_count": 4,
   "metadata": {},
   "outputs": [
    {
     "data": {
      "text/html": [
       "<div>\n",
       "<style scoped>\n",
       "    .dataframe tbody tr th:only-of-type {\n",
       "        vertical-align: middle;\n",
       "    }\n",
       "\n",
       "    .dataframe tbody tr th {\n",
       "        vertical-align: top;\n",
       "    }\n",
       "\n",
       "    .dataframe thead th {\n",
       "        text-align: right;\n",
       "    }\n",
       "</style>\n",
       "<table border=\"1\" class=\"dataframe\">\n",
       "  <thead>\n",
       "    <tr style=\"text-align: right;\">\n",
       "      <th></th>\n",
       "      <th>Recession EPS</th>\n",
       "      <th>07-18 EPS</th>\n",
       "    </tr>\n",
       "    <tr>\n",
       "      <th>Stock</th>\n",
       "      <th></th>\n",
       "      <th></th>\n",
       "    </tr>\n",
       "  </thead>\n",
       "  <tbody>\n",
       "    <tr>\n",
       "      <th>AAN</th>\n",
       "      <td>0.49000</td>\n",
       "      <td>0.497708</td>\n",
       "    </tr>\n",
       "    <tr>\n",
       "      <th>AAPL</th>\n",
       "      <td>1.45250</td>\n",
       "      <td>4.532708</td>\n",
       "    </tr>\n",
       "    <tr>\n",
       "      <th>AAP</th>\n",
       "      <td>0.67000</td>\n",
       "      <td>1.230625</td>\n",
       "    </tr>\n",
       "    <tr>\n",
       "      <th>AA</th>\n",
       "      <td>-0.55500</td>\n",
       "      <td>-0.019542</td>\n",
       "    </tr>\n",
       "    <tr>\n",
       "      <th>ABC</th>\n",
       "      <td>0.70000</td>\n",
       "      <td>0.710417</td>\n",
       "    </tr>\n",
       "    <tr>\n",
       "      <th>...</th>\n",
       "      <td>...</td>\n",
       "      <td>...</td>\n",
       "    </tr>\n",
       "    <tr>\n",
       "      <th>XRX</th>\n",
       "      <td>0.12775</td>\n",
       "      <td>0.167521</td>\n",
       "    </tr>\n",
       "    <tr>\n",
       "      <th>X</th>\n",
       "      <td>0.90750</td>\n",
       "      <td>-0.126458</td>\n",
       "    </tr>\n",
       "    <tr>\n",
       "      <th>YUM</th>\n",
       "      <td>0.54250</td>\n",
       "      <td>0.743542</td>\n",
       "    </tr>\n",
       "    <tr>\n",
       "      <th>ZION</th>\n",
       "      <td>-2.93250</td>\n",
       "      <td>0.094375</td>\n",
       "    </tr>\n",
       "    <tr>\n",
       "      <th>ZMH</th>\n",
       "      <td>0.89000</td>\n",
       "      <td>0.828542</td>\n",
       "    </tr>\n",
       "  </tbody>\n",
       "</table>\n",
       "<p>528 rows × 2 columns</p>\n",
       "</div>"
      ],
      "text/plain": [
       "       Recession EPS  07-18 EPS\n",
       "Stock                          \n",
       "AAN          0.49000   0.497708\n",
       "AAPL         1.45250   4.532708\n",
       "AAP          0.67000   1.230625\n",
       "AA          -0.55500  -0.019542\n",
       "ABC          0.70000   0.710417\n",
       "...              ...        ...\n",
       "XRX          0.12775   0.167521\n",
       "X            0.90750  -0.126458\n",
       "YUM          0.54250   0.743542\n",
       "ZION        -2.93250   0.094375\n",
       "ZMH          0.89000   0.828542\n",
       "\n",
       "[528 rows x 2 columns]"
      ]
     },
     "execution_count": 4,
     "metadata": {},
     "output_type": "execute_result"
    }
   ],
   "source": [
    "df_eps"
   ]
  },
  {
   "cell_type": "code",
   "execution_count": 5,
   "metadata": {},
   "outputs": [],
   "source": [
    "# import roe data\n",
    "\n",
    "df_roe = pd.read_csv(roe_path)\n",
    "df_roe.rename(columns = {'Unnamed: 0':'Stock'}, inplace = True)\n",
    "df_roe.index = df_roe['Stock']\n",
    "df_roe.drop('Stock', axis=1, inplace = True)"
   ]
  },
  {
   "cell_type": "code",
   "execution_count": 6,
   "metadata": {},
   "outputs": [
    {
     "data": {
      "text/html": [
       "<div>\n",
       "<style scoped>\n",
       "    .dataframe tbody tr th:only-of-type {\n",
       "        vertical-align: middle;\n",
       "    }\n",
       "\n",
       "    .dataframe tbody tr th {\n",
       "        vertical-align: top;\n",
       "    }\n",
       "\n",
       "    .dataframe thead th {\n",
       "        text-align: right;\n",
       "    }\n",
       "</style>\n",
       "<table border=\"1\" class=\"dataframe\">\n",
       "  <thead>\n",
       "    <tr style=\"text-align: right;\">\n",
       "      <th></th>\n",
       "      <th>Recession ROE</th>\n",
       "      <th>07-18 ROE</th>\n",
       "    </tr>\n",
       "    <tr>\n",
       "      <th>Stock</th>\n",
       "      <th></th>\n",
       "      <th></th>\n",
       "    </tr>\n",
       "  </thead>\n",
       "  <tbody>\n",
       "    <tr>\n",
       "      <th>AAN</th>\n",
       "      <td>0.127850</td>\n",
       "      <td>0.120373</td>\n",
       "    </tr>\n",
       "    <tr>\n",
       "      <th>AAPL</th>\n",
       "      <td>0.235625</td>\n",
       "      <td>0.351127</td>\n",
       "    </tr>\n",
       "    <tr>\n",
       "      <th>AAP</th>\n",
       "      <td>0.231750</td>\n",
       "      <td>0.253342</td>\n",
       "    </tr>\n",
       "    <tr>\n",
       "      <th>AA</th>\n",
       "      <td>-0.025475</td>\n",
       "      <td>-0.011304</td>\n",
       "    </tr>\n",
       "    <tr>\n",
       "      <th>ABMD</th>\n",
       "      <td>-0.309000</td>\n",
       "      <td>0.003308</td>\n",
       "    </tr>\n",
       "    <tr>\n",
       "      <th>...</th>\n",
       "      <td>...</td>\n",
       "      <td>...</td>\n",
       "    </tr>\n",
       "    <tr>\n",
       "      <th>XRAY</th>\n",
       "      <td>0.174200</td>\n",
       "      <td>0.090254</td>\n",
       "    </tr>\n",
       "    <tr>\n",
       "      <th>XRX</th>\n",
       "      <td>0.062900</td>\n",
       "      <td>0.064767</td>\n",
       "    </tr>\n",
       "    <tr>\n",
       "      <th>X</th>\n",
       "      <td>0.252875</td>\n",
       "      <td>-0.069517</td>\n",
       "    </tr>\n",
       "    <tr>\n",
       "      <th>ZION</th>\n",
       "      <td>-0.137100</td>\n",
       "      <td>0.011181</td>\n",
       "    </tr>\n",
       "    <tr>\n",
       "      <th>ZMH</th>\n",
       "      <td>0.151600</td>\n",
       "      <td>0.110171</td>\n",
       "    </tr>\n",
       "  </tbody>\n",
       "</table>\n",
       "<p>426 rows × 2 columns</p>\n",
       "</div>"
      ],
      "text/plain": [
       "       Recession ROE  07-18 ROE\n",
       "Stock                          \n",
       "AAN         0.127850   0.120373\n",
       "AAPL        0.235625   0.351127\n",
       "AAP         0.231750   0.253342\n",
       "AA         -0.025475  -0.011304\n",
       "ABMD       -0.309000   0.003308\n",
       "...              ...        ...\n",
       "XRAY        0.174200   0.090254\n",
       "XRX         0.062900   0.064767\n",
       "X           0.252875  -0.069517\n",
       "ZION       -0.137100   0.011181\n",
       "ZMH         0.151600   0.110171\n",
       "\n",
       "[426 rows x 2 columns]"
      ]
     },
     "execution_count": 6,
     "metadata": {},
     "output_type": "execute_result"
    }
   ],
   "source": [
    "df_roe"
   ]
  },
  {
   "cell_type": "code",
   "execution_count": 7,
   "metadata": {},
   "outputs": [],
   "source": [
    "df_key = pd.read_csv(key_path)\n",
    "df_key.rename(columns = {'Unnamed: 0':'Stock'}, inplace = True)\n",
    "new = df_key['Stock'].str.split('_', expand=True)\n",
    "\n",
    "df_key['symbol'] = new[0]\n",
    "df_key['company'] = new[1]\n",
    "df_key.index = df_key['symbol']\n",
    "df_key = df_key[['symbol', 'company']]\n",
    "df_key.sort_index(inplace=True)"
   ]
  },
  {
   "cell_type": "code",
   "execution_count": 8,
   "metadata": {},
   "outputs": [
    {
     "data": {
      "text/html": [
       "<div>\n",
       "<style scoped>\n",
       "    .dataframe tbody tr th:only-of-type {\n",
       "        vertical-align: middle;\n",
       "    }\n",
       "\n",
       "    .dataframe tbody tr th {\n",
       "        vertical-align: top;\n",
       "    }\n",
       "\n",
       "    .dataframe thead th {\n",
       "        text-align: right;\n",
       "    }\n",
       "</style>\n",
       "<table border=\"1\" class=\"dataframe\">\n",
       "  <thead>\n",
       "    <tr style=\"text-align: right;\">\n",
       "      <th></th>\n",
       "      <th>symbol</th>\n",
       "      <th>company</th>\n",
       "    </tr>\n",
       "    <tr>\n",
       "      <th>symbol</th>\n",
       "      <th></th>\n",
       "      <th></th>\n",
       "    </tr>\n",
       "  </thead>\n",
       "  <tbody>\n",
       "    <tr>\n",
       "      <th>A</th>\n",
       "      <td>A</td>\n",
       "      <td>AGILENT TECHNOLOGIES INC</td>\n",
       "    </tr>\n",
       "    <tr>\n",
       "      <th>AAP</th>\n",
       "      <td>AAP</td>\n",
       "      <td>ADVANCE AUTO PARTS INC</td>\n",
       "    </tr>\n",
       "    <tr>\n",
       "      <th>AAPL</th>\n",
       "      <td>AAPL</td>\n",
       "      <td>APPLE</td>\n",
       "    </tr>\n",
       "    <tr>\n",
       "      <th>ABC</th>\n",
       "      <td>ABC</td>\n",
       "      <td>AMERISOURCEBERGEN CORP</td>\n",
       "    </tr>\n",
       "    <tr>\n",
       "      <th>ABT</th>\n",
       "      <td>ABT</td>\n",
       "      <td>ABBOTT LABORATORIES</td>\n",
       "    </tr>\n",
       "    <tr>\n",
       "      <th>...</th>\n",
       "      <td>...</td>\n",
       "      <td>...</td>\n",
       "    </tr>\n",
       "    <tr>\n",
       "      <th>XOM</th>\n",
       "      <td>XOM</td>\n",
       "      <td>EXXON MOBIL CORP</td>\n",
       "    </tr>\n",
       "    <tr>\n",
       "      <th>XRAY</th>\n",
       "      <td>XRAY</td>\n",
       "      <td>DENTSPLY SIRONA INC</td>\n",
       "    </tr>\n",
       "    <tr>\n",
       "      <th>XRX</th>\n",
       "      <td>XRX</td>\n",
       "      <td>XEROX CORP</td>\n",
       "    </tr>\n",
       "    <tr>\n",
       "      <th>YUM</th>\n",
       "      <td>YUM</td>\n",
       "      <td>YUM BRANDS INC</td>\n",
       "    </tr>\n",
       "    <tr>\n",
       "      <th>ZION</th>\n",
       "      <td>ZION</td>\n",
       "      <td>ZIONS BANCORPORATION</td>\n",
       "    </tr>\n",
       "  </tbody>\n",
       "</table>\n",
       "<p>388 rows × 2 columns</p>\n",
       "</div>"
      ],
      "text/plain": [
       "       symbol                   company\n",
       "symbol                                 \n",
       "A           A  AGILENT TECHNOLOGIES INC\n",
       "AAP       AAP    ADVANCE AUTO PARTS INC\n",
       "AAPL     AAPL                     APPLE\n",
       "ABC       ABC    AMERISOURCEBERGEN CORP\n",
       "ABT       ABT       ABBOTT LABORATORIES\n",
       "...       ...                       ...\n",
       "XOM       XOM          EXXON MOBIL CORP\n",
       "XRAY     XRAY       DENTSPLY SIRONA INC\n",
       "XRX       XRX                XEROX CORP\n",
       "YUM       YUM            YUM BRANDS INC\n",
       "ZION     ZION      ZIONS BANCORPORATION\n",
       "\n",
       "[388 rows x 2 columns]"
      ]
     },
     "execution_count": 8,
     "metadata": {},
     "output_type": "execute_result"
    }
   ],
   "source": [
    "df_key"
   ]
  },
  {
   "cell_type": "markdown",
   "metadata": {},
   "source": [
    "## Limit stocks to SP500 that traded daily throughout the duration"
   ]
  },
  {
   "cell_type": "code",
   "execution_count": 9,
   "metadata": {},
   "outputs": [],
   "source": [
    "# define indices\n",
    "\n",
    "idx_roe = df_roe.index\n",
    "idx_key = df_key.index\n",
    "idx_eps = df_eps.index"
   ]
  },
  {
   "cell_type": "code",
   "execution_count": 10,
   "metadata": {},
   "outputs": [
    {
     "data": {
      "text/plain": [
       "(355, 2)"
      ]
     },
     "execution_count": 10,
     "metadata": {},
     "output_type": "execute_result"
    }
   ],
   "source": [
    "# drop stocks from eps dataframe\n",
    "\n",
    "idx_diff1 = idx_eps.difference(idx_key)\n",
    "df_eps.drop(idx_diff1, inplace=True)\n",
    "df_eps.shape"
   ]
  },
  {
   "cell_type": "code",
   "execution_count": 11,
   "metadata": {},
   "outputs": [
    {
     "data": {
      "text/plain": [
       "(300, 2)"
      ]
     },
     "execution_count": 11,
     "metadata": {},
     "output_type": "execute_result"
    }
   ],
   "source": [
    "# drop stocks from dividend dataframe\n",
    "\n",
    "idx_diff2 = idx_roe.difference(idx_key)\n",
    "df_roe.drop(idx_diff2, inplace=True)\n",
    "df_roe.shape"
   ]
  },
  {
   "cell_type": "markdown",
   "metadata": {},
   "source": [
    "## Exploratory Scatterplots"
   ]
  },
  {
   "cell_type": "code",
   "execution_count": 12,
   "metadata": {},
   "outputs": [
    {
     "data": {
      "text/plain": [
       "<matplotlib.axes._subplots.AxesSubplot at 0xbc0c9e8>"
      ]
     },
     "execution_count": 12,
     "metadata": {},
     "output_type": "execute_result"
    },
    {
     "data": {
      "image/png": "[encoded data removed]",
      "text/plain": [
       "<Figure size 720x720 with 1 Axes>"
      ]
     },
     "metadata": {
      "needs_background": "light"
     },
     "output_type": "display_data"
    }
   ],
   "source": [
    "# eps plot\n",
    "\n",
    "df_eps.plot(kind='scatter', x='Recession EPS', y='07-18 EPS', title='EPS Plot', figsize=(10,10), color='r')"
   ]
  },
  {
   "cell_type": "code",
   "execution_count": 13,
   "metadata": {},
   "outputs": [
    {
     "data": {
      "text/plain": [
       "<matplotlib.axes._subplots.AxesSubplot at 0xbf636a0>"
      ]
     },
     "execution_count": 13,
     "metadata": {},
     "output_type": "execute_result"
    },
    {
     "data": {
      "image/png": "[encoded data removed]",
      "text/plain": [
       "<Figure size 720x720 with 1 Axes>"
      ]
     },
     "metadata": {
      "needs_background": "light"
     },
     "output_type": "display_data"
    }
   ],
   "source": [
    "# roe plot\n",
    "\n",
    "df_roe.plot(kind='scatter', x='Recession ROE', y='07-18 ROE', title='ROE Plot', figsize=(10,10))"
   ]
  },
  {
   "cell_type": "markdown",
   "metadata": {},
   "source": [
    "## Implementing Hypothesis - EPS"
   ]
  },
  {
   "cell_type": "code",
   "execution_count": 14,
   "metadata": {},
   "outputs": [],
   "source": [
    "# define colors assignment\n",
    "\n",
    "colors = {1:'red', 0:'blue'}"
   ]
  },
  {
   "cell_type": "code",
   "execution_count": 15,
   "metadata": {},
   "outputs": [
    {
     "data": {
      "text/plain": [
       "(38, 3)"
      ]
     },
     "execution_count": 15,
     "metadata": {},
     "output_type": "execute_result"
    }
   ],
   "source": [
    "# stocks where the difference between averages is less than 0.05 earning per share\n",
    "# 38 stocks is too small an amount\n",
    "\n",
    "diff = 0.05\n",
    "df_eps['hypothesis']=np.where(abs(df_eps['Recession EPS']-df_eps['07-18 EPS']) <= diff, 1, 0)\n",
    "df_eps[df_eps['hypothesis']==1].shape"
   ]
  },
  {
   "cell_type": "code",
   "execution_count": 16,
   "metadata": {},
   "outputs": [
    {
     "data": {
      "text/plain": [
       "<matplotlib.axes._subplots.AxesSubplot at 0xc149f60>"
      ]
     },
     "execution_count": 16,
     "metadata": {},
     "output_type": "execute_result"
    },
    {
     "data": {
      "image/png": "[encoded data removed]",
      "text/plain": [
       "<Figure size 720x720 with 1 Axes>"
      ]
     },
     "metadata": {
      "needs_background": "light"
     },
     "output_type": "display_data"
    }
   ],
   "source": [
    "# plotting difference = 0.05\n",
    "\n",
    "df_eps.plot(kind='scatter', x='Recession EPS', y='07-18 EPS', title='EPS Plot', figsize=(10,10), \n",
    "            c=df_eps['hypothesis'].apply(lambda x: colors[x]))"
   ]
  },
  {
   "cell_type": "code",
   "execution_count": 17,
   "metadata": {},
   "outputs": [
    {
     "data": {
      "text/plain": [
       "(62, 3)"
      ]
     },
     "execution_count": 17,
     "metadata": {},
     "output_type": "execute_result"
    }
   ],
   "source": [
    "# stocks where the difference between averages is less than 0.1 earning per share\n",
    "# 62 stocks is a sizable pool to choose from\n",
    "\n",
    "diff = 0.1\n",
    "df_eps['hypothesis']=np.where(np.absolute(df_eps['Recession EPS']-df_eps['07-18 EPS']) <= diff, 1, 0)\n",
    "df_eps[df_eps['hypothesis']==1].shape"
   ]
  },
  {
   "cell_type": "code",
   "execution_count": 18,
   "metadata": {},
   "outputs": [
    {
     "data": {
      "text/plain": [
       "<matplotlib.axes._subplots.AxesSubplot at 0xc5e7e10>"
      ]
     },
     "execution_count": 18,
     "metadata": {},
     "output_type": "execute_result"
    },
    {
     "data": {
      "image/png": "[encoded data removed]",
      "text/plain": [
       "<Figure size 720x720 with 1 Axes>"
      ]
     },
     "metadata": {
      "needs_background": "light"
     },
     "output_type": "display_data"
    }
   ],
   "source": [
    "# plotting difference = 0.1\n",
    "\n",
    "df_eps.plot(kind='scatter', x='Recession EPS', y='07-18 EPS', title='EPS Plot', figsize=(10,10), \n",
    "            c=df_eps['hypothesis'].apply(lambda x: colors[x]))"
   ]
  },
  {
   "cell_type": "code",
   "execution_count": 19,
   "metadata": {},
   "outputs": [
    {
     "data": {
      "text/plain": [
       "(118, 3)"
      ]
     },
     "execution_count": 19,
     "metadata": {},
     "output_type": "execute_result"
    }
   ],
   "source": [
    "# stocks where the difference between averages is less than 0.1 earning per share\n",
    "# 118 stocks might be too large\n",
    "\n",
    "diff = 0.2\n",
    "df_eps['hypothesis']=np.where(abs(df_eps['Recession EPS']-df_eps['07-18 EPS']) <= diff, 1, 0)\n",
    "df_eps[df_eps['hypothesis']==1].shape"
   ]
  },
  {
   "cell_type": "code",
   "execution_count": 20,
   "metadata": {},
   "outputs": [
    {
     "data": {
      "text/plain": [
       "<matplotlib.axes._subplots.AxesSubplot at 0xc639080>"
      ]
     },
     "execution_count": 20,
     "metadata": {},
     "output_type": "execute_result"
    },
    {
     "data": {
      "image/png": "[encoded data removed]",
      "text/plain": [
       "<Figure size 720x720 with 1 Axes>"
      ]
     },
     "metadata": {
      "needs_background": "light"
     },
     "output_type": "display_data"
    }
   ],
   "source": [
    "# plotting difference = 0.2\n",
    "\n",
    "df_eps.plot(kind='scatter', x='Recession EPS', y='07-18 EPS', title='EPS Plot', figsize=(10,10), \n",
    "            c=df_eps['hypothesis'].apply(lambda x: colors[x]))"
   ]
  },
  {
   "cell_type": "markdown",
   "metadata": {},
   "source": [
    "## Hypothesis Implementation - ROE"
   ]
  },
  {
   "cell_type": "code",
   "execution_count": 21,
   "metadata": {},
   "outputs": [
    {
     "data": {
      "text/plain": [
       "(43, 3)"
      ]
     },
     "execution_count": 21,
     "metadata": {},
     "output_type": "execute_result"
    }
   ],
   "source": [
    "# stocks where the difference between averages is less than 0.01\n",
    "# 43 stocks\n",
    "\n",
    "diff = 0.01\n",
    "df_roe['hypothesis']=np.where(abs(df_roe['Recession ROE']-df_roe['07-18 ROE'])<= diff, 1, 0)\n",
    "df_roe[df_roe['hypothesis']==1].shape"
   ]
  },
  {
   "cell_type": "code",
   "execution_count": 22,
   "metadata": {},
   "outputs": [
    {
     "data": {
      "text/plain": [
       "<matplotlib.axes._subplots.AxesSubplot at 0xc8927f0>"
      ]
     },
     "execution_count": 22,
     "metadata": {},
     "output_type": "execute_result"
    },
    {
     "data": {
      "image/png": "[encoded data removed]",
      "text/plain": [
       "<Figure size 720x720 with 1 Axes>"
      ]
     },
     "metadata": {
      "needs_background": "light"
     },
     "output_type": "display_data"
    }
   ],
   "source": [
    "# plot of diff = 0.01\n",
    "\n",
    "df_roe.plot(kind='scatter', x='Recession ROE', y='07-18 ROE', title='ROE Plot', figsize=(10,10), \n",
    "            c=df_roe['hypothesis'].apply(lambda x: colors[x]))"
   ]
  },
  {
   "cell_type": "code",
   "execution_count": 23,
   "metadata": {},
   "outputs": [
    {
     "data": {
      "text/plain": [
       "(109, 3)"
      ]
     },
     "execution_count": 23,
     "metadata": {},
     "output_type": "execute_result"
    }
   ],
   "source": [
    "# stocks where the difference between averages is less than 0.03\n",
    "# 109 stocks\n",
    "\n",
    "diff = 0.03\n",
    "df_roe['hypothesis']=np.where(abs(df_roe['Recession ROE']-df_roe['07-18 ROE'])<= diff, 1, 0)\n",
    "df_roe[df_roe['hypothesis']==1].shape"
   ]
  },
  {
   "cell_type": "code",
   "execution_count": 24,
   "metadata": {},
   "outputs": [
    {
     "data": {
      "text/plain": [
       "<matplotlib.axes._subplots.AxesSubplot at 0xc8d4c88>"
      ]
     },
     "execution_count": 24,
     "metadata": {},
     "output_type": "execute_result"
    },
    {
     "data": {
      "image/png": "[encoded data removed]",
      "text/plain": [
       "<Figure size 720x720 with 1 Axes>"
      ]
     },
     "metadata": {
      "needs_background": "light"
     },
     "output_type": "display_data"
    }
   ],
   "source": [
    "# plot of diff = 0.03\n",
    "\n",
    "df_roe.plot(kind='scatter', x='Recession ROE', y='07-18 ROE', title='ROE Plot', figsize=(10,10), \n",
    "            c=df_roe['hypothesis'].apply(lambda x: colors[x]))"
   ]
  },
  {
   "cell_type": "code",
   "execution_count": 25,
   "metadata": {},
   "outputs": [
    {
     "data": {
      "text/plain": [
       "(160, 3)"
      ]
     },
     "execution_count": 25,
     "metadata": {},
     "output_type": "execute_result"
    }
   ],
   "source": [
    "# stocks where the difference between averages is less than 0.03\n",
    "# 160 stocks, close to half, too much\n",
    "\n",
    "diff = 0.05\n",
    "df_roe['hypothesis']=np.where(abs(df_roe['Recession ROE']-df_roe['07-18 ROE'])<= diff, 1, 0)\n",
    "df_roe[df_roe['hypothesis']==1].shape"
   ]
  },
  {
   "cell_type": "code",
   "execution_count": 26,
   "metadata": {},
   "outputs": [
    {
     "data": {
      "text/plain": [
       "<matplotlib.axes._subplots.AxesSubplot at 0xcd69e10>"
      ]
     },
     "execution_count": 26,
     "metadata": {},
     "output_type": "execute_result"
    },
    {
     "data": {
      "image/png": "[encoded data removed]",
      "text/plain": [
       "<Figure size 720x720 with 1 Axes>"
      ]
     },
     "metadata": {
      "needs_background": "light"
     },
     "output_type": "display_data"
    }
   ],
   "source": [
    "# plot of diff = 0.05\n",
    "\n",
    "df_roe.plot(kind='scatter', x='Recession ROE', y='07-18 ROE', title='ROE Plot', figsize=(10,10), \n",
    "            c=df_roe['hypothesis'].apply(lambda x: colors[x]))"
   ]
  },
  {
   "cell_type": "markdown",
   "metadata": {},
   "source": [
    "## Filter stocks to ideal Candidate pool"
   ]
  },
  {
   "cell_type": "markdown",
   "metadata": {},
   "source": [
    "### Let's pick the top 20% of resistant stocks for our pool"
   ]
  },
  {
   "cell_type": "code",
   "execution_count": 27,
   "metadata": {},
   "outputs": [],
   "source": [
    "# build candidate pool from EPS\n",
    "\n",
    "ratio_eps = int(round(len(df_eps.index)*0.2))\n",
    "df_eps_cand = df_eps\n",
    "df_eps_cand['difference'] = abs(df_eps['Recession EPS']-df_eps['07-18 EPS'])\n",
    "df_eps_cand.sort_values(by=['difference'], inplace=True)\n",
    "df_eps_cand = df_eps_cand.iloc[0:ratio_eps, [0, 1, 3]]"
   ]
  },
  {
   "cell_type": "code",
   "execution_count": 28,
   "metadata": {
    "scrolled": true
   },
   "outputs": [
    {
     "data": {
      "text/html": [
       "<div>\n",
       "<style scoped>\n",
       "    .dataframe tbody tr th:only-of-type {\n",
       "        vertical-align: middle;\n",
       "    }\n",
       "\n",
       "    .dataframe tbody tr th {\n",
       "        vertical-align: top;\n",
       "    }\n",
       "\n",
       "    .dataframe thead th {\n",
       "        text-align: right;\n",
       "    }\n",
       "</style>\n",
       "<table border=\"1\" class=\"dataframe\">\n",
       "  <thead>\n",
       "    <tr style=\"text-align: right;\">\n",
       "      <th></th>\n",
       "      <th>Recession EPS</th>\n",
       "      <th>07-18 EPS</th>\n",
       "      <th>difference</th>\n",
       "    </tr>\n",
       "    <tr>\n",
       "      <th>Stock</th>\n",
       "      <th></th>\n",
       "      <th></th>\n",
       "      <th></th>\n",
       "    </tr>\n",
       "  </thead>\n",
       "  <tbody>\n",
       "    <tr>\n",
       "      <th>DHR</th>\n",
       "      <td>0.9475</td>\n",
       "      <td>0.946458</td>\n",
       "      <td>0.001042</td>\n",
       "    </tr>\n",
       "    <tr>\n",
       "      <th>WMB</th>\n",
       "      <td>0.1950</td>\n",
       "      <td>0.198958</td>\n",
       "      <td>0.003958</td>\n",
       "    </tr>\n",
       "    <tr>\n",
       "      <th>XOM</th>\n",
       "      <td>1.5500</td>\n",
       "      <td>1.555833</td>\n",
       "      <td>0.005833</td>\n",
       "    </tr>\n",
       "    <tr>\n",
       "      <th>SBAC</th>\n",
       "      <td>-0.1350</td>\n",
       "      <td>-0.141646</td>\n",
       "      <td>0.006646</td>\n",
       "    </tr>\n",
       "    <tr>\n",
       "      <th>HRL</th>\n",
       "      <td>0.5250</td>\n",
       "      <td>0.532708</td>\n",
       "      <td>0.007708</td>\n",
       "    </tr>\n",
       "    <tr>\n",
       "      <th>...</th>\n",
       "      <td>...</td>\n",
       "      <td>...</td>\n",
       "      <td>...</td>\n",
       "    </tr>\n",
       "    <tr>\n",
       "      <th>CERN</th>\n",
       "      <td>0.6225</td>\n",
       "      <td>0.515208</td>\n",
       "      <td>0.107292</td>\n",
       "    </tr>\n",
       "    <tr>\n",
       "      <th>PG</th>\n",
       "      <td>1.1225</td>\n",
       "      <td>1.015000</td>\n",
       "      <td>0.107500</td>\n",
       "    </tr>\n",
       "    <tr>\n",
       "      <th>EMR</th>\n",
       "      <td>0.6250</td>\n",
       "      <td>0.735000</td>\n",
       "      <td>0.110000</td>\n",
       "    </tr>\n",
       "    <tr>\n",
       "      <th>AKAM</th>\n",
       "      <td>0.2175</td>\n",
       "      <td>0.327917</td>\n",
       "      <td>0.110417</td>\n",
       "    </tr>\n",
       "    <tr>\n",
       "      <th>ADBE</th>\n",
       "      <td>0.3450</td>\n",
       "      <td>0.456250</td>\n",
       "      <td>0.111250</td>\n",
       "    </tr>\n",
       "  </tbody>\n",
       "</table>\n",
       "<p>71 rows × 3 columns</p>\n",
       "</div>"
      ],
      "text/plain": [
       "       Recession EPS  07-18 EPS  difference\n",
       "Stock                                      \n",
       "DHR           0.9475   0.946458    0.001042\n",
       "WMB           0.1950   0.198958    0.003958\n",
       "XOM           1.5500   1.555833    0.005833\n",
       "SBAC         -0.1350  -0.141646    0.006646\n",
       "HRL           0.5250   0.532708    0.007708\n",
       "...              ...        ...         ...\n",
       "CERN          0.6225   0.515208    0.107292\n",
       "PG            1.1225   1.015000    0.107500\n",
       "EMR           0.6250   0.735000    0.110000\n",
       "AKAM          0.2175   0.327917    0.110417\n",
       "ADBE          0.3450   0.456250    0.111250\n",
       "\n",
       "[71 rows x 3 columns]"
      ]
     },
     "execution_count": 28,
     "metadata": {},
     "output_type": "execute_result"
    }
   ],
   "source": [
    "# this looks right\n",
    "\n",
    "df_eps_cand"
   ]
  },
  {
   "cell_type": "code",
   "execution_count": 29,
   "metadata": {},
   "outputs": [],
   "source": [
    "# build candidate pool for roe\n",
    "\n",
    "ratio_roe = int(round(len(df_roe.index)*0.2))\n",
    "df_roe_cand = df_roe\n",
    "df_roe_cand['difference'] = abs(df_roe['Recession ROE']-df_roe['07-18 ROE'])\n",
    "df_roe_cand.sort_values(by=['difference'], inplace=True)\n",
    "df_roe_cand = df_roe_cand.iloc[0:ratio_roe, [0, 1, 3]]"
   ]
  },
  {
   "cell_type": "code",
   "execution_count": 30,
   "metadata": {
    "scrolled": true
   },
   "outputs": [
    {
     "data": {
      "text/html": [
       "<div>\n",
       "<style scoped>\n",
       "    .dataframe tbody tr th:only-of-type {\n",
       "        vertical-align: middle;\n",
       "    }\n",
       "\n",
       "    .dataframe tbody tr th {\n",
       "        vertical-align: top;\n",
       "    }\n",
       "\n",
       "    .dataframe thead th {\n",
       "        text-align: right;\n",
       "    }\n",
       "</style>\n",
       "<table border=\"1\" class=\"dataframe\">\n",
       "  <thead>\n",
       "    <tr style=\"text-align: right;\">\n",
       "      <th></th>\n",
       "      <th>Recession ROE</th>\n",
       "      <th>07-18 ROE</th>\n",
       "      <th>difference</th>\n",
       "    </tr>\n",
       "    <tr>\n",
       "      <th>Stock</th>\n",
       "      <th></th>\n",
       "      <th></th>\n",
       "      <th></th>\n",
       "    </tr>\n",
       "  </thead>\n",
       "  <tbody>\n",
       "    <tr>\n",
       "      <th>UA</th>\n",
       "      <td>0.131050</td>\n",
       "      <td>0.131415</td>\n",
       "      <td>0.000365</td>\n",
       "    </tr>\n",
       "    <tr>\n",
       "      <th>TXT</th>\n",
       "      <td>0.132825</td>\n",
       "      <td>0.132448</td>\n",
       "      <td>0.000377</td>\n",
       "    </tr>\n",
       "    <tr>\n",
       "      <th>TGT</th>\n",
       "      <td>0.171875</td>\n",
       "      <td>0.171494</td>\n",
       "      <td>0.000381</td>\n",
       "    </tr>\n",
       "    <tr>\n",
       "      <th>AMGN</th>\n",
       "      <td>0.213800</td>\n",
       "      <td>0.213265</td>\n",
       "      <td>0.000535</td>\n",
       "    </tr>\n",
       "    <tr>\n",
       "      <th>KO</th>\n",
       "      <td>0.265350</td>\n",
       "      <td>0.266310</td>\n",
       "      <td>0.000960</td>\n",
       "    </tr>\n",
       "    <tr>\n",
       "      <th>CERN</th>\n",
       "      <td>0.144000</td>\n",
       "      <td>0.145277</td>\n",
       "      <td>0.001277</td>\n",
       "    </tr>\n",
       "    <tr>\n",
       "      <th>XLNX</th>\n",
       "      <td>0.222375</td>\n",
       "      <td>0.220785</td>\n",
       "      <td>0.001590</td>\n",
       "    </tr>\n",
       "    <tr>\n",
       "      <th>DHR</th>\n",
       "      <td>0.129275</td>\n",
       "      <td>0.127673</td>\n",
       "      <td>0.001602</td>\n",
       "    </tr>\n",
       "    <tr>\n",
       "      <th>MET</th>\n",
       "      <td>0.064550</td>\n",
       "      <td>0.066396</td>\n",
       "      <td>0.001846</td>\n",
       "    </tr>\n",
       "    <tr>\n",
       "      <th>XRX</th>\n",
       "      <td>0.062900</td>\n",
       "      <td>0.064767</td>\n",
       "      <td>0.001867</td>\n",
       "    </tr>\n",
       "    <tr>\n",
       "      <th>PXD</th>\n",
       "      <td>0.048250</td>\n",
       "      <td>0.050346</td>\n",
       "      <td>0.002096</td>\n",
       "    </tr>\n",
       "    <tr>\n",
       "      <th>AJG</th>\n",
       "      <td>0.131075</td>\n",
       "      <td>0.133331</td>\n",
       "      <td>0.002256</td>\n",
       "    </tr>\n",
       "    <tr>\n",
       "      <th>ANSS</th>\n",
       "      <td>0.111950</td>\n",
       "      <td>0.114323</td>\n",
       "      <td>0.002373</td>\n",
       "    </tr>\n",
       "    <tr>\n",
       "      <th>AKAM</th>\n",
       "      <td>0.095550</td>\n",
       "      <td>0.093150</td>\n",
       "      <td>0.002400</td>\n",
       "    </tr>\n",
       "    <tr>\n",
       "      <th>ISRG</th>\n",
       "      <td>0.175000</td>\n",
       "      <td>0.172456</td>\n",
       "      <td>0.002544</td>\n",
       "    </tr>\n",
       "    <tr>\n",
       "      <th>KSS</th>\n",
       "      <td>0.147600</td>\n",
       "      <td>0.150208</td>\n",
       "      <td>0.002608</td>\n",
       "    </tr>\n",
       "    <tr>\n",
       "      <th>T</th>\n",
       "      <td>0.119250</td>\n",
       "      <td>0.122471</td>\n",
       "      <td>0.003221</td>\n",
       "    </tr>\n",
       "    <tr>\n",
       "      <th>EXPD</th>\n",
       "      <td>0.216700</td>\n",
       "      <td>0.213377</td>\n",
       "      <td>0.003323</td>\n",
       "    </tr>\n",
       "    <tr>\n",
       "      <th>XEL</th>\n",
       "      <td>0.096225</td>\n",
       "      <td>0.099573</td>\n",
       "      <td>0.003348</td>\n",
       "    </tr>\n",
       "    <tr>\n",
       "      <th>DGX</th>\n",
       "      <td>0.154075</td>\n",
       "      <td>0.157577</td>\n",
       "      <td>0.003502</td>\n",
       "    </tr>\n",
       "    <tr>\n",
       "      <th>DUK</th>\n",
       "      <td>0.059350</td>\n",
       "      <td>0.062887</td>\n",
       "      <td>0.003537</td>\n",
       "    </tr>\n",
       "    <tr>\n",
       "      <th>QCOM</th>\n",
       "      <td>0.136400</td>\n",
       "      <td>0.140015</td>\n",
       "      <td>0.003615</td>\n",
       "    </tr>\n",
       "    <tr>\n",
       "      <th>PWR</th>\n",
       "      <td>0.066075</td>\n",
       "      <td>0.069894</td>\n",
       "      <td>0.003819</td>\n",
       "    </tr>\n",
       "    <tr>\n",
       "      <th>FRT</th>\n",
       "      <td>0.128025</td>\n",
       "      <td>0.124015</td>\n",
       "      <td>0.004010</td>\n",
       "    </tr>\n",
       "    <tr>\n",
       "      <th>NTRS</th>\n",
       "      <td>0.125750</td>\n",
       "      <td>0.121677</td>\n",
       "      <td>0.004073</td>\n",
       "    </tr>\n",
       "    <tr>\n",
       "      <th>HST</th>\n",
       "      <td>0.062500</td>\n",
       "      <td>0.058298</td>\n",
       "      <td>0.004202</td>\n",
       "    </tr>\n",
       "    <tr>\n",
       "      <th>LNT</th>\n",
       "      <td>0.114275</td>\n",
       "      <td>0.109873</td>\n",
       "      <td>0.004402</td>\n",
       "    </tr>\n",
       "    <tr>\n",
       "      <th>TIF</th>\n",
       "      <td>0.156550</td>\n",
       "      <td>0.151969</td>\n",
       "      <td>0.004581</td>\n",
       "    </tr>\n",
       "    <tr>\n",
       "      <th>NFLX</th>\n",
       "      <td>0.247575</td>\n",
       "      <td>0.252194</td>\n",
       "      <td>0.004619</td>\n",
       "    </tr>\n",
       "    <tr>\n",
       "      <th>RJF</th>\n",
       "      <td>0.110425</td>\n",
       "      <td>0.115106</td>\n",
       "      <td>0.004681</td>\n",
       "    </tr>\n",
       "    <tr>\n",
       "      <th>ROP</th>\n",
       "      <td>0.139850</td>\n",
       "      <td>0.134885</td>\n",
       "      <td>0.004965</td>\n",
       "    </tr>\n",
       "    <tr>\n",
       "      <th>AME</th>\n",
       "      <td>0.184275</td>\n",
       "      <td>0.179202</td>\n",
       "      <td>0.005073</td>\n",
       "    </tr>\n",
       "    <tr>\n",
       "      <th>HOG</th>\n",
       "      <td>0.250100</td>\n",
       "      <td>0.244663</td>\n",
       "      <td>0.005437</td>\n",
       "    </tr>\n",
       "    <tr>\n",
       "      <th>AIZ</th>\n",
       "      <td>0.096400</td>\n",
       "      <td>0.102348</td>\n",
       "      <td>0.005948</td>\n",
       "    </tr>\n",
       "    <tr>\n",
       "      <th>CMS</th>\n",
       "      <td>0.096050</td>\n",
       "      <td>0.102065</td>\n",
       "      <td>0.006015</td>\n",
       "    </tr>\n",
       "    <tr>\n",
       "      <th>WMT</th>\n",
       "      <td>0.207725</td>\n",
       "      <td>0.200931</td>\n",
       "      <td>0.006794</td>\n",
       "    </tr>\n",
       "    <tr>\n",
       "      <th>DTE</th>\n",
       "      <td>0.095925</td>\n",
       "      <td>0.102915</td>\n",
       "      <td>0.006990</td>\n",
       "    </tr>\n",
       "    <tr>\n",
       "      <th>AFL</th>\n",
       "      <td>0.188175</td>\n",
       "      <td>0.180512</td>\n",
       "      <td>0.007663</td>\n",
       "    </tr>\n",
       "    <tr>\n",
       "      <th>SJM</th>\n",
       "      <td>0.089050</td>\n",
       "      <td>0.097742</td>\n",
       "      <td>0.008692</td>\n",
       "    </tr>\n",
       "    <tr>\n",
       "      <th>SNA</th>\n",
       "      <td>0.166225</td>\n",
       "      <td>0.174948</td>\n",
       "      <td>0.008723</td>\n",
       "    </tr>\n",
       "    <tr>\n",
       "      <th>PKI</th>\n",
       "      <td>0.078975</td>\n",
       "      <td>0.088004</td>\n",
       "      <td>0.009029</td>\n",
       "    </tr>\n",
       "    <tr>\n",
       "      <th>ETN</th>\n",
       "      <td>0.132225</td>\n",
       "      <td>0.141596</td>\n",
       "      <td>0.009371</td>\n",
       "    </tr>\n",
       "    <tr>\n",
       "      <th>CINF</th>\n",
       "      <td>0.098475</td>\n",
       "      <td>0.089060</td>\n",
       "      <td>0.009415</td>\n",
       "    </tr>\n",
       "    <tr>\n",
       "      <th>NSC</th>\n",
       "      <td>0.161925</td>\n",
       "      <td>0.172777</td>\n",
       "      <td>0.010852</td>\n",
       "    </tr>\n",
       "    <tr>\n",
       "      <th>PCAR</th>\n",
       "      <td>0.164950</td>\n",
       "      <td>0.176375</td>\n",
       "      <td>0.011425</td>\n",
       "    </tr>\n",
       "    <tr>\n",
       "      <th>MAC</th>\n",
       "      <td>0.093825</td>\n",
       "      <td>0.105329</td>\n",
       "      <td>0.011504</td>\n",
       "    </tr>\n",
       "    <tr>\n",
       "      <th>HUM</th>\n",
       "      <td>0.171025</td>\n",
       "      <td>0.159410</td>\n",
       "      <td>0.011615</td>\n",
       "    </tr>\n",
       "    <tr>\n",
       "      <th>HAS</th>\n",
       "      <td>0.228775</td>\n",
       "      <td>0.240410</td>\n",
       "      <td>0.011635</td>\n",
       "    </tr>\n",
       "    <tr>\n",
       "      <th>RCL</th>\n",
       "      <td>0.072950</td>\n",
       "      <td>0.084673</td>\n",
       "      <td>0.011723</td>\n",
       "    </tr>\n",
       "    <tr>\n",
       "      <th>BBT</th>\n",
       "      <td>0.100700</td>\n",
       "      <td>0.088940</td>\n",
       "      <td>0.011760</td>\n",
       "    </tr>\n",
       "    <tr>\n",
       "      <th>CAH</th>\n",
       "      <td>0.152925</td>\n",
       "      <td>0.164748</td>\n",
       "      <td>0.011823</td>\n",
       "    </tr>\n",
       "    <tr>\n",
       "      <th>ED</th>\n",
       "      <td>0.109700</td>\n",
       "      <td>0.096565</td>\n",
       "      <td>0.013135</td>\n",
       "    </tr>\n",
       "    <tr>\n",
       "      <th>REG</th>\n",
       "      <td>0.061100</td>\n",
       "      <td>0.047160</td>\n",
       "      <td>0.013940</td>\n",
       "    </tr>\n",
       "    <tr>\n",
       "      <th>SO</th>\n",
       "      <td>0.125800</td>\n",
       "      <td>0.111475</td>\n",
       "      <td>0.014325</td>\n",
       "    </tr>\n",
       "    <tr>\n",
       "      <th>SLG</th>\n",
       "      <td>0.076275</td>\n",
       "      <td>0.061837</td>\n",
       "      <td>0.014437</td>\n",
       "    </tr>\n",
       "    <tr>\n",
       "      <th>EBAY</th>\n",
       "      <td>0.155350</td>\n",
       "      <td>0.169831</td>\n",
       "      <td>0.014481</td>\n",
       "    </tr>\n",
       "    <tr>\n",
       "      <th>EFX</th>\n",
       "      <td>0.187225</td>\n",
       "      <td>0.172656</td>\n",
       "      <td>0.014569</td>\n",
       "    </tr>\n",
       "    <tr>\n",
       "      <th>BLL</th>\n",
       "      <td>0.242525</td>\n",
       "      <td>0.257619</td>\n",
       "      <td>0.015094</td>\n",
       "    </tr>\n",
       "    <tr>\n",
       "      <th>EMR</th>\n",
       "      <td>0.242475</td>\n",
       "      <td>0.227290</td>\n",
       "      <td>0.015185</td>\n",
       "    </tr>\n",
       "    <tr>\n",
       "      <th>CVS</th>\n",
       "      <td>0.094450</td>\n",
       "      <td>0.109665</td>\n",
       "      <td>0.015215</td>\n",
       "    </tr>\n",
       "  </tbody>\n",
       "</table>\n",
       "</div>"
      ],
      "text/plain": [
       "       Recession ROE  07-18 ROE  difference\n",
       "Stock                                      \n",
       "UA          0.131050   0.131415    0.000365\n",
       "TXT         0.132825   0.132448    0.000377\n",
       "TGT         0.171875   0.171494    0.000381\n",
       "AMGN        0.213800   0.213265    0.000535\n",
       "KO          0.265350   0.266310    0.000960\n",
       "CERN        0.144000   0.145277    0.001277\n",
       "XLNX        0.222375   0.220785    0.001590\n",
       "DHR         0.129275   0.127673    0.001602\n",
       "MET         0.064550   0.066396    0.001846\n",
       "XRX         0.062900   0.064767    0.001867\n",
       "PXD         0.048250   0.050346    0.002096\n",
       "AJG         0.131075   0.133331    0.002256\n",
       "ANSS        0.111950   0.114323    0.002373\n",
       "AKAM        0.095550   0.093150    0.002400\n",
       "ISRG        0.175000   0.172456    0.002544\n",
       "KSS         0.147600   0.150208    0.002608\n",
       "T           0.119250   0.122471    0.003221\n",
       "EXPD        0.216700   0.213377    0.003323\n",
       "XEL         0.096225   0.099573    0.003348\n",
       "DGX         0.154075   0.157577    0.003502\n",
       "DUK         0.059350   0.062887    0.003537\n",
       "QCOM        0.136400   0.140015    0.003615\n",
       "PWR         0.066075   0.069894    0.003819\n",
       "FRT         0.128025   0.124015    0.004010\n",
       "NTRS        0.125750   0.121677    0.004073\n",
       "HST         0.062500   0.058298    0.004202\n",
       "LNT         0.114275   0.109873    0.004402\n",
       "TIF         0.156550   0.151969    0.004581\n",
       "NFLX        0.247575   0.252194    0.004619\n",
       "RJF         0.110425   0.115106    0.004681\n",
       "ROP         0.139850   0.134885    0.004965\n",
       "AME         0.184275   0.179202    0.005073\n",
       "HOG         0.250100   0.244663    0.005437\n",
       "AIZ         0.096400   0.102348    0.005948\n",
       "CMS         0.096050   0.102065    0.006015\n",
       "WMT         0.207725   0.200931    0.006794\n",
       "DTE         0.095925   0.102915    0.006990\n",
       "AFL         0.188175   0.180512    0.007663\n",
       "SJM         0.089050   0.097742    0.008692\n",
       "SNA         0.166225   0.174948    0.008723\n",
       "PKI         0.078975   0.088004    0.009029\n",
       "ETN         0.132225   0.141596    0.009371\n",
       "CINF        0.098475   0.089060    0.009415\n",
       "NSC         0.161925   0.172777    0.010852\n",
       "PCAR        0.164950   0.176375    0.011425\n",
       "MAC         0.093825   0.105329    0.011504\n",
       "HUM         0.171025   0.159410    0.011615\n",
       "HAS         0.228775   0.240410    0.011635\n",
       "RCL         0.072950   0.084673    0.011723\n",
       "BBT         0.100700   0.088940    0.011760\n",
       "CAH         0.152925   0.164748    0.011823\n",
       "ED          0.109700   0.096565    0.013135\n",
       "REG         0.061100   0.047160    0.013940\n",
       "SO          0.125800   0.111475    0.014325\n",
       "SLG         0.076275   0.061837    0.014437\n",
       "EBAY        0.155350   0.169831    0.014481\n",
       "EFX         0.187225   0.172656    0.014569\n",
       "BLL         0.242525   0.257619    0.015094\n",
       "EMR         0.242475   0.227290    0.015185\n",
       "CVS         0.094450   0.109665    0.015215"
      ]
     },
     "execution_count": 30,
     "metadata": {},
     "output_type": "execute_result"
    }
   ],
   "source": [
    "df_roe_cand"
   ]
  },
  {
   "cell_type": "code",
   "execution_count": null,
   "metadata": {},
   "outputs": [],
   "source": []
  }
 ],
 "metadata": {
  "kernelspec": {
   "display_name": "Python 3",
   "language": "python",
   "name": "python3"
  },
  "language_info": {
   "codemirror_mode": {
    "name": "ipython",
    "version": 3
   },
   "file_extension": ".py",
   "mimetype": "text/x-python",
   "name": "python",
   "nbconvert_exporter": "python",
   "pygments_lexer": "ipython3",
   "version": "3.7.3"
  }
 },
 "nbformat": 4,
 "nbformat_minor": 2
}
